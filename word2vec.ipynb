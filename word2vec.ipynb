{
 "cells": [
  {
   "cell_type": "code",
   "execution_count": 149,
   "id": "caf6ab00",
   "metadata": {},
   "outputs": [],
   "source": [
    "import os\n",
    "import nltk\n",
    "import re\n",
    "from hazm import word_tokenize, Lemmatizer, Stemmer, Normalizer\n",
    "from pprint import pprint"
   ]
  },
  {
   "cell_type": "code",
   "execution_count": 150,
   "id": "c7e79b6e",
   "metadata": {},
   "outputs": [],
   "source": [
    "file = open(os.getcwd() + \"/Shams_Corpus_Paper3.txt\", \"rt\")\n",
    "raw_text = file.read()\n",
    "file.close()"
   ]
  },
  {
   "cell_type": "code",
   "execution_count": 151,
   "id": "673044c4",
   "metadata": {},
   "outputs": [],
   "source": [
    "def remove_persian_stopword(tokens):\n",
    "    file = open(os.getcwd() + \"/persian_stopw.txt\", \"rt\")\n",
    "    raw_stop_words = file.read()\n",
    "    file.close()\n",
    "\n",
    "    stop_words = word_tokenize(raw_stop_words)\n",
    "\n",
    "    return [word for word in tokens if not word in stop_words]"
   ]
  },
  {
   "cell_type": "code",
   "execution_count": 152,
   "id": "dc545103",
   "metadata": {},
   "outputs": [],
   "source": [
    "def normalize_text(text):\n",
    "    normalizer = Normalizer()\n",
    "    \n",
    "    return normalizer.normalize(text)"
   ]
  },
  {
   "cell_type": "code",
   "execution_count": 153,
   "id": "f8bd82b3",
   "metadata": {},
   "outputs": [],
   "source": [
    "def lemma_tokenizer(tokens):\n",
    "    lemmatizer = Lemmatizer()    \n",
    "    return [lemmatizer.lemmatize(token) for token in tokens]"
   ]
  },
  {
   "cell_type": "code",
   "execution_count": 154,
   "id": "32725243",
   "metadata": {},
   "outputs": [],
   "source": [
    "def stem_tokenizer(tokens):\n",
    "    stemmer = Stemmer()\n",
    "    return [stemmer.stem(token) for token in tokens]"
   ]
  },
  {
   "cell_type": "code",
   "execution_count": 155,
   "id": "7245f720",
   "metadata": {},
   "outputs": [
    {
     "data": {
      "text/plain": [
       "78389"
      ]
     },
     "execution_count": 155,
     "metadata": {},
     "output_type": "execute_result"
    }
   ],
   "source": [
    "raw_text = \"\".join([i for i in raw_text if not i.isdigit()])\n",
    "raw_text = re.sub(r\"-+|\\d+\", \"\", raw_text)\n",
    "\n",
    "raw_text = normalize_text(raw_text)\n",
    "\n",
    "raw_tokens = word_tokenize(raw_text)\n",
    "len(raw_tokens)"
   ]
  },
  {
   "cell_type": "code",
   "execution_count": 156,
   "id": "43de9372",
   "metadata": {},
   "outputs": [
    {
     "data": {
      "text/plain": [
       "53190"
      ]
     },
     "execution_count": 156,
     "metadata": {},
     "output_type": "execute_result"
    }
   ],
   "source": [
    "tokens = remove_persian_stopword(raw_tokens)\n",
    "len(tokens)"
   ]
  },
  {
   "cell_type": "code",
   "execution_count": 157,
   "id": "e8dd20c3",
   "metadata": {},
   "outputs": [
    {
     "name": "stdout",
     "output_type": "stream",
     "text": [
      "['قیصر', 'قصر', 'میل', 'چو', 'بهشتی', 'قصر', 'مشید', 'گفت#گو', 'ای', 'ظلمت']\n",
      "['قیصر', 'قصر', 'میل', 'چو', 'بهشت', 'قصر', 'مشید', 'گف', 'ا', 'ظلمت']\n"
     ]
    }
   ],
   "source": [
    "lammatized_tokens = lemma_tokenizer(tokens)\n",
    "pprint(lammatized_tokens[90:100])\n",
    "\n",
    "stemmed_tokens = stem_tokenizer(tokens)\n",
    "pprint(stemmed_tokens[90:100])"
   ]
  },
  {
   "cell_type": "code",
   "execution_count": 158,
   "id": "a91ff0dd",
   "metadata": {
    "scrolled": false
   },
   "outputs": [
    {
     "data": {
      "text/plain": [
       "['قیصر', 'قصر', 'میل', 'چو', 'بهشتی', 'قصر', 'مشید', 'گفتم', 'ای', 'ظلمتت']"
      ]
     },
     "execution_count": 158,
     "metadata": {},
     "output_type": "execute_result"
    }
   ],
   "source": [
    "tokens[90:100]"
   ]
  },
  {
   "cell_type": "code",
   "execution_count": null,
   "id": "fa1465b4",
   "metadata": {},
   "outputs": [],
   "source": []
  }
 ],
 "metadata": {
  "kernelspec": {
   "display_name": "Python 3 (ipykernel)",
   "language": "python",
   "name": "python3"
  },
  "language_info": {
   "codemirror_mode": {
    "name": "ipython",
    "version": 3
   },
   "file_extension": ".py",
   "mimetype": "text/x-python",
   "name": "python",
   "nbconvert_exporter": "python",
   "pygments_lexer": "ipython3",
   "version": "3.8.11"
  }
 },
 "nbformat": 4,
 "nbformat_minor": 5
}
