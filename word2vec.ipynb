{
 "cells": [
  {
   "cell_type": "code",
   "execution_count": 2,
   "id": "caf6ab00",
   "metadata": {},
   "outputs": [],
   "source": [
    "import os\n",
    "import nltk\n",
    "import re\n",
    "import numpy as np\n",
    "from hazm import word_tokenize, Lemmatizer, Stemmer, Normalizer\n",
    "from pprint import pprint\n",
    "import pandas as pd"
   ]
  },
  {
   "cell_type": "code",
   "execution_count": 3,
   "id": "25d9f4c8",
   "metadata": {},
   "outputs": [
    {
     "data": {
      "text/plain": [
       "دیوان شمس تبریزی (غزلیات)    صورت دل صورت مخلوق نیست\\tکز رخ دل حسن خدا رو نمود\n",
       "Name: 5, dtype: object"
      ]
     },
     "execution_count": 3,
     "metadata": {},
     "output_type": "execute_result"
    }
   ],
   "source": [
    "raw_text = pd.read_csv('Shams_Corpus_Paper3.txt')\n",
    "raw_text.iloc[5]"
   ]
  },
  {
   "cell_type": "code",
   "execution_count": 4,
   "id": "c7e79b6e",
   "metadata": {},
   "outputs": [],
   "source": [
    "file = open(os.getcwd() + \"/Shams_Corpus_Paper3.txt\", \"rt\")\n",
    "raw_text = file.read()\n",
    "file.close()\n"
   ]
  },
  {
   "cell_type": "raw",
   "id": "5197e174",
   "metadata": {},
   "source": [
    "#raw_text"
   ]
  },
  {
   "cell_type": "code",
   "execution_count": 5,
   "id": "673044c4",
   "metadata": {},
   "outputs": [],
   "source": [
    "def remove_persian_stopword(tokens):\n",
    "    file = open(os.getcwd() + \"/persian_stopw.txt\", \"rt\")\n",
    "    raw_stop_words = file.read()\n",
    "    file.close()\n",
    "\n",
    "    stop_words = word_tokenize(raw_stop_words)\n",
    "\n",
    "    return [word for word in tokens if not word in stop_words]"
   ]
  },
  {
   "cell_type": "code",
   "execution_count": 6,
   "id": "dc545103",
   "metadata": {},
   "outputs": [],
   "source": [
    "def normalize_text(text):\n",
    "    normalizer = Normalizer()\n",
    "    \n",
    "    return normalizer.normalize(text)"
   ]
  },
  {
   "cell_type": "code",
   "execution_count": 7,
   "id": "f8bd82b3",
   "metadata": {},
   "outputs": [],
   "source": [
    "def lemma_tokenizer(tokens):\n",
    "    lemmatizer = Lemmatizer()    \n",
    "    return [lemmatizer.lemmatize(token) for token in tokens]"
   ]
  },
  {
   "cell_type": "code",
   "execution_count": 8,
   "id": "32725243",
   "metadata": {},
   "outputs": [],
   "source": [
    "def stem_tokenizer(tokens):\n",
    "    stemmer = Stemmer()\n",
    "    return [stemmer.stem(token) for token in tokens]"
   ]
  },
  {
   "cell_type": "code",
   "execution_count": 9,
   "id": "7245f720",
   "metadata": {
    "scrolled": true
   },
   "outputs": [
    {
     "data": {
      "text/plain": [
       "78389"
      ]
     },
     "execution_count": 9,
     "metadata": {},
     "output_type": "execute_result"
    }
   ],
   "source": [
    "raw_text = \"\".join([i for i in raw_text if not i.isdigit()])\n",
    "raw_text = re.sub(r\"-+|\\d+\", \"\", raw_text)\n",
    "\n",
    "raw_text = normalize_text(raw_text)\n",
    "\n",
    "raw_tokens = word_tokenize(raw_text)\n",
    "len(raw_tokens)"
   ]
  },
  {
   "cell_type": "code",
   "execution_count": 11,
   "id": "a8ff051e",
   "metadata": {},
   "outputs": [
    {
     "data": {
      "text/plain": [
       "list"
      ]
     },
     "execution_count": 11,
     "metadata": {},
     "output_type": "execute_result"
    }
   ],
   "source": [
    "type(raw_tokens)"
   ]
  },
  {
   "cell_type": "code",
   "execution_count": 70,
   "id": "43de9372",
   "metadata": {},
   "outputs": [
    {
     "data": {
      "text/plain": [
       "1405"
      ]
     },
     "execution_count": 70,
     "metadata": {},
     "output_type": "execute_result"
    }
   ],
   "source": [
    "tokens = remove_persian_stopword(raw_tokens[:2000])\n",
    "len(tokens)"
   ]
  },
  {
   "cell_type": "code",
   "execution_count": 14,
   "id": "e8dd20c3",
   "metadata": {},
   "outputs": [
    {
     "name": "stdout",
     "output_type": "stream",
     "text": [
      "['قیصر', 'قصر', 'میل', 'چو', 'بهشتی', 'قصر', 'مشید', 'گفت#گو', 'ای', 'ظلمت']\n",
      "['قیصر', 'قصر', 'میل', 'چو', 'بهشت', 'قصر', 'مشید', 'گف', 'ا', 'ظلمت']\n"
     ]
    }
   ],
   "source": [
    "lammatized_tokens = lemma_tokenizer(tokens)\n",
    "pprint(lammatized_tokens[90:100])\n",
    "\n",
    "stemmed_tokens = stem_tokenizer(tokens)\n",
    "pprint(stemmed_tokens[90:100])"
   ]
  },
  {
   "cell_type": "code",
   "execution_count": 15,
   "id": "a91ff0dd",
   "metadata": {
    "scrolled": false
   },
   "outputs": [
    {
     "data": {
      "text/plain": [
       "['قیصر', 'قصر', 'میل', 'چو', 'بهشتی', 'قصر', 'مشید', 'گفتم', 'ای', 'ظلمتت']"
      ]
     },
     "execution_count": 15,
     "metadata": {},
     "output_type": "execute_result"
    }
   ],
   "source": [
    "tokens[90:100]"
   ]
  },
  {
   "cell_type": "code",
   "execution_count": 16,
   "id": "dd7624ae",
   "metadata": {},
   "outputs": [
    {
     "name": "stderr",
     "output_type": "stream",
     "text": [
      "2022-05-03 02:10:00.420346: W tensorflow/stream_executor/platform/default/dso_loader.cc:64] Could not load dynamic library 'libcudart.so.11.0'; dlerror: libcudart.so.11.0: cannot open shared object file: No such file or directory\n",
      "2022-05-03 02:10:00.420434: I tensorflow/stream_executor/cuda/cudart_stub.cc:29] Ignore above cudart dlerror if you do not have a GPU set up on your machine.\n"
     ]
    }
   ],
   "source": [
    "import tensorflow as tf"
   ]
  },
  {
   "cell_type": "code",
   "execution_count": 17,
   "id": "0b93d125",
   "metadata": {
    "scrolled": true
   },
   "outputs": [
    {
     "data": {
      "text/plain": [
       "<module 'tensorflow' from '/home/emoji/anaconda3/envs/first_numpy_pandas/lib/python3.8/site-packages/tensorflow/__init__.py'>"
      ]
     },
     "execution_count": 17,
     "metadata": {},
     "output_type": "execute_result"
    }
   ],
   "source": [
    "tf"
   ]
  },
  {
   "cell_type": "code",
   "execution_count": 3,
   "id": "3b03b65e",
   "metadata": {},
   "outputs": [],
   "source": [
    "text = '''Machine learning is the study of computer algorithms that \\\n",
    "improve automatically through experience. It is seen as a \\\n",
    "subset of artificial intelligence. Machine learning algorithms \\\n",
    "build a mathematical model based on sample data, known as \\\n",
    "training data, in order to make predictions or decisions without \\\n",
    "being explicitly programmed to do so. Machine learning algorithms \\\n",
    "are used in a wide variety of applications, such as email filtering \\\n",
    "and computer vision, where it is difficult or infeasible to develop \\\n",
    "conventional algorithms to perform the needed tasks.'''"
   ]
  },
  {
   "cell_type": "code",
   "execution_count": 17,
   "id": "412e0c62",
   "metadata": {},
   "outputs": [],
   "source": [
    "import re\n",
    "\n",
    "def tokenize(text):\n",
    "    pattern = re.compile(r'[A-Za-z]+[\\w^\\']*|[\\w^\\']*[A-Za-z]+[\\w^\\']*')\n",
    "    return pattern.findall(text.lower())"
   ]
  },
  {
   "cell_type": "code",
   "execution_count": 18,
   "id": "af7972d1",
   "metadata": {},
   "outputs": [
    {
     "ename": "NameError",
     "evalue": "name 'tokenize' is not defined",
     "output_type": "error",
     "traceback": [
      "\u001b[0;31m---------------------------------------------------------------------------\u001b[0m",
      "\u001b[0;31mNameError\u001b[0m                                 Traceback (most recent call last)",
      "\u001b[0;32m/tmp/ipykernel_258999/2546023298.py\u001b[0m in \u001b[0;36m<module>\u001b[0;34m\u001b[0m\n\u001b[0;32m----> 1\u001b[0;31m \u001b[0mtokens\u001b[0m \u001b[0;34m=\u001b[0m \u001b[0mtokenize\u001b[0m\u001b[0;34m(\u001b[0m\u001b[0mtext\u001b[0m\u001b[0;34m)\u001b[0m\u001b[0;34m\u001b[0m\u001b[0;34m\u001b[0m\u001b[0m\n\u001b[0m\u001b[1;32m      2\u001b[0m \u001b[0mtokens\u001b[0m\u001b[0;34m\u001b[0m\u001b[0;34m\u001b[0m\u001b[0m\n",
      "\u001b[0;31mNameError\u001b[0m: name 'tokenize' is not defined"
     ]
    }
   ],
   "source": [
    "tokens = tokenize(text)\n",
    "tokens"
   ]
  },
  {
   "cell_type": "code",
   "execution_count": 18,
   "id": "095d8bf0",
   "metadata": {},
   "outputs": [],
   "source": [
    "def mapping(tokens):\n",
    "    word_to_id = {}\n",
    "    id_to_word = {}\n",
    "    \n",
    "    for i, token in enumerate(set(tokens)):\n",
    "        word_to_id[token] = i\n",
    "        id_to_word[i] = token\n",
    "    \n",
    "    return word_to_id, id_to_word"
   ]
  },
  {
   "cell_type": "code",
   "execution_count": 95,
   "id": "6c22d0b0",
   "metadata": {},
   "outputs": [],
   "source": [
    "word_to_id, id_to_word = mapping(tokens)\n",
    "#word_to_id"
   ]
  },
  {
   "cell_type": "code",
   "execution_count": 96,
   "id": "fe88e5ee",
   "metadata": {},
   "outputs": [
    {
     "data": {
      "text/plain": [
       "968"
      ]
     },
     "execution_count": 96,
     "metadata": {},
     "output_type": "execute_result"
    }
   ],
   "source": [
    "len(word_to_id)"
   ]
  },
  {
   "cell_type": "code",
   "execution_count": 21,
   "id": "19d12732",
   "metadata": {},
   "outputs": [],
   "source": [
    "def concat(*iterables):\n",
    "    for iterable in iterables:\n",
    "        yield from iterable"
   ]
  },
  {
   "cell_type": "code",
   "execution_count": 22,
   "id": "b7ac2f2d",
   "metadata": {},
   "outputs": [],
   "source": [
    "def one_hot_encode(id, vocab_size):\n",
    "    res = [0] * vocab_size\n",
    "    res[id] = 1\n",
    "    return res"
   ]
  },
  {
   "cell_type": "code",
   "execution_count": 23,
   "id": "df8fb687",
   "metadata": {},
   "outputs": [],
   "source": [
    "import numpy as np\n",
    "\n",
    "np.random.seed(42)\n",
    "\n",
    "\n",
    "def generate_training_data(tokens, word_to_id, window):\n",
    "    X = []\n",
    "    y = []\n",
    "    n_tokens = len(tokens)\n",
    "    \n",
    "    for i in range(n_tokens):\n",
    "        idx = concat(\n",
    "            range(max(0, i - window), i), \n",
    "            range(i, min(n_tokens, i + window + 1))\n",
    "        )\n",
    "        for j in idx:\n",
    "            if i == j:\n",
    "                continue\n",
    "            X.append(one_hot_encode(word_to_id[tokens[i]], len(word_to_id)))\n",
    "            y.append(one_hot_encode(word_to_id[tokens[j]], len(word_to_id)))\n",
    "    \n",
    "    return np.asarray(X), np.asarray(y)"
   ]
  },
  {
   "cell_type": "code",
   "execution_count": 74,
   "id": "234cdf56",
   "metadata": {},
   "outputs": [],
   "source": [
    "X, y = generate_training_data(tokens, word_to_id, 4)\n"
   ]
  },
  {
   "cell_type": "code",
   "execution_count": 75,
   "id": "00925af6",
   "metadata": {},
   "outputs": [
    {
     "name": "stdout",
     "output_type": "stream",
     "text": [
      "[[0 0 0 ... 0 0 0]\n",
      " [0 0 0 ... 0 0 0]\n",
      " [0 0 0 ... 0 0 0]\n",
      " [0 0 0 ... 0 0 0]]\n"
     ]
    }
   ],
   "source": [
    "print(y[5:9] ,sep = '\\n')"
   ]
  },
  {
   "cell_type": "code",
   "execution_count": 76,
   "id": "3e438cfe",
   "metadata": {},
   "outputs": [
    {
     "name": "stdout",
     "output_type": "stream",
     "text": [
      "[[0 0 0 ... 0 0 0]\n",
      " [0 0 0 ... 0 0 0]\n",
      " [0 0 0 ... 0 0 0]\n",
      " [0 0 0 ... 0 0 0]]\n"
     ]
    }
   ],
   "source": [
    "print(X[5:9] ,sep = '\\n')"
   ]
  },
  {
   "cell_type": "code",
   "execution_count": 77,
   "id": "03d4c18e",
   "metadata": {},
   "outputs": [
    {
     "data": {
      "text/plain": [
       "(11220, 968)"
      ]
     },
     "execution_count": 77,
     "metadata": {},
     "output_type": "execute_result"
    }
   ],
   "source": [
    "X.shape"
   ]
  },
  {
   "cell_type": "code",
   "execution_count": 78,
   "id": "5d41f192",
   "metadata": {},
   "outputs": [
    {
     "data": {
      "text/plain": [
       "(11220, 968)"
      ]
     },
     "execution_count": 78,
     "metadata": {},
     "output_type": "execute_result"
    }
   ],
   "source": [
    "y.shape"
   ]
  },
  {
   "cell_type": "code",
   "execution_count": 79,
   "id": "08c58aa0",
   "metadata": {},
   "outputs": [],
   "source": [
    "def init_network(vocab_size, n_embedding):\n",
    "    model = {\n",
    "        \"w1\": np.random.randn(vocab_size, n_embedding),\n",
    "        \"w2\": np.random.randn(n_embedding, vocab_size)\n",
    "    }\n",
    "    return model"
   ]
  },
  {
   "cell_type": "code",
   "execution_count": 80,
   "id": "fdbdf16a",
   "metadata": {},
   "outputs": [
    {
     "data": {
      "text/plain": [
       "(968, 10)"
      ]
     },
     "execution_count": 80,
     "metadata": {},
     "output_type": "execute_result"
    }
   ],
   "source": [
    "model = init_network(len(word_to_id), 10)\n",
    "model[\"w1\"].shape"
   ]
  },
  {
   "cell_type": "code",
   "execution_count": 81,
   "id": "574ef31c",
   "metadata": {},
   "outputs": [
    {
     "data": {
      "text/plain": [
       "(10, 968)"
      ]
     },
     "execution_count": 81,
     "metadata": {},
     "output_type": "execute_result"
    }
   ],
   "source": [
    "model[\"w2\"].shape"
   ]
  },
  {
   "cell_type": "code",
   "execution_count": 82,
   "id": "50cb3996",
   "metadata": {},
   "outputs": [],
   "source": [
    "def softmax(X):\n",
    "    res = []\n",
    "    for x in X:\n",
    "        exp = np.exp(x)\n",
    "        res.append(exp / exp.sum())\n",
    "    return res"
   ]
  },
  {
   "cell_type": "code",
   "execution_count": 83,
   "id": "010f7fce",
   "metadata": {},
   "outputs": [
    {
     "data": {
      "text/plain": [
       "(11220, 968)"
      ]
     },
     "execution_count": 83,
     "metadata": {},
     "output_type": "execute_result"
    }
   ],
   "source": [
    "X.shape"
   ]
  },
  {
   "cell_type": "code",
   "execution_count": 84,
   "id": "53f1a57e",
   "metadata": {},
   "outputs": [
    {
     "data": {
      "text/plain": [
       "(11220, 10)"
      ]
     },
     "execution_count": 84,
     "metadata": {},
     "output_type": "execute_result"
    }
   ],
   "source": [
    "(X @ model[\"w1\"]).shape"
   ]
  },
  {
   "cell_type": "code",
   "execution_count": 85,
   "id": "15316cff",
   "metadata": {},
   "outputs": [
    {
     "data": {
      "text/plain": [
       "(11220, 968)"
      ]
     },
     "execution_count": 85,
     "metadata": {},
     "output_type": "execute_result"
    }
   ],
   "source": [
    "(X @ model[\"w1\"] @ model[\"w2\"]).shape\n"
   ]
  },
  {
   "cell_type": "code",
   "execution_count": 36,
   "id": "ee9e96f3",
   "metadata": {},
   "outputs": [],
   "source": [
    "def forward(model, X, return_cache=True):\n",
    "    cache = {}\n",
    "    \n",
    "    cache[\"a1\"] = X @ model[\"w1\"]\n",
    "    cache[\"a2\"] = cache[\"a1\"] @ model[\"w2\"]\n",
    "    cache[\"z\"] = softmax(cache[\"a2\"])\n",
    "    \n",
    "    if not return_cache:\n",
    "        return cache[\"z\"]\n",
    "    return cache"
   ]
  },
  {
   "cell_type": "code",
   "execution_count": 37,
   "id": "7d802824",
   "metadata": {},
   "outputs": [],
   "source": [
    "def cross_entropy(z, y):\n",
    "    return - np.sum(np.log(z) * y)"
   ]
  },
  {
   "cell_type": "code",
   "execution_count": 38,
   "id": "a7ca33ce",
   "metadata": {},
   "outputs": [],
   "source": [
    "def backward(model, X, y, alpha):\n",
    "    cache  = forward(model, X)\n",
    "    da2 = cache[\"z\"] - y\n",
    "    dw2 = cache[\"a1\"].T @ da2\n",
    "    da1 = da2 @ model[\"w2\"].T\n",
    "    dw1 = X.T @ da1\n",
    "    assert(dw2.shape == model[\"w2\"].shape)\n",
    "    assert(dw1.shape == model[\"w1\"].shape)\n",
    "    model[\"w1\"] -= alpha * dw1\n",
    "    model[\"w2\"] -= alpha * dw2\n",
    "    return cross_entropy(cache[\"z\"], y)"
   ]
  },
  {
   "cell_type": "code",
   "execution_count": 86,
   "id": "f5673491",
   "metadata": {},
   "outputs": [
    {
     "data": {
      "image/svg+xml": [
       "<?xml version=\"1.0\" encoding=\"utf-8\" standalone=\"no\"?>\n",
       "<!DOCTYPE svg PUBLIC \"-//W3C//DTD SVG 1.1//EN\"\n",
       "  \"http://www.w3.org/Graphics/SVG/1.1/DTD/svg11.dtd\">\n",
       "<svg height=\"329.701875pt\" version=\"1.1\" viewBox=\"0 0 501.165625 329.701875\" width=\"501.165625pt\" xmlns=\"http://www.w3.org/2000/svg\" xmlns:xlink=\"http://www.w3.org/1999/xlink\">\n",
       " <metadata>\n",
       "  <rdf:RDF xmlns:cc=\"http://creativecommons.org/ns#\" xmlns:dc=\"http://purl.org/dc/elements/1.1/\" xmlns:rdf=\"http://www.w3.org/1999/02/22-rdf-syntax-ns#\">\n",
       "   <cc:Work>\n",
       "    <dc:type rdf:resource=\"http://purl.org/dc/dcmitype/StillImage\"/>\n",
       "    <dc:date>2022-05-03T02:30:18.715464</dc:date>\n",
       "    <dc:format>image/svg+xml</dc:format>\n",
       "    <dc:creator>\n",
       "     <cc:Agent>\n",
       "      <dc:title>Matplotlib v3.4.2, https://matplotlib.org/</dc:title>\n",
       "     </cc:Agent>\n",
       "    </dc:creator>\n",
       "   </cc:Work>\n",
       "  </rdf:RDF>\n",
       " </metadata>\n",
       " <defs>\n",
       "  <style type=\"text/css\">*{stroke-linecap:butt;stroke-linejoin:round;}</style>\n",
       " </defs>\n",
       " <g id=\"figure_1\">\n",
       "  <g id=\"patch_1\">\n",
       "   <path d=\"M 0 329.701875 \n",
       "L 501.165625 329.701875 \n",
       "L 501.165625 0 \n",
       "L 0 0 \n",
       "z\n",
       "\" style=\"fill:#ffffff;\"/>\n",
       "  </g>\n",
       "  <g id=\"axes_1\">\n",
       "   <g id=\"patch_2\">\n",
       "    <path d=\"M 47.565625 306.18 \n",
       "L 493.965625 306.18 \n",
       "L 493.965625 7.2 \n",
       "L 47.565625 7.2 \n",
       "z\n",
       "\" style=\"fill:#eaeaf2;\"/>\n",
       "   </g>\n",
       "   <g id=\"matplotlib.axis_1\">\n",
       "    <g id=\"xtick_1\">\n",
       "     <g id=\"line2d_1\">\n",
       "      <path clip-path=\"url(#p7e66cd38da)\" d=\"M 67.856534 306.18 \n",
       "L 67.856534 7.2 \n",
       "\" style=\"fill:none;stroke:#ffffff;stroke-linecap:round;\"/>\n",
       "     </g>\n",
       "     <g id=\"line2d_2\"/>\n",
       "     <g id=\"text_1\">\n",
       "      <!-- 0 -->\n",
       "      <g style=\"fill:#262626;\" transform=\"translate(65.076065 320.426875)scale(0.1 -0.1)\">\n",
       "       <defs>\n",
       "        <path d=\"M 3309 2203 \n",
       "Q 3309 1569 3189 1136 \n",
       "Q 3069 703 2861 436 \n",
       "Q 2653 169 2372 53 \n",
       "Q 2091 -63 1772 -63 \n",
       "Q 1450 -63 1172 53 \n",
       "Q 894 169 689 434 \n",
       "Q 484 700 367 1133 \n",
       "Q 250 1566 250 2203 \n",
       "Q 250 2869 367 3305 \n",
       "Q 484 3741 690 4000 \n",
       "Q 897 4259 1178 4364 \n",
       "Q 1459 4469 1791 4469 \n",
       "Q 2106 4469 2382 4364 \n",
       "Q 2659 4259 2865 4000 \n",
       "Q 3072 3741 3190 3305 \n",
       "Q 3309 2869 3309 2203 \n",
       "z\n",
       "M 2738 2203 \n",
       "Q 2738 2728 2675 3076 \n",
       "Q 2613 3425 2491 3633 \n",
       "Q 2369 3841 2192 3927 \n",
       "Q 2016 4013 1791 4013 \n",
       "Q 1553 4013 1372 3925 \n",
       "Q 1191 3838 1067 3630 \n",
       "Q 944 3422 881 3073 \n",
       "Q 819 2725 819 2203 \n",
       "Q 819 1697 883 1350 \n",
       "Q 947 1003 1070 792 \n",
       "Q 1194 581 1372 489 \n",
       "Q 1550 397 1778 397 \n",
       "Q 2000 397 2178 489 \n",
       "Q 2356 581 2479 792 \n",
       "Q 2603 1003 2670 1350 \n",
       "Q 2738 1697 2738 2203 \n",
       "z\n",
       "\" id=\"LiberationSans-30\" transform=\"scale(0.015625)\"/>\n",
       "       </defs>\n",
       "       <use xlink:href=\"#LiberationSans-30\"/>\n",
       "      </g>\n",
       "     </g>\n",
       "    </g>\n",
       "    <g id=\"xtick_2\">\n",
       "     <g id=\"line2d_3\">\n",
       "      <path clip-path=\"url(#p7e66cd38da)\" d=\"M 118.838718 306.18 \n",
       "L 118.838718 7.2 \n",
       "\" style=\"fill:none;stroke:#ffffff;stroke-linecap:round;\"/>\n",
       "     </g>\n",
       "     <g id=\"line2d_4\"/>\n",
       "     <g id=\"text_2\">\n",
       "      <!-- 25 -->\n",
       "      <g style=\"fill:#262626;\" transform=\"translate(113.27778 320.426875)scale(0.1 -0.1)\">\n",
       "       <defs>\n",
       "        <path d=\"M 322 0 \n",
       "L 322 397 \n",
       "Q 481 763 711 1042 \n",
       "Q 941 1322 1194 1548 \n",
       "Q 1447 1775 1695 1969 \n",
       "Q 1944 2163 2144 2356 \n",
       "Q 2344 2550 2467 2762 \n",
       "Q 2591 2975 2591 3244 \n",
       "Q 2591 3431 2534 3573 \n",
       "Q 2478 3716 2372 3812 \n",
       "Q 2266 3909 2117 3957 \n",
       "Q 1969 4006 1788 4006 \n",
       "Q 1619 4006 1470 3959 \n",
       "Q 1322 3913 1206 3819 \n",
       "Q 1091 3725 1017 3586 \n",
       "Q 944 3447 922 3263 \n",
       "L 347 3316 \n",
       "Q 375 3553 478 3762 \n",
       "Q 581 3972 762 4130 \n",
       "Q 944 4288 1198 4378 \n",
       "Q 1453 4469 1788 4469 \n",
       "Q 2116 4469 2372 4391 \n",
       "Q 2628 4313 2804 4159 \n",
       "Q 2981 4006 3075 3781 \n",
       "Q 3169 3556 3169 3263 \n",
       "Q 3169 3041 3089 2841 \n",
       "Q 3009 2641 2876 2459 \n",
       "Q 2744 2278 2569 2109 \n",
       "Q 2394 1941 2203 1780 \n",
       "Q 2013 1619 1819 1461 \n",
       "Q 1625 1303 1454 1143 \n",
       "Q 1284 984 1150 820 \n",
       "Q 1016 656 941 478 \n",
       "L 3238 478 \n",
       "L 3238 0 \n",
       "L 322 0 \n",
       "z\n",
       "\" id=\"LiberationSans-32\" transform=\"scale(0.015625)\"/>\n",
       "        <path d=\"M 3291 1434 \n",
       "Q 3291 1103 3191 828 \n",
       "Q 3091 553 2894 354 \n",
       "Q 2697 156 2405 46 \n",
       "Q 2113 -63 1728 -63 \n",
       "Q 1381 -63 1123 18 \n",
       "Q 866 100 687 242 \n",
       "Q 509 384 404 575 \n",
       "Q 300 766 256 984 \n",
       "L 825 1050 \n",
       "Q 859 925 921 808 \n",
       "Q 984 691 1092 598 \n",
       "Q 1200 506 1358 451 \n",
       "Q 1516 397 1741 397 \n",
       "Q 1959 397 2137 464 \n",
       "Q 2316 531 2442 662 \n",
       "Q 2569 794 2637 984 \n",
       "Q 2706 1175 2706 1422 \n",
       "Q 2706 1625 2640 1795 \n",
       "Q 2575 1966 2453 2089 \n",
       "Q 2331 2213 2154 2281 \n",
       "Q 1978 2350 1753 2350 \n",
       "Q 1613 2350 1494 2325 \n",
       "Q 1375 2300 1273 2256 \n",
       "Q 1172 2213 1089 2155 \n",
       "Q 1006 2097 934 2034 \n",
       "L 384 2034 \n",
       "L 531 4403 \n",
       "L 3034 4403 \n",
       "L 3034 3925 \n",
       "L 1044 3925 \n",
       "L 959 2528 \n",
       "Q 1109 2644 1334 2726 \n",
       "Q 1559 2809 1869 2809 \n",
       "Q 2197 2809 2459 2709 \n",
       "Q 2722 2609 2906 2426 \n",
       "Q 3091 2244 3191 1991 \n",
       "Q 3291 1738 3291 1434 \n",
       "z\n",
       "\" id=\"LiberationSans-35\" transform=\"scale(0.015625)\"/>\n",
       "       </defs>\n",
       "       <use xlink:href=\"#LiberationSans-32\"/>\n",
       "       <use x=\"55.615234\" xlink:href=\"#LiberationSans-35\"/>\n",
       "      </g>\n",
       "     </g>\n",
       "    </g>\n",
       "    <g id=\"xtick_3\">\n",
       "     <g id=\"line2d_5\">\n",
       "      <path clip-path=\"url(#p7e66cd38da)\" d=\"M 169.820901 306.18 \n",
       "L 169.820901 7.2 \n",
       "\" style=\"fill:none;stroke:#ffffff;stroke-linecap:round;\"/>\n",
       "     </g>\n",
       "     <g id=\"line2d_6\"/>\n",
       "     <g id=\"text_3\">\n",
       "      <!-- 50 -->\n",
       "      <g style=\"fill:#262626;\" transform=\"translate(164.259964 320.426875)scale(0.1 -0.1)\">\n",
       "       <use xlink:href=\"#LiberationSans-35\"/>\n",
       "       <use x=\"55.615234\" xlink:href=\"#LiberationSans-30\"/>\n",
       "      </g>\n",
       "     </g>\n",
       "    </g>\n",
       "    <g id=\"xtick_4\">\n",
       "     <g id=\"line2d_7\">\n",
       "      <path clip-path=\"url(#p7e66cd38da)\" d=\"M 220.803085 306.18 \n",
       "L 220.803085 7.2 \n",
       "\" style=\"fill:none;stroke:#ffffff;stroke-linecap:round;\"/>\n",
       "     </g>\n",
       "     <g id=\"line2d_8\"/>\n",
       "     <g id=\"text_4\">\n",
       "      <!-- 75 -->\n",
       "      <g style=\"fill:#262626;\" transform=\"translate(215.242148 320.426875)scale(0.1 -0.1)\">\n",
       "       <defs>\n",
       "        <path d=\"M 3238 3947 \n",
       "Q 2906 3441 2628 2973 \n",
       "Q 2350 2506 2150 2032 \n",
       "Q 1950 1559 1839 1061 \n",
       "Q 1728 563 1728 0 \n",
       "L 1141 0 \n",
       "Q 1141 528 1266 1036 \n",
       "Q 1391 1544 1603 2033 \n",
       "Q 1816 2522 2097 2994 \n",
       "Q 2378 3466 2694 3925 \n",
       "L 328 3925 \n",
       "L 328 4403 \n",
       "L 3238 4403 \n",
       "L 3238 3947 \n",
       "z\n",
       "\" id=\"LiberationSans-37\" transform=\"scale(0.015625)\"/>\n",
       "       </defs>\n",
       "       <use xlink:href=\"#LiberationSans-37\"/>\n",
       "       <use x=\"55.615234\" xlink:href=\"#LiberationSans-35\"/>\n",
       "      </g>\n",
       "     </g>\n",
       "    </g>\n",
       "    <g id=\"xtick_5\">\n",
       "     <g id=\"line2d_9\">\n",
       "      <path clip-path=\"url(#p7e66cd38da)\" d=\"M 271.785269 306.18 \n",
       "L 271.785269 7.2 \n",
       "\" style=\"fill:none;stroke:#ffffff;stroke-linecap:round;\"/>\n",
       "     </g>\n",
       "     <g id=\"line2d_10\"/>\n",
       "     <g id=\"text_5\">\n",
       "      <!-- 100 -->\n",
       "      <g style=\"fill:#262626;\" transform=\"translate(263.443862 320.426875)scale(0.1 -0.1)\">\n",
       "       <defs>\n",
       "        <path d=\"M 488 0 \n",
       "L 488 478 \n",
       "L 1609 478 \n",
       "L 1609 3866 \n",
       "L 616 3156 \n",
       "L 616 3688 \n",
       "L 1656 4403 \n",
       "L 2175 4403 \n",
       "L 2175 478 \n",
       "L 3247 478 \n",
       "L 3247 0 \n",
       "L 488 0 \n",
       "z\n",
       "\" id=\"LiberationSans-31\" transform=\"scale(0.015625)\"/>\n",
       "       </defs>\n",
       "       <use xlink:href=\"#LiberationSans-31\"/>\n",
       "       <use x=\"55.615234\" xlink:href=\"#LiberationSans-30\"/>\n",
       "       <use x=\"111.230469\" xlink:href=\"#LiberationSans-30\"/>\n",
       "      </g>\n",
       "     </g>\n",
       "    </g>\n",
       "    <g id=\"xtick_6\">\n",
       "     <g id=\"line2d_11\">\n",
       "      <path clip-path=\"url(#p7e66cd38da)\" d=\"M 322.767452 306.18 \n",
       "L 322.767452 7.2 \n",
       "\" style=\"fill:none;stroke:#ffffff;stroke-linecap:round;\"/>\n",
       "     </g>\n",
       "     <g id=\"line2d_12\"/>\n",
       "     <g id=\"text_6\">\n",
       "      <!-- 125 -->\n",
       "      <g style=\"fill:#262626;\" transform=\"translate(314.426046 320.426875)scale(0.1 -0.1)\">\n",
       "       <use xlink:href=\"#LiberationSans-31\"/>\n",
       "       <use x=\"55.615234\" xlink:href=\"#LiberationSans-32\"/>\n",
       "       <use x=\"111.230469\" xlink:href=\"#LiberationSans-35\"/>\n",
       "      </g>\n",
       "     </g>\n",
       "    </g>\n",
       "    <g id=\"xtick_7\">\n",
       "     <g id=\"line2d_13\">\n",
       "      <path clip-path=\"url(#p7e66cd38da)\" d=\"M 373.749636 306.18 \n",
       "L 373.749636 7.2 \n",
       "\" style=\"fill:none;stroke:#ffffff;stroke-linecap:round;\"/>\n",
       "     </g>\n",
       "     <g id=\"line2d_14\"/>\n",
       "     <g id=\"text_7\">\n",
       "      <!-- 150 -->\n",
       "      <g style=\"fill:#262626;\" transform=\"translate(365.40823 320.426875)scale(0.1 -0.1)\">\n",
       "       <use xlink:href=\"#LiberationSans-31\"/>\n",
       "       <use x=\"55.615234\" xlink:href=\"#LiberationSans-35\"/>\n",
       "       <use x=\"111.230469\" xlink:href=\"#LiberationSans-30\"/>\n",
       "      </g>\n",
       "     </g>\n",
       "    </g>\n",
       "    <g id=\"xtick_8\">\n",
       "     <g id=\"line2d_15\">\n",
       "      <path clip-path=\"url(#p7e66cd38da)\" d=\"M 424.73182 306.18 \n",
       "L 424.73182 7.2 \n",
       "\" style=\"fill:none;stroke:#ffffff;stroke-linecap:round;\"/>\n",
       "     </g>\n",
       "     <g id=\"line2d_16\"/>\n",
       "     <g id=\"text_8\">\n",
       "      <!-- 175 -->\n",
       "      <g style=\"fill:#262626;\" transform=\"translate(416.390413 320.426875)scale(0.1 -0.1)\">\n",
       "       <use xlink:href=\"#LiberationSans-31\"/>\n",
       "       <use x=\"55.615234\" xlink:href=\"#LiberationSans-37\"/>\n",
       "       <use x=\"111.230469\" xlink:href=\"#LiberationSans-35\"/>\n",
       "      </g>\n",
       "     </g>\n",
       "    </g>\n",
       "    <g id=\"xtick_9\">\n",
       "     <g id=\"line2d_17\">\n",
       "      <path clip-path=\"url(#p7e66cd38da)\" d=\"M 475.714003 306.18 \n",
       "L 475.714003 7.2 \n",
       "\" style=\"fill:none;stroke:#ffffff;stroke-linecap:round;\"/>\n",
       "     </g>\n",
       "     <g id=\"line2d_18\"/>\n",
       "     <g id=\"text_9\">\n",
       "      <!-- 200 -->\n",
       "      <g style=\"fill:#262626;\" transform=\"translate(467.372597 320.426875)scale(0.1 -0.1)\">\n",
       "       <use xlink:href=\"#LiberationSans-32\"/>\n",
       "       <use x=\"55.615234\" xlink:href=\"#LiberationSans-30\"/>\n",
       "       <use x=\"111.230469\" xlink:href=\"#LiberationSans-30\"/>\n",
       "      </g>\n",
       "     </g>\n",
       "    </g>\n",
       "   </g>\n",
       "   <g id=\"matplotlib.axis_2\">\n",
       "    <g id=\"ytick_1\">\n",
       "     <g id=\"line2d_19\">\n",
       "      <path clip-path=\"url(#p7e66cd38da)\" d=\"M 47.565625 281.238817 \n",
       "L 493.965625 281.238817 \n",
       "\" style=\"fill:none;stroke:#ffffff;stroke-linecap:round;\"/>\n",
       "     </g>\n",
       "     <g id=\"line2d_20\"/>\n",
       "     <g id=\"text_10\">\n",
       "      <!-- 40000 -->\n",
       "      <g style=\"fill:#262626;\" transform=\"translate(12.760938 284.862254)scale(0.1 -0.1)\">\n",
       "       <defs>\n",
       "        <path d=\"M 2753 997 \n",
       "L 2753 0 \n",
       "L 2222 0 \n",
       "L 2222 997 \n",
       "L 147 997 \n",
       "L 147 1434 \n",
       "L 2163 4403 \n",
       "L 2753 4403 \n",
       "L 2753 1441 \n",
       "L 3372 1441 \n",
       "L 3372 997 \n",
       "L 2753 997 \n",
       "z\n",
       "M 2222 3769 \n",
       "Q 2216 3753 2191 3708 \n",
       "Q 2166 3663 2134 3606 \n",
       "Q 2103 3550 2070 3492 \n",
       "Q 2038 3434 2013 3397 \n",
       "L 884 1734 \n",
       "Q 869 1709 839 1668 \n",
       "Q 809 1628 778 1586 \n",
       "Q 747 1544 715 1503 \n",
       "Q 684 1463 666 1441 \n",
       "L 2222 1441 \n",
       "L 2222 3769 \n",
       "z\n",
       "\" id=\"LiberationSans-34\" transform=\"scale(0.015625)\"/>\n",
       "       </defs>\n",
       "       <use xlink:href=\"#LiberationSans-34\"/>\n",
       "       <use x=\"55.615234\" xlink:href=\"#LiberationSans-30\"/>\n",
       "       <use x=\"111.230469\" xlink:href=\"#LiberationSans-30\"/>\n",
       "       <use x=\"166.845703\" xlink:href=\"#LiberationSans-30\"/>\n",
       "       <use x=\"222.460938\" xlink:href=\"#LiberationSans-30\"/>\n",
       "      </g>\n",
       "     </g>\n",
       "    </g>\n",
       "    <g id=\"ytick_2\">\n",
       "     <g id=\"line2d_21\">\n",
       "      <path clip-path=\"url(#p7e66cd38da)\" d=\"M 47.565625 222.495844 \n",
       "L 493.965625 222.495844 \n",
       "\" style=\"fill:none;stroke:#ffffff;stroke-linecap:round;\"/>\n",
       "     </g>\n",
       "     <g id=\"line2d_22\"/>\n",
       "     <g id=\"text_11\">\n",
       "      <!-- 60000 -->\n",
       "      <g style=\"fill:#262626;\" transform=\"translate(12.760938 226.119281)scale(0.1 -0.1)\">\n",
       "       <defs>\n",
       "        <path d=\"M 3278 1441 \n",
       "Q 3278 1109 3186 832 \n",
       "Q 3094 556 2914 357 \n",
       "Q 2734 159 2468 48 \n",
       "Q 2203 -63 1856 -63 \n",
       "Q 1472 -63 1184 84 \n",
       "Q 897 231 706 507 \n",
       "Q 516 784 420 1186 \n",
       "Q 325 1588 325 2100 \n",
       "Q 325 2688 433 3131 \n",
       "Q 541 3575 744 3872 \n",
       "Q 947 4169 1239 4319 \n",
       "Q 1531 4469 1900 4469 \n",
       "Q 2125 4469 2322 4422 \n",
       "Q 2519 4375 2680 4270 \n",
       "Q 2841 4166 2962 3994 \n",
       "Q 3084 3822 3156 3572 \n",
       "L 2619 3475 \n",
       "Q 2531 3759 2339 3886 \n",
       "Q 2147 4013 1894 4013 \n",
       "Q 1663 4013 1475 3903 \n",
       "Q 1288 3794 1156 3576 \n",
       "Q 1025 3359 954 3031 \n",
       "Q 884 2703 884 2266 \n",
       "Q 1038 2550 1316 2698 \n",
       "Q 1594 2847 1953 2847 \n",
       "Q 2253 2847 2497 2750 \n",
       "Q 2741 2653 2914 2470 \n",
       "Q 3088 2288 3183 2027 \n",
       "Q 3278 1766 3278 1441 \n",
       "z\n",
       "M 2706 1416 \n",
       "Q 2706 1644 2650 1828 \n",
       "Q 2594 2013 2481 2142 \n",
       "Q 2369 2272 2203 2342 \n",
       "Q 2038 2413 1819 2413 \n",
       "Q 1666 2413 1509 2367 \n",
       "Q 1353 2322 1226 2220 \n",
       "Q 1100 2119 1020 1953 \n",
       "Q 941 1788 941 1550 \n",
       "Q 941 1306 1003 1095 \n",
       "Q 1066 884 1183 728 \n",
       "Q 1300 572 1465 481 \n",
       "Q 1631 391 1838 391 \n",
       "Q 2041 391 2202 461 \n",
       "Q 2363 531 2475 664 \n",
       "Q 2588 797 2647 987 \n",
       "Q 2706 1178 2706 1416 \n",
       "z\n",
       "\" id=\"LiberationSans-36\" transform=\"scale(0.015625)\"/>\n",
       "       </defs>\n",
       "       <use xlink:href=\"#LiberationSans-36\"/>\n",
       "       <use x=\"55.615234\" xlink:href=\"#LiberationSans-30\"/>\n",
       "       <use x=\"111.230469\" xlink:href=\"#LiberationSans-30\"/>\n",
       "       <use x=\"166.845703\" xlink:href=\"#LiberationSans-30\"/>\n",
       "       <use x=\"222.460938\" xlink:href=\"#LiberationSans-30\"/>\n",
       "      </g>\n",
       "     </g>\n",
       "    </g>\n",
       "    <g id=\"ytick_3\">\n",
       "     <g id=\"line2d_23\">\n",
       "      <path clip-path=\"url(#p7e66cd38da)\" d=\"M 47.565625 163.752871 \n",
       "L 493.965625 163.752871 \n",
       "\" style=\"fill:none;stroke:#ffffff;stroke-linecap:round;\"/>\n",
       "     </g>\n",
       "     <g id=\"line2d_24\"/>\n",
       "     <g id=\"text_12\">\n",
       "      <!-- 80000 -->\n",
       "      <g style=\"fill:#262626;\" transform=\"translate(12.760938 167.376308)scale(0.1 -0.1)\">\n",
       "       <defs>\n",
       "        <path d=\"M 3281 1228 \n",
       "Q 3281 947 3192 711 \n",
       "Q 3103 475 2920 303 \n",
       "Q 2738 131 2453 34 \n",
       "Q 2169 -63 1781 -63 \n",
       "Q 1394 -63 1111 34 \n",
       "Q 828 131 642 301 \n",
       "Q 456 472 367 708 \n",
       "Q 278 944 278 1222 \n",
       "Q 278 1463 351 1650 \n",
       "Q 425 1838 548 1973 \n",
       "Q 672 2109 830 2192 \n",
       "Q 988 2275 1156 2303 \n",
       "L 1156 2316 \n",
       "Q 972 2359 826 2456 \n",
       "Q 681 2553 582 2689 \n",
       "Q 484 2825 432 2990 \n",
       "Q 381 3156 381 3341 \n",
       "Q 381 3572 470 3776 \n",
       "Q 559 3981 734 4136 \n",
       "Q 909 4291 1168 4380 \n",
       "Q 1428 4469 1769 4469 \n",
       "Q 2128 4469 2392 4378 \n",
       "Q 2656 4288 2829 4133 \n",
       "Q 3003 3978 3087 3772 \n",
       "Q 3172 3566 3172 3334 \n",
       "Q 3172 3153 3120 2987 \n",
       "Q 3069 2822 2970 2686 \n",
       "Q 2872 2550 2726 2454 \n",
       "Q 2581 2359 2391 2322 \n",
       "L 2391 2309 \n",
       "Q 2581 2278 2743 2195 \n",
       "Q 2906 2113 3025 1977 \n",
       "Q 3144 1841 3212 1653 \n",
       "Q 3281 1466 3281 1228 \n",
       "z\n",
       "M 2588 3303 \n",
       "Q 2588 3469 2545 3606 \n",
       "Q 2503 3744 2406 3842 \n",
       "Q 2309 3941 2153 3995 \n",
       "Q 1997 4050 1769 4050 \n",
       "Q 1547 4050 1394 3995 \n",
       "Q 1241 3941 1142 3842 \n",
       "Q 1044 3744 1000 3606 \n",
       "Q 956 3469 956 3303 \n",
       "Q 956 3172 990 3034 \n",
       "Q 1025 2897 1115 2784 \n",
       "Q 1206 2672 1365 2600 \n",
       "Q 1525 2528 1775 2528 \n",
       "Q 2041 2528 2202 2600 \n",
       "Q 2363 2672 2448 2784 \n",
       "Q 2534 2897 2561 3034 \n",
       "Q 2588 3172 2588 3303 \n",
       "z\n",
       "M 2697 1281 \n",
       "Q 2697 1441 2653 1589 \n",
       "Q 2609 1738 2503 1852 \n",
       "Q 2397 1966 2217 2036 \n",
       "Q 2038 2106 1769 2106 \n",
       "Q 1522 2106 1348 2036 \n",
       "Q 1175 1966 1067 1850 \n",
       "Q 959 1734 909 1582 \n",
       "Q 859 1431 859 1269 \n",
       "Q 859 1066 909 898 \n",
       "Q 959 731 1068 611 \n",
       "Q 1178 491 1356 425 \n",
       "Q 1534 359 1788 359 \n",
       "Q 2044 359 2219 425 \n",
       "Q 2394 491 2500 611 \n",
       "Q 2606 731 2651 901 \n",
       "Q 2697 1072 2697 1281 \n",
       "z\n",
       "\" id=\"LiberationSans-38\" transform=\"scale(0.015625)\"/>\n",
       "       </defs>\n",
       "       <use xlink:href=\"#LiberationSans-38\"/>\n",
       "       <use x=\"55.615234\" xlink:href=\"#LiberationSans-30\"/>\n",
       "       <use x=\"111.230469\" xlink:href=\"#LiberationSans-30\"/>\n",
       "       <use x=\"166.845703\" xlink:href=\"#LiberationSans-30\"/>\n",
       "       <use x=\"222.460938\" xlink:href=\"#LiberationSans-30\"/>\n",
       "      </g>\n",
       "     </g>\n",
       "    </g>\n",
       "    <g id=\"ytick_4\">\n",
       "     <g id=\"line2d_25\">\n",
       "      <path clip-path=\"url(#p7e66cd38da)\" d=\"M 47.565625 105.009898 \n",
       "L 493.965625 105.009898 \n",
       "\" style=\"fill:none;stroke:#ffffff;stroke-linecap:round;\"/>\n",
       "     </g>\n",
       "     <g id=\"line2d_26\"/>\n",
       "     <g id=\"text_13\">\n",
       "      <!-- 100000 -->\n",
       "      <g style=\"fill:#262626;\" transform=\"translate(7.2 108.633336)scale(0.1 -0.1)\">\n",
       "       <use xlink:href=\"#LiberationSans-31\"/>\n",
       "       <use x=\"55.615234\" xlink:href=\"#LiberationSans-30\"/>\n",
       "       <use x=\"111.230469\" xlink:href=\"#LiberationSans-30\"/>\n",
       "       <use x=\"166.845703\" xlink:href=\"#LiberationSans-30\"/>\n",
       "       <use x=\"222.460938\" xlink:href=\"#LiberationSans-30\"/>\n",
       "       <use x=\"278.076172\" xlink:href=\"#LiberationSans-30\"/>\n",
       "      </g>\n",
       "     </g>\n",
       "    </g>\n",
       "    <g id=\"ytick_5\">\n",
       "     <g id=\"line2d_27\">\n",
       "      <path clip-path=\"url(#p7e66cd38da)\" d=\"M 47.565625 46.266925 \n",
       "L 493.965625 46.266925 \n",
       "\" style=\"fill:none;stroke:#ffffff;stroke-linecap:round;\"/>\n",
       "     </g>\n",
       "     <g id=\"line2d_28\"/>\n",
       "     <g id=\"text_14\">\n",
       "      <!-- 120000 -->\n",
       "      <g style=\"fill:#262626;\" transform=\"translate(7.2 49.890363)scale(0.1 -0.1)\">\n",
       "       <use xlink:href=\"#LiberationSans-31\"/>\n",
       "       <use x=\"55.615234\" xlink:href=\"#LiberationSans-32\"/>\n",
       "       <use x=\"111.230469\" xlink:href=\"#LiberationSans-30\"/>\n",
       "       <use x=\"166.845703\" xlink:href=\"#LiberationSans-30\"/>\n",
       "       <use x=\"222.460938\" xlink:href=\"#LiberationSans-30\"/>\n",
       "       <use x=\"278.076172\" xlink:href=\"#LiberationSans-30\"/>\n",
       "      </g>\n",
       "     </g>\n",
       "    </g>\n",
       "   </g>\n",
       "   <g id=\"line2d_29\">\n",
       "    <path clip-path=\"url(#p7e66cd38da)\" d=\"M 67.856534 20.79 \n",
       "L 69.895821 92.902025 \n",
       "L 71.935109 119.94139 \n",
       "L 73.974396 135.429406 \n",
       "L 76.013683 146.339968 \n",
       "L 78.052971 154.615203 \n",
       "L 80.092258 161.216907 \n",
       "L 82.131546 166.704213 \n",
       "L 84.170833 171.432188 \n",
       "L 86.21012 175.637914 \n",
       "L 88.249408 179.48428 \n",
       "L 92.327982 186.522906 \n",
       "L 98.445844 196.335376 \n",
       "L 106.602994 208.955286 \n",
       "L 112.720856 218.083179 \n",
       "L 118.838718 226.741151 \n",
       "L 122.917292 232.180017 \n",
       "L 126.995867 237.330108 \n",
       "L 131.074442 242.185756 \n",
       "L 135.153017 246.73808 \n",
       "L 139.231591 250.961098 \n",
       "L 141.270879 252.884698 \n",
       "L 143.310166 254.641334 \n",
       "L 145.349453 255.26776 \n",
       "L 147.388741 258.347278 \n",
       "L 149.428028 260.076391 \n",
       "L 151.467315 261.617323 \n",
       "L 153.506603 262.819008 \n",
       "L 155.54589 263.849535 \n",
       "L 157.585177 263.205421 \n",
       "L 159.624465 265.140838 \n",
       "L 161.663752 267.980921 \n",
       "L 163.703039 267.432121 \n",
       "L 165.742327 269.686423 \n",
       "L 167.781614 266.982368 \n",
       "L 169.820901 271.671388 \n",
       "L 171.860189 271.459727 \n",
       "L 173.899476 272.476505 \n",
       "L 175.938763 270.417922 \n",
       "L 177.978051 274.490931 \n",
       "L 180.017338 272.106119 \n",
       "L 182.056625 273.856967 \n",
       "L 184.095913 276.325254 \n",
       "L 186.1352 274.518002 \n",
       "L 188.174487 273.951158 \n",
       "L 190.213775 274.653115 \n",
       "L 192.253062 278.584224 \n",
       "L 194.29235 278.577014 \n",
       "L 196.331637 279.041037 \n",
       "L 198.370924 272.063007 \n",
       "L 200.410212 279.3627 \n",
       "L 202.449499 281.082995 \n",
       "L 204.488786 281.20134 \n",
       "L 206.528074 279.202748 \n",
       "L 208.567361 278.971168 \n",
       "L 210.606648 278.250219 \n",
       "L 212.645936 275.554858 \n",
       "L 214.685223 282.073178 \n",
       "L 216.72451 283.305262 \n",
       "L 218.763798 283.043777 \n",
       "L 220.803085 280.764551 \n",
       "L 222.842372 269.749434 \n",
       "L 226.920947 282.652767 \n",
       "L 228.960234 284.055338 \n",
       "L 230.999522 281.916901 \n",
       "L 233.038809 283.655514 \n",
       "L 235.078096 276.765846 \n",
       "L 237.117384 282.08628 \n",
       "L 239.156671 276.648693 \n",
       "L 241.195958 277.535229 \n",
       "L 243.235246 284.226684 \n",
       "L 245.274533 284.093625 \n",
       "L 247.313821 285.835786 \n",
       "L 249.353108 285.257932 \n",
       "L 251.392395 283.59286 \n",
       "L 253.431683 279.220343 \n",
       "L 255.47097 283.816739 \n",
       "L 257.510257 285.322964 \n",
       "L 261.588832 278.146896 \n",
       "L 263.628119 284.0156 \n",
       "L 265.667407 278.077465 \n",
       "L 267.706694 282.06379 \n",
       "L 269.745981 284.844846 \n",
       "L 271.785269 285.313926 \n",
       "L 273.824556 281.125643 \n",
       "L 275.863843 281.765755 \n",
       "L 277.903131 281.643643 \n",
       "L 279.942418 284.414272 \n",
       "L 281.981705 288.142195 \n",
       "L 284.020993 288.640983 \n",
       "L 286.06028 286.881306 \n",
       "L 288.099567 284.665218 \n",
       "L 290.138855 284.263212 \n",
       "L 292.178142 287.574738 \n",
       "L 294.217429 285.320912 \n",
       "L 296.256717 276.299225 \n",
       "L 298.296004 286.088989 \n",
       "L 300.335292 287.158325 \n",
       "L 302.374579 285.936712 \n",
       "L 304.413866 288.575434 \n",
       "L 306.453154 286.569982 \n",
       "L 308.492441 285.75502 \n",
       "L 310.531728 284.212958 \n",
       "L 312.571016 286.637744 \n",
       "L 314.610303 287.261363 \n",
       "L 316.64959 283.235278 \n",
       "L 318.688878 287.282288 \n",
       "L 320.728165 288.871433 \n",
       "L 322.767452 288.886397 \n",
       "L 324.80674 288.297038 \n",
       "L 326.846027 277.909118 \n",
       "L 328.885314 285.901089 \n",
       "L 330.924602 283.040316 \n",
       "L 332.963889 286.756505 \n",
       "L 335.003176 283.867996 \n",
       "L 337.042464 282.752632 \n",
       "L 339.081751 286.886933 \n",
       "L 341.121038 280.53547 \n",
       "L 343.160326 283.092271 \n",
       "L 345.199613 283.607154 \n",
       "L 347.2389 283.723501 \n",
       "L 349.278188 282.503812 \n",
       "L 351.317475 283.490574 \n",
       "L 353.356763 284.837408 \n",
       "L 355.39605 284.196339 \n",
       "L 357.435337 286.144636 \n",
       "L 359.474625 284.310079 \n",
       "L 361.513912 285.881933 \n",
       "L 363.553199 289.666415 \n",
       "L 365.592487 285.857165 \n",
       "L 367.631774 289.030274 \n",
       "L 369.671061 286.215421 \n",
       "L 371.710349 289.26214 \n",
       "L 373.749636 282.408984 \n",
       "L 375.788923 286.391329 \n",
       "L 377.828211 286.836695 \n",
       "L 379.867498 288.356593 \n",
       "L 381.906785 285.05213 \n",
       "L 383.946073 283.679237 \n",
       "L 385.98536 289.132814 \n",
       "L 390.063935 290.42022 \n",
       "L 392.103222 288.938983 \n",
       "L 394.142509 276.765704 \n",
       "L 396.181797 277.277487 \n",
       "L 398.221084 285.648587 \n",
       "L 400.260371 283.760707 \n",
       "L 402.299659 286.591867 \n",
       "L 404.338946 288.03579 \n",
       "L 406.378233 285.657232 \n",
       "L 408.417521 289.724639 \n",
       "L 410.456808 288.075968 \n",
       "L 412.496096 290.880904 \n",
       "L 414.535383 289.896541 \n",
       "L 416.57467 284.936397 \n",
       "L 418.613958 285.100338 \n",
       "L 420.653245 289.867044 \n",
       "L 422.692532 287.956573 \n",
       "L 424.73182 288.938709 \n",
       "L 426.771107 289.775204 \n",
       "L 428.810394 285.384524 \n",
       "L 430.849682 290.815429 \n",
       "L 432.888969 292.070485 \n",
       "L 434.928256 287.628572 \n",
       "L 436.967544 288.028553 \n",
       "L 439.006831 287.701938 \n",
       "L 441.046118 287.247939 \n",
       "L 443.085406 283.212749 \n",
       "L 445.124693 288.022482 \n",
       "L 447.16398 289.093193 \n",
       "L 449.203268 291.06073 \n",
       "L 451.242555 289.372975 \n",
       "L 453.281842 287.49881 \n",
       "L 455.32113 289.020418 \n",
       "L 457.360417 290.107574 \n",
       "L 459.399704 290.072243 \n",
       "L 461.438992 290.304473 \n",
       "L 463.478279 286.205959 \n",
       "L 465.517567 289.595112 \n",
       "L 467.556854 286.834923 \n",
       "L 469.596141 288.01808 \n",
       "L 471.635429 291.455475 \n",
       "L 473.674716 292.59 \n",
       "L 473.674716 292.59 \n",
       "\" style=\"fill:none;stroke:#87ceeb;stroke-linecap:round;stroke-width:1.75;\"/>\n",
       "   </g>\n",
       "   <g id=\"patch_3\">\n",
       "    <path d=\"M 47.565625 306.18 \n",
       "L 47.565625 7.2 \n",
       "\" style=\"fill:none;\"/>\n",
       "   </g>\n",
       "   <g id=\"patch_4\">\n",
       "    <path d=\"M 493.965625 306.18 \n",
       "L 493.965625 7.2 \n",
       "\" style=\"fill:none;\"/>\n",
       "   </g>\n",
       "   <g id=\"patch_5\">\n",
       "    <path d=\"M 47.565625 306.18 \n",
       "L 493.965625 306.18 \n",
       "\" style=\"fill:none;\"/>\n",
       "   </g>\n",
       "   <g id=\"patch_6\">\n",
       "    <path d=\"M 47.565625 7.2 \n",
       "L 493.965625 7.2 \n",
       "\" style=\"fill:none;\"/>\n",
       "   </g>\n",
       "  </g>\n",
       " </g>\n",
       " <defs>\n",
       "  <clipPath id=\"p7e66cd38da\">\n",
       "   <rect height=\"298.98\" width=\"446.4\" x=\"47.565625\" y=\"7.2\"/>\n",
       "  </clipPath>\n",
       " </defs>\n",
       "</svg>\n"
      ],
      "text/plain": [
       "<Figure size 576x396 with 1 Axes>"
      ]
     },
     "metadata": {},
     "output_type": "display_data"
    }
   ],
   "source": [
    "import matplotlib.pyplot as plt\n",
    "%matplotlib inline\n",
    "%config InlineBackend.figure_format = 'svg'\n",
    "plt.style.use(\"seaborn\")\n",
    "\n",
    "model = init_network(len(word_to_id), 10)\n",
    "\n",
    "n_iter = 200\n",
    "learning_rate = 0.01\n",
    "\n",
    "history = [backward(model, X, y, learning_rate) for _ in range(n_iter)]\n",
    "\n",
    "plt.plot(range(len(history)), history, color=\"skyblue\")\n",
    "plt.show()"
   ]
  },
  {
   "cell_type": "code",
   "execution_count": 87,
   "id": "f1d1615d",
   "metadata": {},
   "outputs": [
    {
     "data": {
      "text/plain": [
       "200"
      ]
     },
     "execution_count": 87,
     "metadata": {},
     "output_type": "execute_result"
    }
   ],
   "source": [
    "len(history)"
   ]
  },
  {
   "cell_type": "raw",
   "id": "a7f80b6d",
   "metadata": {},
   "source": [
    "learning = one_hot_encode(word_to_id[\"گرم\"], len(word_to_id))\n",
    "result = forward(model, [learning], return_cache=False)[0]\n",
    "result"
   ]
  },
  {
   "cell_type": "raw",
   "id": "dae51ba7",
   "metadata": {},
   "source": [
    "np.argsort(result)[::-1]"
   ]
  },
  {
   "cell_type": "code",
   "execution_count": 51,
   "id": "d61f363c",
   "metadata": {},
   "outputs": [
    {
     "data": {
      "text/plain": [
       "array([ 15, 456, 179,  66, 263])"
      ]
     },
     "execution_count": 51,
     "metadata": {},
     "output_type": "execute_result"
    }
   ],
   "source": [
    "np.argsort(result)[::-1][0:5]"
   ]
  },
  {
   "cell_type": "code",
   "execution_count": 52,
   "id": "28adc318",
   "metadata": {
    "scrolled": true
   },
   "outputs": [
    {
     "name": "stdout",
     "output_type": "stream",
     "text": [
      "عشقت\n",
      "فسردست\n",
      "جمره\n",
      "کنون\n",
      "بگدازد\n",
      "گرم\n",
      "جانان\n",
      "قد\n",
      "بس\n",
      "بنگرید\n"
     ]
    }
   ],
   "source": [
    "for word in (id_to_word[id] for id in np.argsort(result)[::-1][0:10]):\n",
    "    print(word)\n"
   ]
  },
  {
   "cell_type": "code",
   "execution_count": 53,
   "id": "f7d2190e",
   "metadata": {},
   "outputs": [],
   "source": [
    "def get_word_similarities(word, model, n_similars=10):\n",
    "    try:\n",
    "        learning = one_hot_encode(word_to_id[word], len(word_to_id))\n",
    "    except KeyError:\n",
    "        print(f\"Word = {word} is not in corpus\")\n",
    "        exit()\n",
    "    result = forward(model, [learning], return_cache=False)[0]\n",
    "    for word in (id_to_word[id] for id in np.argsort(result)[::-1][0:n_similars]):\n",
    "        print(word)\n",
    "\n",
    "    "
   ]
  },
  {
   "cell_type": "code",
   "execution_count": 159,
   "id": "d9fedff6",
   "metadata": {},
   "outputs": [],
   "source": [
    "def get_embedding(model, word):\n",
    "    try:\n",
    "        idx = word_to_id[word]\n",
    "    except KeyError:\n",
    "        print(\"`word` not in corpus\")\n",
    "    one_hot = one_hot_encode(idx, len(word_to_id))\n",
    "    return forward(model, one_hot)[\"a1\"]"
   ]
  },
  {
   "cell_type": "code",
   "execution_count": 160,
   "id": "3cc726ad",
   "metadata": {},
   "outputs": [
    {
     "data": {
      "text/plain": [
       "array([ 0.30857583, -0.26536961, -0.91359514, -0.00943186, -1.03899812,\n",
       "       -0.81462034, -0.56576872, -1.75023053,  0.16655075, -0.03339144])"
      ]
     },
     "execution_count": 160,
     "metadata": {},
     "output_type": "execute_result"
    }
   ],
   "source": [
    "get_embedding(model, \"machine\")\n"
   ]
  },
  {
   "cell_type": "code",
   "execution_count": 97,
   "id": "cea2a234",
   "metadata": {},
   "outputs": [],
   "source": [
    "#word_to_id"
   ]
  },
  {
   "cell_type": "code",
   "execution_count": 56,
   "id": "2d32f8c0",
   "metadata": {},
   "outputs": [
    {
     "name": "stdout",
     "output_type": "stream",
     "text": [
      "میخانه\n",
      "صافی\n",
      "فسرد\n",
      "چونک\n",
      "پرتو\n",
      "اجل\n",
      "انگور\n",
      "خورشید\n",
      "وان\n",
      "سبز\n",
      "عسسی\n",
      "لا\n",
      "معبود\n",
      "خواندش\n",
      "نعبده\n",
      "درد\n",
      "قبایش\n",
      "چنگی\n",
      "شمع\n",
      "خاکی\n"
     ]
    }
   ],
   "source": [
    "get_word_similarities('انگور', model, 20)"
   ]
  },
  {
   "cell_type": "code",
   "execution_count": 58,
   "id": "a536e6f1",
   "metadata": {
    "scrolled": true
   },
   "outputs": [
    {
     "name": "stdout",
     "output_type": "stream",
     "text": [
      "صافی\n",
      "میخانه\n",
      "فسرد\n",
      "چونک\n",
      "خوشه\n",
      "انگور\n",
      "خورشید\n",
      "اجل\n",
      "دوید\n",
      "غرقه\n",
      "ربود\n",
      "کوی\n",
      "دگران\n",
      "بنگرید\n",
      "پرتو\n",
      "همگی\n",
      "درد\n",
      "اوفتاد\n",
      "پر\n",
      "صحرا\n"
     ]
    }
   ],
   "source": [
    "get_word_similarities('انگور', model, 20)"
   ]
  },
  {
   "cell_type": "code",
   "execution_count": 89,
   "id": "2f3f81ed",
   "metadata": {},
   "outputs": [
    {
     "name": "stdout",
     "output_type": "stream",
     "text": [
      "خورشید\n",
      "اجل\n",
      "فسرد\n",
      "صافی\n",
      "انگور\n",
      "میخانه\n",
      "خوشه\n",
      "تن\n",
      "چونک\n",
      "طرب\n",
      "نمود\n",
      "رهید\n",
      "پرتو\n",
      "تافت\n",
      "شکرش\n",
      "خرف\n",
      "نیست\n",
      "فشرد\n",
      "تبریز\n",
      "او\n"
     ]
    }
   ],
   "source": [
    "get_word_similarities('انگور', model, 20)"
   ]
  },
  {
   "cell_type": "code",
   "execution_count": 62,
   "id": "94061b21",
   "metadata": {},
   "outputs": [
    {
     "name": "stdout",
     "output_type": "stream",
     "text": [
      "قد\n",
      "صدقه\n",
      "محمود\n",
      "باللقاء\n",
      "بشر\n",
      "دین\n",
      "الکرام\n",
      "نعم\n",
      "حضرته\n",
      "الکریم\n"
     ]
    }
   ],
   "source": [
    "get_word_similarities('بشر', model, 10)"
   ]
  },
  {
   "cell_type": "code",
   "execution_count": 88,
   "id": "40ed45b9",
   "metadata": {},
   "outputs": [
    {
     "name": "stdout",
     "output_type": "stream",
     "text": [
      "صدقه\n",
      "محمود\n",
      "بذاک\n",
      "حضرته\n",
      "الکریم\n",
      "باللقاء\n",
      "یجعلنا\n",
      "بشر\n",
      "قد\n",
      "مورود\n"
     ]
    }
   ],
   "source": [
    "get_word_similarities('بشر', model, 10)"
   ]
  },
  {
   "cell_type": "code",
   "execution_count": 94,
   "id": "dd4d4b40",
   "metadata": {},
   "outputs": [
    {
     "name": "stdout",
     "output_type": "stream",
     "text": [
      "جان\n",
      "سوی\n",
      "چشمه\n",
      "عاقبت\n",
      "کشد\n",
      "حیوان\n",
      "سبوی\n",
      "حرم\n",
      "منت\n",
      "مسلمان\n"
     ]
    }
   ],
   "source": [
    "get_word_similarities('حیوان', model, 10)"
   ]
  },
  {
   "cell_type": "code",
   "execution_count": null,
   "id": "33501acc",
   "metadata": {},
   "outputs": [],
   "source": []
  }
 ],
 "metadata": {
  "kernelspec": {
   "display_name": "Python 3 (ipykernel)",
   "language": "python",
   "name": "python3"
  },
  "language_info": {
   "codemirror_mode": {
    "name": "ipython",
    "version": 3
   },
   "file_extension": ".py",
   "mimetype": "text/x-python",
   "name": "python",
   "nbconvert_exporter": "python",
   "pygments_lexer": "ipython3",
   "version": "3.8.11"
  }
 },
 "nbformat": 4,
 "nbformat_minor": 5
}
