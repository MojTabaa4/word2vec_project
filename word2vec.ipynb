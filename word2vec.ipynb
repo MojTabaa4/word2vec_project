{
 "cells": [
  {
   "cell_type": "code",
   "execution_count": 31,
   "id": "caf6ab00",
   "metadata": {
    "scrolled": true
   },
   "outputs": [],
   "source": [
    "import os\n",
    "import nltk\n",
    "import re\n",
    "import numpy as np\n",
    "from hazm import word_tokenize, Lemmatizer, Stemmer, Normalizer\n",
    "from pprint import pprint\n",
    "import pandas as pd\n",
    "from tensorflow import keras\n",
    "from keras.preprocessing.text import Tokenizer\n",
    "from sklearn.preprocessing import OneHotEncoder, LabelEncoder\n",
    "from sklearn.model_selection import train_test_split"
   ]
  },
  {
   "cell_type": "code",
   "execution_count": 32,
   "id": "c67f0666",
   "metadata": {},
   "outputs": [],
   "source": [
    "np.set_printoptions(suppress=True)\n",
    "pd.set_option(\"display.max_colwidth\", None)\n",
    "pd.set_option(\"display.max_columns\", None)"
   ]
  },
  {
   "cell_type": "code",
   "execution_count": 33,
   "id": "d0e3d101",
   "metadata": {},
   "outputs": [],
   "source": [
    "from IPython.core.interactiveshell import InteractiveShell\n",
    "\n",
    "InteractiveShell.ast_node_interactivity = \"all\"\n",
    "# InteractiveShell.ast_node_interactivity = \"last_expr\""
   ]
  },
  {
   "cell_type": "code",
   "execution_count": 34,
   "id": "bbf4403b",
   "metadata": {},
   "outputs": [],
   "source": [
    "with open(\"Shams_Corpus_Paper3.txt\", \"r\") as file:\n",
    "    raw_text = file.read()\n",
    "\n",
    "with open(\"persian_stopw.txt\", \"r\") as file:\n",
    "    raw_stop_words = file.read()\n",
    "\n",
    "stop_words = word_tokenize(raw_stop_words)\n",
    "\n",
    "\n",
    "def remove_persian_stopword(tokens):\n",
    "    return [word for word in tokens if not word in stop_words]"
   ]
  },
  {
   "cell_type": "code",
   "execution_count": 35,
   "id": "32725243",
   "metadata": {},
   "outputs": [],
   "source": [
    "normalizer = Normalizer()\n",
    "def normalize_text(text):\n",
    "    return normalizer.normalize(text)\n",
    "\n",
    "\n",
    "lemmatizer = Lemmatizer()\n",
    "def lemma_tokenizer(tokens):\n",
    "    return [lemmatizer.lemmatize(token) for token in tokens]\n",
    "#     return [lemmatizer.lemmatize(token).split(\"#\")[0] for token in tokens]\n",
    "\n",
    "stemmer = Stemmer()\n",
    "def stem_tokenizer(tokens):\n",
    "    return [stemmer.stem(token) for token in tokens]"
   ]
  },
  {
   "cell_type": "code",
   "execution_count": 36,
   "id": "b4e9af01",
   "metadata": {},
   "outputs": [],
   "source": [
    "def text_normalization(text):\n",
    "    raw_text = re.sub(r\"-+|\\d+|\\s+\", \" \", text)\n",
    "    raw_text = normalize_text(raw_text)\n",
    "\n",
    "    return raw_text\n",
    "\n",
    "\n",
    "def tokenize_text(text, type=\"lemma\"):\n",
    "    tokens = word_tokenize(text)\n",
    "    tokens = remove_persian_stopword(tokens)\n",
    "\n",
    "    if type == \"lemma\":\n",
    "        tokens = remove_persian_stopword(lemma_tokenizer(tokens))\n",
    "    elif type == \"stem\":\n",
    "        tokens = remove_persian_stopword(stem_tokenizer(tokens))\n",
    "\n",
    "    return tokens"
   ]
  },
  {
   "cell_type": "code",
   "execution_count": 37,
   "id": "6db56857",
   "metadata": {
    "scrolled": true
   },
   "outputs": [
    {
     "data": {
      "text/html": [
       "<div>\n",
       "<style scoped>\n",
       "    .dataframe tbody tr th:only-of-type {\n",
       "        vertical-align: middle;\n",
       "    }\n",
       "\n",
       "    .dataframe tbody tr th {\n",
       "        vertical-align: top;\n",
       "    }\n",
       "\n",
       "    .dataframe thead th {\n",
       "        text-align: right;\n",
       "    }\n",
       "</style>\n",
       "<table border=\"1\" class=\"dataframe\">\n",
       "  <thead>\n",
       "    <tr style=\"text-align: right;\">\n",
       "      <th></th>\n",
       "      <th>sentence</th>\n",
       "      <th>normalized_sent</th>\n",
       "      <th>tokens</th>\n",
       "    </tr>\n",
       "  </thead>\n",
       "  <tbody>\n",
       "    <tr>\n",
       "      <th>0</th>\n",
       "      <td>دیوان شمس تبریزی (غزلیات)</td>\n",
       "      <td>دیوان شمس تبریزی (غزلیات)</td>\n",
       "      <td>[دیوان, شمس, تبریزی, غزلیات]</td>\n",
       "    </tr>\n",
       "    <tr>\n",
       "      <th>1</th>\n",
       "      <td>1001 - 1500</td>\n",
       "      <td></td>\n",
       "      <td>[]</td>\n",
       "    </tr>\n",
       "    <tr>\n",
       "      <th>2</th>\n",
       "      <td>--------------------------------------------------------</td>\n",
       "      <td></td>\n",
       "      <td>[]</td>\n",
       "    </tr>\n",
       "    <tr>\n",
       "      <th>3</th>\n",
       "      <td>1001</td>\n",
       "      <td></td>\n",
       "      <td>[]</td>\n",
       "    </tr>\n",
       "    <tr>\n",
       "      <th>4</th>\n",
       "      <td>آه در آن شمع منور چه بود\\tکآتش زد در دل و دل را ربود</td>\n",
       "      <td>آه در آن شمع منور چه بود کآتش زد در دل و دل را ربود</td>\n",
       "      <td>[آه, شمع, منور, کآتش, زد#زن, دل, دل, ربود]</td>\n",
       "    </tr>\n",
       "    <tr>\n",
       "      <th>5</th>\n",
       "      <td>ای زده اندر دل من آتشی\\tسوختم ای دوست بیا زود زود</td>\n",
       "      <td>ای زده اندر دل من آتشی سوختم ای دوست بیا زود زود</td>\n",
       "      <td>[زده, دل, آتش, سوخت#سوز, دوست, زود, زود]</td>\n",
       "    </tr>\n",
       "    <tr>\n",
       "      <th>6</th>\n",
       "      <td>صورت دل صورت مخلوق نیست\\tکز رخ دل حسن خدا رو نمود</td>\n",
       "      <td>صورت دل صورت مخلوق نیست کز رخ دل حسن خدا رو نمود</td>\n",
       "      <td>[دل, مخلوق, رخ, دل, حسن, خدا, رو, نمود]</td>\n",
       "    </tr>\n",
       "    <tr>\n",
       "      <th>7</th>\n",
       "      <td>جز شکرش نیست مرا چاره ای\\tجز لب او نیست مرا هیچ سود</td>\n",
       "      <td>جز شکرش نیست مرا چاره‌ای جز لب او نیست مرا هیچ سود</td>\n",
       "      <td>[شکر, چاره, لب, سود]</td>\n",
       "    </tr>\n",
       "    <tr>\n",
       "      <th>8</th>\n",
       "      <td>یاد کن آن را که یکی صبحدم\\tاین دلم از زلف تو بندی گشود</td>\n",
       "      <td>یاد کن آن را که یکی صبحدم این دلم از زلف تو بندی گشود</td>\n",
       "      <td>[یاد, صبحدم, دل, زلف, بست#بند, گشود#گشا]</td>\n",
       "    </tr>\n",
       "    <tr>\n",
       "      <th>9</th>\n",
       "      <td>جان من اول که بدیدم تو را\\tجان من از جان تو چیزی شنود</td>\n",
       "      <td>جان من اول که بدیدم تو را جان من از جان تو چیزی شنود</td>\n",
       "      <td>[جان, بدیدم, جان, جان, شنود]</td>\n",
       "    </tr>\n",
       "  </tbody>\n",
       "</table>\n",
       "</div>"
      ],
      "text/plain": [
       "                                                   sentence  \\\n",
       "0                                 دیوان شمس تبریزی (غزلیات)   \n",
       "1                                               1001 - 1500   \n",
       "2  --------------------------------------------------------   \n",
       "3                                                      1001   \n",
       "4      آه در آن شمع منور چه بود\\tکآتش زد در دل و دل را ربود   \n",
       "5         ای زده اندر دل من آتشی\\tسوختم ای دوست بیا زود زود   \n",
       "6         صورت دل صورت مخلوق نیست\\tکز رخ دل حسن خدا رو نمود   \n",
       "7       جز شکرش نیست مرا چاره ای\\tجز لب او نیست مرا هیچ سود   \n",
       "8    یاد کن آن را که یکی صبحدم\\tاین دلم از زلف تو بندی گشود   \n",
       "9     جان من اول که بدیدم تو را\\tجان من از جان تو چیزی شنود   \n",
       "\n",
       "                                         normalized_sent  \\\n",
       "0                              دیوان شمس تبریزی (غزلیات)   \n",
       "1                                                          \n",
       "2                                                          \n",
       "3                                                          \n",
       "4    آه در آن شمع منور چه بود کآتش زد در دل و دل را ربود   \n",
       "5       ای زده اندر دل من آتشی سوختم ای دوست بیا زود زود   \n",
       "6       صورت دل صورت مخلوق نیست کز رخ دل حسن خدا رو نمود   \n",
       "7     جز شکرش نیست مرا چاره‌ای جز لب او نیست مرا هیچ سود   \n",
       "8  یاد کن آن را که یکی صبحدم این دلم از زلف تو بندی گشود   \n",
       "9   جان من اول که بدیدم تو را جان من از جان تو چیزی شنود   \n",
       "\n",
       "                                       tokens  \n",
       "0                [دیوان, شمس, تبریزی, غزلیات]  \n",
       "1                                          []  \n",
       "2                                          []  \n",
       "3                                          []  \n",
       "4  [آه, شمع, منور, کآتش, زد#زن, دل, دل, ربود]  \n",
       "5    [زده, دل, آتش, سوخت#سوز, دوست, زود, زود]  \n",
       "6     [دل, مخلوق, رخ, دل, حسن, خدا, رو, نمود]  \n",
       "7                        [شکر, چاره, لب, سود]  \n",
       "8    [یاد, صبحدم, دل, زلف, بست#بند, گشود#گشا]  \n",
       "9                [جان, بدیدم, جان, جان, شنود]  "
      ]
     },
     "execution_count": 37,
     "metadata": {},
     "output_type": "execute_result"
    }
   ],
   "source": [
    "data = pd.read_csv(\"Shams_Corpus_Paper3.txt\", names=[\"sentence\"])\n",
    "data[\"normalized_sent\"] = data[\"sentence\"].apply(lambda x: text_normalization(x))\n",
    "data[\"tokens\"] = data[\"normalized_sent\"].apply(lambda x: tokenize_text(x))\n",
    "data.head(10)"
   ]
  },
  {
   "cell_type": "code",
   "execution_count": 38,
   "id": "b450bf3e",
   "metadata": {},
   "outputs": [
    {
     "data": {
      "text/plain": [
       "45239"
      ]
     },
     "execution_count": 38,
     "metadata": {},
     "output_type": "execute_result"
    }
   ],
   "source": [
    "tokens = data[\"tokens\"].explode().dropna().tolist()\n",
    "len(tokens)"
   ]
  },
  {
   "cell_type": "code",
   "execution_count": 39,
   "id": "95529f95",
   "metadata": {},
   "outputs": [],
   "source": [
    "def concat(*iterables):\n",
    "    for iterable in iterables:\n",
    "        yield from iterable"
   ]
  },
  {
   "cell_type": "code",
   "execution_count": 40,
   "id": "82f9caee",
   "metadata": {},
   "outputs": [],
   "source": [
    "def generate_training_data(tokens, word_to_id, window):\n",
    "    X = []\n",
    "    y = []\n",
    "    n_tokens = len(tokens)\n",
    "    unique_tokens = len(word_to_id)\n",
    "    for i in range(n_tokens):\n",
    "        idx = concat(\n",
    "            range(max(0, i - window), i), range(i, min(n_tokens, i + window + 1))\n",
    "        )\n",
    "        for j in idx:\n",
    "            if i == j:\n",
    "                continue\n",
    "            X.append(word_to_id[tokens[i]] - 1)\n",
    "            y.append(word_to_id[tokens[j]] - 1)\n",
    "\n",
    "    return np.asarray(X), np.asarray(y)"
   ]
  },
  {
   "cell_type": "code",
   "execution_count": 41,
   "id": "ae1ec5b1",
   "metadata": {},
   "outputs": [],
   "source": [
    "def generate_data(series, word_to_id, window):\n",
    "    X = []\n",
    "    y = []\n",
    "    unique_tokens = len(word_to_id)\n",
    "    for index, tokens in series.items():\n",
    "        n_tokens = len(tokens)\n",
    "        for i in range(n_tokens):\n",
    "            idx = concat(\n",
    "                range(max(0, i - window), i),\n",
    "                range(i, min(n_tokens, i + window + 1))\n",
    "            )\n",
    "            for j in idx:\n",
    "                if i == j:\n",
    "                    continue\n",
    "                X.append(word_to_id[tokens[i]] - 1)\n",
    "                y.append(word_to_id[tokens[j]] - 1)\n",
    "\n",
    "    return np.asarray(X), np.asarray(y)"
   ]
  },
  {
   "cell_type": "code",
   "execution_count": 42,
   "id": "1a3653f6",
   "metadata": {},
   "outputs": [],
   "source": [
    "window_size = 4\n",
    "\n",
    "t = Tokenizer(filters=\"\")\n",
    "t.fit_on_texts(tokens)\n",
    "\n",
    "sorted_count_list = sorted(t.word_counts.items(), key=lambda x: x[1], reverse=True)\n",
    "word_to_id, id_to_word = t.word_index, t.index_word\n",
    "\n",
    "X, y = generate_training_data(tokens, word_to_id, window_size)\n",
    "X_sen, y_sen = generate_data(data['tokens'], word_to_id, window_size)"
   ]
  },
  {
   "cell_type": "code",
   "execution_count": 43,
   "id": "d97876ec",
   "metadata": {
    "scrolled": true
   },
   "outputs": [
    {
     "name": "stdout",
     "output_type": "stream",
     "text": [
      "('دانست#دان', 237)\n",
      "('گشت#گرد', 179)\n",
      "('زد#زن', 147)\n",
      "('کشید#کش', 117)\n",
      "('خورد#خور', 114)\n",
      "('گرفت#گیر', 96)\n",
      "('رسید#رس', 92)\n",
      "('شکست#شکن', 67)\n",
      "('برد#بر', 65)\n",
      "('یافت#یاب', 65)\n",
      "('نگریست#نگر', 64)\n",
      "('بست#بند', 60)\n",
      "('شنید#شنو', 59)\n",
      "('جست#جو', 56)\n",
      "('گشود#گشا', 36)\n",
      "('نشست#نشین', 35)\n",
      "('پرید#پر', 35)\n",
      "('نمود#نما', 33)\n",
      "('خواند#خوان', 32)\n",
      "('گذشت#گذر', 31)\n",
      "('دوید#دو', 30)\n",
      "('سوخت#سوز', 28)\n",
      "('افتاد#افت', 27)\n",
      "('گذاشت#گذار', 26)\n",
      "('مرد#میر', 25)\n",
      "('ساخت#ساز', 25)\n",
      "('ریخت#ریز', 24)\n",
      "('ترسید#ترس', 24)\n",
      "('خندید#خند', 20)\n",
      "('خواست#خواه', 19)\n",
      "('خرید#خر', 18)\n",
      "('کاشت#کار', 18)\n",
      "('آورد#آور', 17)\n",
      "('پرسید#پرس', 17)\n",
      "('نوشید#نوش', 17)\n",
      "('آموخت#آموز', 17)\n",
      "('پوشید#پوش', 15)\n",
      "('شناخت#شناس', 14)\n",
      "('بخشید#بخش', 13)\n",
      "('پخت#پز', 12)\n",
      "('خوابید#خواب', 11)\n",
      "('پیچید#پیچ', 10)\n",
      "('شمرد#شمار', 9)\n",
      "('توانست#توان', 9)\n",
      "('پذیرفت#پذیر', 9)\n",
      "('باخت#باز', 9)\n",
      "('رساند#رسان', 8)\n",
      "('سپرد#سپر', 7)\n",
      "('فرستاد#فرست', 7)\n",
      "('سپارد#سپار', 7)\n",
      "('فروخت#فروش', 7)\n",
      "('طلبید#طلب', 7)\n",
      "('شکافت#شکاف', 7)\n",
      "('لرزید#لرز', 6)\n",
      "('چشید#چش', 5)\n",
      "('دوخت#دوز', 5)\n",
      "('کشت#کش', 5)\n",
      "('کوشید#کوش', 5)\n",
      "('بوسید#بوس', 5)\n",
      "('انداخت#انداز', 5)\n",
      "('پیوست#پیوند', 5)\n",
      "('شکفت#شکف', 4)\n",
      "('نامید#نام', 4)\n",
      "('کاست#کاه', 4)\n",
      "('فرمود#فرما', 4)\n",
      "('ترکید#ترک', 4)\n",
      "('رقصید#رقص', 4)\n",
      "('پوشاند#پوشان', 3)\n",
      "('جنگید#جنگ', 3)\n",
      "('نوشت#نویس', 3)\n",
      "('پرداخت#پرداز', 3)\n",
      "('اندیشید#اندیش', 3)\n",
      "('پراکند#پراکن', 2)\n",
      "('کشاند#کشان', 2)\n",
      "('خشکید#خشک', 2)\n",
      "('افزود#افزا', 1)\n",
      "('بافت#باف', 1)\n",
      "('گزارد#گزار', 1)\n",
      "('پسندید#پسند', 1)\n",
      "('ایستاد#ایست', 1)\n"
     ]
    }
   ],
   "source": [
    "for i in sorted_count_list:\n",
    "    if '#' in i[0]:\n",
    "        print(i)\n",
    "# sorted_count_list[:40]"
   ]
  },
  {
   "cell_type": "code",
   "execution_count": 44,
   "id": "a767117a",
   "metadata": {},
   "outputs": [
    {
     "data": {
      "text/plain": [
       "(361892,)"
      ]
     },
     "execution_count": 44,
     "metadata": {},
     "output_type": "execute_result"
    },
    {
     "data": {
      "text/plain": [
       "(257084,)"
      ]
     },
     "execution_count": 44,
     "metadata": {},
     "output_type": "execute_result"
    }
   ],
   "source": [
    "X.shape\n",
    "X_sen.shape"
   ]
  },
  {
   "cell_type": "code",
   "execution_count": 45,
   "id": "164e4218",
   "metadata": {
    "scrolled": true
   },
   "outputs": [],
   "source": [
    "# echo 1 > /proc/sys/vm/overcommit_memory\n",
    "\n",
    "label_encoder = LabelEncoder()\n",
    "integer_encoded = label_encoder.fit_transform(X_sen)\n",
    "onehot_encoder = OneHotEncoder(sparse=False)\n",
    "integer_encoded = integer_encoded.reshape(len(integer_encoded), 1)\n",
    "one_hotter = onehot_encoder.fit(integer_encoded)\n",
    "X_onehot_encoded = one_hotter.transform(integer_encoded)\n",
    "\n",
    "integer_encoded = label_encoder.fit_transform(y_sen)\n",
    "integer_encoded = integer_encoded.reshape(len(integer_encoded), 1)\n",
    "y_onehot_encoded = one_hotter.transform(integer_encoded)"
   ]
  },
  {
   "cell_type": "code",
   "execution_count": 46,
   "id": "b91b3c6e",
   "metadata": {},
   "outputs": [],
   "source": [
    "import pickle\n",
    "with open(\"one_hot_encoder.pkl\", \"wb\") as f: \n",
    "    pickle.dump(one_hotter, f)"
   ]
  },
  {
   "cell_type": "code",
   "execution_count": 47,
   "id": "aee8f592",
   "metadata": {
    "scrolled": true
   },
   "outputs": [
    {
     "data": {
      "text/plain": [
       "(257084, 8500)"
      ]
     },
     "execution_count": 47,
     "metadata": {},
     "output_type": "execute_result"
    }
   ],
   "source": [
    "y_onehot_encoded.shape"
   ]
  },
  {
   "cell_type": "code",
   "execution_count": 48,
   "id": "d1b7d019",
   "metadata": {
    "scrolled": true
   },
   "outputs": [
    {
     "data": {
      "text/plain": [
       "(257084, 8500)"
      ]
     },
     "execution_count": 48,
     "metadata": {},
     "output_type": "execute_result"
    }
   ],
   "source": [
    "X_onehot_encoded.shape"
   ]
  },
  {
   "cell_type": "code",
   "execution_count": 49,
   "id": "b92ea9c9",
   "metadata": {
    "scrolled": false
   },
   "outputs": [
    {
     "name": "stdout",
     "output_type": "stream",
     "text": [
      "(289513,)\n",
      "(289513,)\n",
      "(72379,)\n",
      "(72379,)\n"
     ]
    }
   ],
   "source": [
    "X_train, X_test, y_train, y_test = train_test_split(\n",
    "    X, y, test_size=0.2, random_state=50\n",
    ")\n",
    "print(X_train.shape)\n",
    "print(y_train.shape)\n",
    "print(X_test.shape)\n",
    "print(y_test.shape)"
   ]
  },
  {
   "cell_type": "code",
   "execution_count": 50,
   "id": "0463937a",
   "metadata": {},
   "outputs": [
    {
     "data": {
      "text/plain": [
       "array([1405, 1405, 1405, ..., 2649, 2649, 2649])"
      ]
     },
     "execution_count": 50,
     "metadata": {},
     "output_type": "execute_result"
    }
   ],
   "source": [
    "X"
   ]
  },
  {
   "cell_type": "code",
   "execution_count": 33,
   "id": "050b3f5d",
   "metadata": {
    "scrolled": true
   },
   "outputs": [
    {
     "name": "stdout",
     "output_type": "stream",
     "text": [
      "Model: \"sequential\"\n",
      "_________________________________________________________________\n",
      " Layer (type)                Output Shape              Param #   \n",
      "=================================================================\n",
      " embedding (Embedding)       (None, 1, 50)             418400    \n",
      "                                                                 \n",
      " reshape (Reshape)           (None, 50)                0         \n",
      "                                                                 \n",
      " dense (Dense)               (None, 8368)              426768    \n",
      "                                                                 \n",
      "=================================================================\n",
      "Total params: 845,168\n",
      "Trainable params: 845,168\n",
      "Non-trainable params: 0\n",
      "_________________________________________________________________\n",
      "None\n"
     ]
    },
    {
     "name": "stderr",
     "output_type": "stream",
     "text": [
      "2022-05-15 01:08:45.964470: E tensorflow/stream_executor/cuda/cuda_driver.cc:271] failed call to cuInit: CUDA_ERROR_NO_DEVICE: no CUDA-capable device is detected\n",
      "2022-05-15 01:08:45.964497: I tensorflow/stream_executor/cuda/cuda_diagnostics.cc:156] kernel driver does not appear to be running on this host (Emoji-U): /proc/driver/nvidia/version does not exist\n",
      "2022-05-15 01:08:45.964714: I tensorflow/core/platform/cpu_feature_guard.cc:151] This TensorFlow binary is optimized with oneAPI Deep Neural Network Library (oneDNN) to use the following CPU instructions in performance-critical operations:  AVX2 FMA\n",
      "To enable them in other operations, rebuild TensorFlow with the appropriate compiler flags.\n"
     ]
    }
   ],
   "source": [
    "from tensorflow import keras\n",
    "from keras.models import Sequential\n",
    "from keras.layers import Activation, Dense, Reshape, Embedding\n",
    "\n",
    "embed_size = 50\n",
    "vocab_size = X_onehot_encoded.shape[1]\n",
    "\n",
    "model = Sequential()\n",
    "model.add(\n",
    "    Embedding(\n",
    "        input_dim=vocab_size,\n",
    "        output_dim=embed_size,\n",
    "        embeddings_initializer=\"glorot_uniform\",\n",
    "        input_length=1,\n",
    "    )\n",
    ")\n",
    "model.add(Reshape((embed_size,)))\n",
    "model.add(Dense(vocab_size, kernel_initializer=\"glorot_uniform\", activation=\"softmax\"))\n",
    "model.compile(loss=\"categorical_crossentropy\", optimizer=\"rmsprop\", metrics=['mae', 'acc'])\n",
    "\n",
    "\n",
    "print(model.summary())"
   ]
  },
  {
   "cell_type": "code",
   "execution_count": 34,
   "id": "a85c7fad",
   "metadata": {},
   "outputs": [
    {
     "data": {
      "text/plain": [
       "(182450,)"
      ]
     },
     "execution_count": 34,
     "metadata": {},
     "output_type": "execute_result"
    }
   ],
   "source": [
    "X.shape"
   ]
  },
  {
   "cell_type": "code",
   "execution_count": 35,
   "id": "36d59bf4",
   "metadata": {
    "scrolled": true
   },
   "outputs": [
    {
     "name": "stderr",
     "output_type": "stream",
     "text": [
      "2022-05-15 01:08:51.371346: W tensorflow/core/framework/cpu_allocator_impl.cc:82] Allocation of 4885573120 exceeds 10% of free system memory.\n"
     ]
    },
    {
     "name": "stdout",
     "output_type": "stream",
     "text": [
      "Epoch 1/20\n",
      "1141/1141 [==============================] - 23s 20ms/step - loss: 8.2539 - mae: 2.3881e-04 - acc: 0.0162 - val_loss: 8.0226 - val_mae: 2.3866e-04 - val_acc: 0.0147\n",
      "Epoch 2/20\n",
      "1141/1141 [==============================] - 22s 19ms/step - loss: 7.7416 - mae: 2.3860e-04 - acc: 0.0166 - val_loss: 8.0091 - val_mae: 2.3861e-04 - val_acc: 0.0153\n",
      "Epoch 3/20\n",
      "1141/1141 [==============================] - 22s 19ms/step - loss: 7.6830 - mae: 2.3854e-04 - acc: 0.0174 - val_loss: 8.0057 - val_mae: 2.3859e-04 - val_acc: 0.0159\n",
      "Epoch 4/20\n",
      "1141/1141 [==============================] - 22s 19ms/step - loss: 7.6581 - mae: 2.3850e-04 - acc: 0.0189 - val_loss: 8.0157 - val_mae: 2.3857e-04 - val_acc: 0.0164\n",
      "Epoch 5/20\n",
      "1141/1141 [==============================] - 22s 19ms/step - loss: 7.6329 - mae: 2.3845e-04 - acc: 0.0197 - val_loss: 8.0412 - val_mae: 2.3855e-04 - val_acc: 0.0165\n",
      "Epoch 6/20\n",
      "1141/1141 [==============================] - 23s 20ms/step - loss: 7.6049 - mae: 2.3841e-04 - acc: 0.0215 - val_loss: 8.0765 - val_mae: 2.3853e-04 - val_acc: 0.0178\n",
      "Epoch 7/20\n",
      "1141/1141 [==============================] - 20s 18ms/step - loss: 7.5823 - mae: 2.3837e-04 - acc: 0.0227 - val_loss: 8.1299 - val_mae: 2.3851e-04 - val_acc: 0.0180\n",
      "Epoch 8/20\n",
      "1141/1141 [==============================] - 21s 18ms/step - loss: 7.5758 - mae: 2.3832e-04 - acc: 0.0240 - val_loss: 8.1950 - val_mae: 2.3844e-04 - val_acc: 0.0199\n",
      "Epoch 9/20\n",
      "1141/1141 [==============================] - 23s 20ms/step - loss: 7.5876 - mae: 2.3824e-04 - acc: 0.0260 - val_loss: 8.2706 - val_mae: 2.3838e-04 - val_acc: 0.0208\n",
      "Epoch 10/20\n",
      "1141/1141 [==============================] - 23s 20ms/step - loss: 7.6203 - mae: 2.3813e-04 - acc: 0.0273 - val_loss: 8.3673 - val_mae: 2.3827e-04 - val_acc: 0.0212\n",
      "Epoch 11/20\n",
      "1141/1141 [==============================] - 23s 20ms/step - loss: 7.6653 - mae: 2.3802e-04 - acc: 0.0284 - val_loss: 8.4780 - val_mae: 2.3819e-04 - val_acc: 0.0226\n",
      "Epoch 12/20\n",
      "1141/1141 [==============================] - 23s 20ms/step - loss: 7.7077 - mae: 2.3793e-04 - acc: 0.0300 - val_loss: 8.5847 - val_mae: 2.3816e-04 - val_acc: 0.0232\n",
      "Epoch 13/20\n",
      "1141/1141 [==============================] - 23s 20ms/step - loss: 7.7340 - mae: 2.3789e-04 - acc: 0.0312 - val_loss: 8.6710 - val_mae: 2.3815e-04 - val_acc: 0.0240\n",
      "Epoch 14/20\n",
      "1141/1141 [==============================] - 22s 19ms/step - loss: 7.7546 - mae: 2.3786e-04 - acc: 0.0328 - val_loss: 8.7331 - val_mae: 2.3816e-04 - val_acc: 0.0243\n",
      "Epoch 15/20\n",
      "1141/1141 [==============================] - 24s 21ms/step - loss: 7.7761 - mae: 2.3784e-04 - acc: 0.0341 - val_loss: 8.7797 - val_mae: 2.3816e-04 - val_acc: 0.0221\n",
      "Epoch 16/20\n",
      "1141/1141 [==============================] - 23s 20ms/step - loss: 7.7966 - mae: 2.3782e-04 - acc: 0.0351 - val_loss: 8.8217 - val_mae: 2.3818e-04 - val_acc: 0.0243\n",
      "Epoch 17/20\n",
      "1141/1141 [==============================] - 24s 21ms/step - loss: 7.8167 - mae: 2.3780e-04 - acc: 0.0363 - val_loss: 8.8602 - val_mae: 2.3817e-04 - val_acc: 0.0224\n",
      "Epoch 18/20\n",
      "1141/1141 [==============================] - 24s 21ms/step - loss: 7.8362 - mae: 2.3778e-04 - acc: 0.0372 - val_loss: 8.8917 - val_mae: 2.3817e-04 - val_acc: 0.0226\n",
      "Epoch 19/20\n",
      "1141/1141 [==============================] - 22s 19ms/step - loss: 7.8517 - mae: 2.3775e-04 - acc: 0.0380 - val_loss: 8.9165 - val_mae: 2.3816e-04 - val_acc: 0.0224\n",
      "Epoch 20/20\n",
      "1141/1141 [==============================] - 24s 21ms/step - loss: 7.8645 - mae: 2.3773e-04 - acc: 0.0389 - val_loss: 8.9391 - val_mae: 2.3816e-04 - val_acc: 0.0240\n"
     ]
    }
   ],
   "source": [
    "models = model.fit(\n",
    "    X, y_onehot_encoded, epochs=20, validation_split=0.2, batch_size=128, verbose=1\n",
    ")"
   ]
  },
  {
   "cell_type": "code",
   "execution_count": 36,
   "id": "b8f94f03",
   "metadata": {},
   "outputs": [],
   "source": [
    "def n_similar(word, model_, n=10):\n",
    "    word_id = word_to_id[word]\n",
    "    result = model_.predict([word_id]).squeeze()\n",
    "    for word in (id_to_word[id + 1] for id in np.argsort(result)[::-1][0:n]):\n",
    "        print(word)\n"
   ]
  },
  {
   "cell_type": "code",
   "execution_count": 40,
   "id": "681f7e6e",
   "metadata": {
    "scrolled": true
   },
   "outputs": [
    {
     "name": "stdout",
     "output_type": "stream",
     "text": [
      "باد\n",
      "سر\n",
      "جان\n",
      "خاک\n",
      "دل\n",
      "کش\n",
      "دم\n",
      "عشق\n",
      "لطف\n",
      "خوش\n"
     ]
    }
   ],
   "source": [
    "n_similar('باغ', model_ = model, n=10)"
   ]
  },
  {
   "cell_type": "code",
   "execution_count": 35,
   "id": "f2842b2c",
   "metadata": {
    "scrolled": false
   },
   "outputs": [],
   "source": [
    "# tokens_ = lammatized_tokens[:2000]\n",
    "# t = Tokenizer(filters='')\n",
    "# t.fit_on_texts(tokens_)\n",
    "# sorted_count_list = sorted(t.word_counts.items(), key=lambda x: x[1], reverse=True)\n",
    "# word_to_id, id_to_word = t.word_index, t.index_word\n",
    "# len(word_to_id)\n",
    "# X, y = generate_training_data(tokens_, word_to_id, 3)\n"
   ]
  },
  {
   "cell_type": "code",
   "execution_count": 36,
   "id": "838f9116",
   "metadata": {},
   "outputs": [],
   "source": [
    "# X"
   ]
  },
  {
   "cell_type": "code",
   "execution_count": 37,
   "id": "410e9082",
   "metadata": {
    "scrolled": true
   },
   "outputs": [],
   "source": [
    "# y"
   ]
  },
  {
   "cell_type": "code",
   "execution_count": 38,
   "id": "a9d44b8a",
   "metadata": {},
   "outputs": [],
   "source": [
    "# X.shape"
   ]
  },
  {
   "cell_type": "code",
   "execution_count": 39,
   "id": "31c00412",
   "metadata": {},
   "outputs": [],
   "source": [
    "# y.shape"
   ]
  },
  {
   "cell_type": "code",
   "execution_count": 40,
   "id": "1bfb06f6",
   "metadata": {},
   "outputs": [],
   "source": [
    "def init_network(vocab_size, n_embedding):\n",
    "    model = {\n",
    "        \"w1\": np.random.uniform(-1, 1, (vocab_size, n_embedding)),\n",
    "        \"w2\": np.random.uniform(-1, 1, (n_embedding, vocab_size))\n",
    "    }\n",
    "    return model"
   ]
  },
  {
   "cell_type": "code",
   "execution_count": 41,
   "id": "ae19f5e6",
   "metadata": {},
   "outputs": [
    {
     "data": {
      "text/plain": [
       "(8368, 10)"
      ]
     },
     "execution_count": 41,
     "metadata": {},
     "output_type": "execute_result"
    }
   ],
   "source": [
    "model = init_network(len(word_to_id), 10)\n",
    "model[\"w1\"].shape"
   ]
  },
  {
   "cell_type": "code",
   "execution_count": 52,
   "id": "8ae306c3",
   "metadata": {},
   "outputs": [
    {
     "data": {
      "text/plain": [
       "(10, 1171)"
      ]
     },
     "execution_count": 52,
     "metadata": {},
     "output_type": "execute_result"
    }
   ],
   "source": [
    "model[\"w2\"].shape"
   ]
  },
  {
   "cell_type": "code",
   "execution_count": 53,
   "id": "071c7c0d",
   "metadata": {},
   "outputs": [],
   "source": [
    "def softmax(X):\n",
    "#     e_x = np.exp(x - np.max(x))\n",
    "#     return e_x / e_x.sum(axis=0)\n",
    "\n",
    "    res = []\n",
    "    for x in X:\n",
    "        exp = np.exp(x)\n",
    "        res.append(exp / exp.sum())\n",
    "    return res"
   ]
  },
  {
   "cell_type": "code",
   "execution_count": 54,
   "id": "e7dc0313",
   "metadata": {},
   "outputs": [],
   "source": [
    "def stable_sigmoid(x):\n",
    "    sig = np.where(x < 0, np.exp(x) / (1 + np.exp(x)), 1 / (1 + np.exp(-x)))\n",
    "    return sig"
   ]
  },
  {
   "cell_type": "code",
   "execution_count": 55,
   "id": "65b4aae5",
   "metadata": {},
   "outputs": [
    {
     "data": {
      "text/plain": [
       "(11988, 1171)"
      ]
     },
     "execution_count": 55,
     "metadata": {},
     "output_type": "execute_result"
    }
   ],
   "source": [
    "X.shape"
   ]
  },
  {
   "cell_type": "code",
   "execution_count": 56,
   "id": "f78c4529",
   "metadata": {},
   "outputs": [
    {
     "data": {
      "text/plain": [
       "(11988, 10)"
      ]
     },
     "execution_count": 56,
     "metadata": {},
     "output_type": "execute_result"
    }
   ],
   "source": [
    "(X @ model[\"w1\"]).shape"
   ]
  },
  {
   "cell_type": "code",
   "execution_count": 57,
   "id": "4aa8b522",
   "metadata": {},
   "outputs": [
    {
     "data": {
      "text/plain": [
       "(11988, 1171)"
      ]
     },
     "execution_count": 57,
     "metadata": {},
     "output_type": "execute_result"
    }
   ],
   "source": [
    "(X @ model[\"w1\"] @ model[\"w2\"]).shape\n"
   ]
  },
  {
   "cell_type": "code",
   "execution_count": 58,
   "id": "0af7bc42",
   "metadata": {},
   "outputs": [],
   "source": [
    "def forward(model, X, return_cache=True):\n",
    "    cache = {}\n",
    "    \n",
    "    cache[\"a1\"] = X @ model[\"w1\"]\n",
    "    cache[\"a2\"] = cache[\"a1\"] @ model[\"w2\"]\n",
    "    print(f\"a2 = {cache['a2']}\")\n",
    "    cache[\"z\"] = softmax(cache[\"a2\"])\n",
    "#     cache[\"z\"] = stable_sigmoid(cache[\"a2\"])\n",
    "    \n",
    "    if not return_cache:\n",
    "        return cache[\"z\"]\n",
    "    return cache"
   ]
  },
  {
   "cell_type": "code",
   "execution_count": 59,
   "id": "283a2af1",
   "metadata": {},
   "outputs": [],
   "source": [
    "def cross_entropy(z, y):\n",
    "    return - np.sum(np.log(z) * y)"
   ]
  },
  {
   "cell_type": "code",
   "execution_count": 66,
   "id": "e3259e46",
   "metadata": {},
   "outputs": [],
   "source": [
    "def backward(model, X, y, alpha):\n",
    "    cache  = forward(model, X)\n",
    "#     dl_weight_inp_hidden = np.outer(target_word_vector, np.dot(weight_hidden_output, total_error.T))\n",
    "#     dl_weight_hidden_output = np.outer(hidden_layer, total_error)\n",
    "    da2 = cache[\"z\"] - y\n",
    "    dw2 = cache[\"a1\"].T @ da2\n",
    "    da1 = da2 @ model[\"w2\"].T\n",
    "    dw1 = X.T @ da1\n",
    "    assert(dw2.shape == model[\"w2\"].shape)\n",
    "    assert(dw1.shape == model[\"w1\"].shape)\n",
    "    model[\"w1\"] -= alpha * dw1\n",
    "    model[\"w2\"] -= alpha * dw2\n",
    "    \n",
    "    return cross_entropy(cache[\"z\"], y)"
   ]
  },
  {
   "cell_type": "code",
   "execution_count": 65,
   "id": "db05a107",
   "metadata": {},
   "outputs": [
    {
     "name": "stdout",
     "output_type": "stream",
     "text": [
      "a2 = [[-2.74132539 -1.27900225 -1.80771619 ...  0.27653819  2.18316733\n",
      "   0.356036  ]\n",
      " [-2.74132539 -1.27900225 -1.80771619 ...  0.27653819  2.18316733\n",
      "   0.356036  ]\n",
      " [-2.74132539 -1.27900225 -1.80771619 ...  0.27653819  2.18316733\n",
      "   0.356036  ]\n",
      " ...\n",
      " [-0.86869516 -1.01409124 -1.90894888 ... -0.25463134  1.92658359\n",
      "   0.3085458 ]\n",
      " [-0.86869516 -1.01409124 -1.90894888 ... -0.25463134  1.92658359\n",
      "   0.3085458 ]\n",
      " [-0.86869516 -1.01409124 -1.90894888 ... -0.25463134  1.92658359\n",
      "   0.3085458 ]]\n",
      "a2 = [[-2.30536967 -1.2409838  -1.34889173 ...  0.30970255  2.12515847\n",
      "   0.32588619]\n",
      " [-2.30536967 -1.2409838  -1.34889173 ...  0.30970255  2.12515847\n",
      "   0.32588619]\n",
      " [-2.30536967 -1.2409838  -1.34889173 ...  0.30970255  2.12515847\n",
      "   0.32588619]\n",
      " ...\n",
      " [-0.67576492 -0.99458788 -1.69838724 ... -0.19292213  1.91841591\n",
      "   0.33170993]\n",
      " [-0.67576492 -0.99458788 -1.69838724 ... -0.19292213  1.91841591\n",
      "   0.33170993]\n",
      " [-0.67576492 -0.99458788 -1.69838724 ... -0.19292213  1.91841591\n",
      "   0.33170993]]\n",
      "a2 = [[-2.60561483 -1.58791375 -0.9940371  ...  0.34341315  2.07918233\n",
      "   0.30108846]\n",
      " [-2.60561483 -1.58791375 -0.9940371  ...  0.34341315  2.07918233\n",
      "   0.30108846]\n",
      " [-2.60561483 -1.58791375 -0.9940371  ...  0.34341315  2.07918233\n",
      "   0.30108846]\n",
      " ...\n",
      " [-0.91343399 -1.21449067 -1.53885513 ... -0.13284465  1.91826687\n",
      "   0.35724274]\n",
      " [-0.91343399 -1.21449067 -1.53885513 ... -0.13284465  1.91826687\n",
      "   0.35724274]\n",
      " [-0.91343399 -1.21449067 -1.53885513 ... -0.13284465  1.91826687\n",
      "   0.35724274]]\n",
      "a2 = [[-3.1239749  -2.04057303 -0.69829121 ...  0.37750607  2.04106249\n",
      "   0.28033747]\n",
      " [-3.1239749  -2.04057303 -0.69829121 ...  0.37750607  2.04106249\n",
      "   0.28033747]\n",
      " [-3.1239749  -2.04057303 -0.69829121 ...  0.37750607  2.04106249\n",
      "   0.28033747]\n",
      " ...\n",
      " [-1.27714974 -1.50629349 -1.40608168 ... -0.0739372   1.92363206\n",
      "   0.38456129]\n",
      " [-1.27714974 -1.50629349 -1.40608168 ... -0.0739372   1.92363206\n",
      "   0.38456129]\n",
      " [-1.27714974 -1.50629349 -1.40608168 ... -0.0739372   1.92363206\n",
      "   0.38456129]]\n",
      "a2 = [[-3.77247114 -2.56523105 -0.44783564 ...  0.41178571  2.00930754\n",
      "   0.26296845]\n",
      " [-3.77247114 -2.56523105 -0.44783564 ...  0.41178571  2.00930754\n",
      "   0.26296845]\n",
      " [-3.77247114 -2.56523105 -0.44783564 ...  0.41178571  2.00930754\n",
      "   0.26296845]\n",
      " ...\n",
      " [-1.72925676 -1.85458775 -1.29342357 ... -0.0158323   1.93367764\n",
      "   0.41352078]\n",
      " [-1.72925676 -1.85458775 -1.29342357 ... -0.0158323   1.93367764\n",
      "   0.41352078]\n",
      " [-1.72925676 -1.85458775 -1.29342357 ... -0.0158323   1.93367764\n",
      "   0.41352078]]\n",
      "a2 = [[-4.52953149 -3.16926167 -0.23591575 ...  0.4465382   1.98334538\n",
      "   0.24901587]\n",
      " [-4.52953149 -3.16926167 -0.23591575 ...  0.4465382   1.98334538\n",
      "   0.24901587]\n",
      " [-4.52953149 -3.16926167 -0.23591575 ...  0.4465382   1.98334538\n",
      "   0.24901587]\n",
      " ...\n",
      " [-2.26659324 -2.26626712 -1.1974069  ...  0.04193245  1.94812832\n",
      "   0.44435805]\n",
      " [-2.26659324 -2.26626712 -1.1974069  ...  0.04193245  1.94812832\n",
      "   0.44435805]\n",
      " [-2.26659324 -2.26626712 -1.1974069  ...  0.04193245  1.94812832\n",
      "   0.44435805]]\n",
      "a2 = [[-5.34646544 -3.85973706 -0.05841862 ...  0.48197833  1.96275256\n",
      "   0.23850707]\n",
      " [-5.34646544 -3.85973706 -0.05841862 ...  0.48197833  1.96275256\n",
      "   0.23850707]\n",
      " [-5.34646544 -3.85973706 -0.05841862 ...  0.48197833  1.96275256\n",
      "   0.23850707]\n",
      " ...\n",
      " [-2.86899782 -2.74797347 -1.11557771 ...  0.09971147  1.96681418\n",
      "   0.47729082]\n",
      " [-2.86899782 -2.74797347 -1.11557771 ...  0.09971147  1.96681418\n",
      "   0.47729082]\n",
      " [-2.86899782 -2.74797347 -1.11557771 ...  0.09971147  1.96681418\n",
      "   0.47729082]]\n",
      "a2 = [[-6.02616889 -4.61653871  0.08789161 ...  0.51812451  1.94698134\n",
      "   0.23121518]\n",
      " [-6.02616889 -4.61653871  0.08789161 ...  0.51812451  1.94698134\n",
      "   0.23121518]\n",
      " [-6.02616889 -4.61653871  0.08789161 ...  0.51812451  1.94698134\n",
      "   0.23121518]\n",
      " ...\n",
      " [-3.42208813 -3.2897     -1.04555572 ...  0.15771191  1.98950899\n",
      "   0.51236617]\n",
      " [-3.42208813 -3.2897     -1.04555572 ...  0.15771191  1.98950899\n",
      "   0.51236617]\n",
      " [-3.42208813 -3.2897     -1.04555572 ...  0.15771191  1.98950899\n",
      "   0.51236617]]\n",
      "a2 = [[-6.32922745 -5.35336833  0.20886969 ...  0.55486815  1.93531041\n",
      "   0.22660191]\n",
      " [-6.32922745 -5.35336833  0.20886969 ...  0.55486815  1.93531041\n",
      "   0.22660191]\n",
      " [-6.32922745 -5.35336833  0.20886969 ...  0.55486815  1.93531041\n",
      "   0.22660191]\n",
      " ...\n",
      " [-3.76941682 -3.83885823 -0.98288303 ...  0.21605097  2.01590056\n",
      "   0.54940948]\n",
      " [-3.76941682 -3.83885823 -0.98288303 ...  0.21605097  2.01590056\n",
      "   0.54940948]\n",
      " [-3.76941682 -3.83885823 -0.98288303 ...  0.21605097  2.01590056\n",
      "   0.54940948]]\n",
      "a2 = [[-6.77628276 -5.98071056  0.31542539 ...  0.59228343  1.92735293\n",
      "   0.2243574 ]\n",
      " [-6.77628276 -5.98071056  0.31542539 ...  0.59228343  1.92735293\n",
      "   0.2243574 ]\n",
      " [-6.77628276 -5.98071056  0.31542539 ...  0.59228343  1.92735293\n",
      "   0.2243574 ]\n",
      " ...\n",
      " [-4.23534819 -4.33527189 -0.9189793  ...  0.2749584   2.04588138\n",
      "   0.58831377]\n",
      " [-4.23534819 -4.33527189 -0.9189793  ...  0.2749584   2.04588138\n",
      "   0.58831377]\n",
      " [-4.23534819 -4.33527189 -0.9189793  ...  0.2749584   2.04588138\n",
      "   0.58831377]]\n",
      "a2 = [[-6.25604148 -6.3100721   0.40522268 ...  0.63001868  1.92257496\n",
      "   0.22418483]\n",
      " [-6.25604148 -6.3100721   0.40522268 ...  0.63001868  1.92257496\n",
      "   0.22418483]\n",
      " [-6.25604148 -6.3100721   0.40522268 ...  0.63001868  1.92257496\n",
      "   0.22418483]\n",
      " ...\n",
      " [-4.01720342 -4.62731488 -0.85234027 ...  0.33425943  2.0790138\n",
      "   0.62879247]\n",
      " [-4.01720342 -4.62731488 -0.85234027 ...  0.33425943  2.0790138\n",
      "   0.62879247]\n",
      " [-4.01720342 -4.62731488 -0.85234027 ...  0.33425943  2.0790138\n",
      "   0.62879247]]\n",
      "a2 = [[-6.88546962 -6.59422753  0.5127113  ...  0.66717511  1.9189064\n",
      "   0.22459043]\n",
      " [-6.88546962 -6.59422753  0.5127113  ...  0.66717511  1.9189064\n",
      "   0.22459043]\n",
      " [-6.88546962 -6.59422753  0.5127113  ...  0.66717511  1.9189064\n",
      "   0.22459043]\n",
      " ...\n",
      " [-4.63448368 -4.90676482 -0.75741172 ...  0.39384076  2.11440346\n",
      "   0.67000662]\n",
      " [-4.63448368 -4.90676482 -0.75741172 ...  0.39384076  2.11440346\n",
      "   0.67000662]\n",
      " [-4.63448368 -4.90676482 -0.75741172 ...  0.39384076  2.11440346\n",
      "   0.67000662]]\n",
      "a2 = [[-4.46697753 -5.76590365  0.59158266 ...  0.705169    1.91913253\n",
      "   0.22724139]\n",
      " [-4.46697753 -5.76590365  0.59158266 ...  0.705169    1.91913253\n",
      "   0.22724139]\n",
      " [-4.46697753 -5.76590365  0.59158266 ...  0.705169    1.91913253\n",
      "   0.22724139]\n",
      " ...\n",
      " [-2.9713895  -4.31668707 -0.66372736 ...  0.45432795  2.15327028\n",
      "   0.71277544]\n",
      " [-2.9713895  -4.31668707 -0.66372736 ...  0.45432795  2.15327028\n",
      "   0.71277544]\n",
      " [-2.9713895  -4.31668707 -0.66372736 ...  0.45432795  2.15327028\n",
      "   0.71277544]]\n",
      "a2 = [[-5.01167601 -5.83370187  0.77263606 ...  0.7278878   1.90347895\n",
      "   0.22177656]\n",
      " [-5.01167601 -5.83370187  0.77263606 ...  0.7278878   1.90347895\n",
      "   0.22177656]\n",
      " [-5.01167601 -5.83370187  0.77263606 ...  0.7278878   1.90347895\n",
      "   0.22177656]\n",
      " ...\n",
      " [-3.51547976 -4.41283894 -0.47580456 ...  0.50509543  2.18223479\n",
      "   0.74947551]\n",
      " [-3.51547976 -4.41283894 -0.47580456 ...  0.50509543  2.18223479\n",
      "   0.74947551]\n",
      " [-3.51547976 -4.41283894 -0.47580456 ...  0.50509543  2.18223479\n",
      "   0.74947551]]\n",
      "a2 = [[-6.27709372 -6.32205234  0.89374716 ...  0.76815961  1.90996621\n",
      "   0.22851339]\n",
      " [-6.27709372 -6.32205234  0.89374716 ...  0.76815961  1.90996621\n",
      "   0.22851339]\n",
      " [-6.27709372 -6.32205234  0.89374716 ...  0.76815961  1.90996621\n",
      "   0.22851339]\n",
      " ...\n",
      " [-4.61774783 -4.81227319 -0.31253473 ...  0.56965655  2.22873817\n",
      "   0.79563857]\n",
      " [-4.61774783 -4.81227319 -0.31253473 ...  0.56965655  2.22873817\n",
      "   0.79563857]\n",
      " [-4.61774783 -4.81227319 -0.31253473 ...  0.56965655  2.22873817\n",
      "   0.79563857]]\n",
      "a2 = [[-3.71857381 -5.20844506  0.99733146 ...  0.80859338  1.91819715\n",
      "   0.23543791]\n",
      " [-3.71857381 -5.20844506  0.99733146 ...  0.80859338  1.91819715\n",
      "   0.23543791]\n",
      " [-3.71857381 -5.20844506  0.99733146 ...  0.80859338  1.91819715\n",
      "   0.23543791]\n",
      " ...\n",
      " [-2.64001804 -3.91095612 -0.14288676 ...  0.63518363  2.27765941\n",
      "   0.8419208 ]\n",
      " [-2.64001804 -3.91095612 -0.14288676 ...  0.63518363  2.27765941\n",
      "   0.8419208 ]\n",
      " [-2.64001804 -3.91095612 -0.14288676 ...  0.63518363  2.27765941\n",
      "   0.8419208 ]]\n",
      "a2 = [[-4.6690617  -5.55594009  1.21318818 ...  0.83453085  1.90883988\n",
      "   0.23194446]\n",
      " [-4.6690617  -5.55594009  1.21318818 ...  0.83453085  1.90883988\n",
      "   0.23194446]\n",
      " [-4.6690617  -5.55594009  1.21318818 ...  0.83453085  1.90883988\n",
      "   0.23194446]\n",
      " ...\n",
      " [-3.52586218 -4.18663508  0.13759702 ...  0.69143927  2.31483159\n",
      "   0.87997696]\n",
      " [-3.52586218 -4.18663508  0.13759702 ...  0.69143927  2.31483159\n",
      "   0.87997696]\n",
      " [-3.52586218 -4.18663508  0.13759702 ...  0.69143927  2.31483159\n",
      "   0.87997696]]\n"
     ]
    },
    {
     "name": "stdout",
     "output_type": "stream",
     "text": [
      "a2 = [[-5.9980348  -5.95889827  1.36587994 ...  0.87812623  1.92214075\n",
      "   0.24219688]\n",
      " [-5.9980348  -5.95889827  1.36587994 ...  0.87812623  1.92214075\n",
      "   0.24219688]\n",
      " [-5.9980348  -5.95889827  1.36587994 ...  0.87812623  1.92214075\n",
      "   0.24219688]\n",
      " ...\n",
      " [-4.7517591  -4.49144355  0.38128546 ...  0.76334177  2.37185902\n",
      "   0.92954448]\n",
      " [-4.7517591  -4.49144355  0.38128546 ...  0.76334177  2.37185902\n",
      "   0.92954448]\n",
      " [-4.7517591  -4.49144355  0.38128546 ...  0.76334177  2.37185902\n",
      "   0.92954448]]\n",
      "a2 = [[-1.66831947 -4.46820011  1.49254524 ...  0.92144401  1.93494083\n",
      "   0.25116315]\n",
      " [-1.66831947 -4.46820011  1.49254524 ...  0.92144401  1.93494083\n",
      "   0.25116315]\n",
      " [-1.66831947 -4.46820011  1.49254524 ...  0.92144401  1.93494083\n",
      "   0.25116315]\n",
      " ...\n",
      " [-1.09994208 -3.26007664  0.62125857 ...  0.83668957  2.4304383\n",
      "   0.97857969]\n",
      " [-1.09994208 -3.26007664  0.62125857 ...  0.83668957  2.4304383\n",
      "   0.97857969]\n",
      " [-1.09994208 -3.26007664  0.62125857 ...  0.83668957  2.4304383\n",
      "   0.97857969]]\n",
      "a2 = [[-2.63858533 -4.91116733  1.76224117 ...  0.94630165  1.92337864\n",
      "   0.24516037]\n",
      " [-2.63858533 -4.91116733  1.76224117 ...  0.94630165  1.92337864\n",
      "   0.24516037]\n",
      " [-2.63858533 -4.91116733  1.76224117 ...  0.94630165  1.92337864\n",
      "   0.24516037]\n",
      " ...\n",
      " [-2.06102892 -3.59948732  1.00006637 ...  0.89722018  2.4710046\n",
      "   1.01550654]\n",
      " [-2.06102892 -3.59948732  1.00006637 ...  0.89722018  2.4710046\n",
      "   1.01550654]\n",
      " [-2.06102892 -3.59948732  1.00006637 ...  0.89722018  2.4710046\n",
      "   1.01550654]]\n",
      "a2 = [[-4.45659976 -5.42339884  1.93646135 ...  0.99187362  1.93790879\n",
      "   0.25547333]\n",
      " [-4.45659976 -5.42339884  1.93646135 ...  0.99187362  1.93790879\n",
      "   0.25547333]\n",
      " [-4.45659976 -5.42339884  1.93646135 ...  0.99187362  1.93790879\n",
      "   0.25547333]\n",
      " ...\n",
      " [-3.76984304 -3.96517868  1.30974111 ...  0.97824352  2.53647327\n",
      "   1.06725088]\n",
      " [-3.76984304 -3.96517868  1.30974111 ...  0.97824352  2.53647327\n",
      "   1.06725088]\n",
      " [-3.76984304 -3.96517868  1.30974111 ...  0.97824352  2.53647327\n",
      "   1.06725088]]\n",
      "a2 = [[-5.38454541 -4.05965258  2.08026462 ...  1.04094659  1.95662218\n",
      "   0.26845402]\n",
      " [-5.38454541 -4.05965258  2.08026462 ...  1.04094659  1.95662218\n",
      "   0.26845402]\n",
      " [-5.38454541 -4.05965258  2.08026462 ...  1.04094659  1.95662218\n",
      "   0.26845402]\n",
      " ...\n",
      " [-4.68580802 -2.86882052  1.61079622 ...  1.06476285  2.60806527\n",
      "   1.122229  ]\n",
      " [-4.68580802 -2.86882052  1.61079622 ...  1.06476285  2.60806527\n",
      "   1.122229  ]\n",
      " [-4.68580802 -2.86882052  1.61079622 ...  1.06476285  2.60806527\n",
      "   1.122229  ]]\n",
      "a2 = [[-3.09288531 -5.49226255  2.24930701 ...  1.08737173  1.97094277\n",
      "   0.27882433]\n",
      " [-3.09288531 -5.49226255  2.24930701 ...  1.08737173  1.97094277\n",
      "   0.27882433]\n",
      " [-3.09288531 -5.49226255  2.24930701 ...  1.08737173  1.97094277\n",
      "   0.27882433]\n",
      " ...\n",
      " [-2.48446575 -4.01914487  1.95000712 ...  1.1520555   2.67877477\n",
      "   1.17617492]\n",
      " [-2.48446575 -4.01914487  1.95000712 ...  1.1520555   2.67877477\n",
      "   1.17617492]\n",
      " [-2.48446575 -4.01914487  1.95000712 ...  1.1520555   2.67877477\n",
      "   1.17617492]]\n",
      "a2 = [[-4.86249191 -4.83715669  2.40928525 ...  1.13681892  1.98806973\n",
      "   0.29003492]\n",
      " [-4.86249191 -4.83715669  2.40928525 ...  1.13681892  1.98806973\n",
      "   0.29003492]\n",
      " [-4.86249191 -4.83715669  2.40928525 ...  1.13681892  1.98806973\n",
      "   0.29003492]\n",
      " ...\n",
      " [-4.236763   -3.39197656  2.29309758 ...  1.24609373  2.75517957\n",
      "   1.23221007]\n",
      " [-4.236763   -3.39197656  2.29309758 ...  1.24609373  2.75517957\n",
      "   1.23221007]\n",
      " [-4.236763   -3.39197656  2.29309758 ...  1.24609373  2.75517957\n",
      "   1.23221007]]\n",
      "a2 = [[-4.09613307 -5.25130785  2.542675   ...  1.18912373  2.00828448\n",
      "   0.30353345]\n",
      " [-4.09613307 -5.25130785  2.542675   ...  1.18912373  2.00828448\n",
      "   0.30353345]\n",
      " [-4.09613307 -5.25130785  2.542675   ...  1.18912373  2.00828448\n",
      "   0.30353345]\n",
      " ...\n",
      " [-3.7272045  -3.58085413  2.62549878 ...  1.34618476  2.83709481\n",
      "   1.29135431]\n",
      " [-3.7272045  -3.58085413  2.62549878 ...  1.34618476  2.83709481\n",
      "   1.29135431]\n",
      " [-3.7272045  -3.58085413  2.62549878 ...  1.34618476  2.83709481\n",
      "   1.29135431]]\n",
      "a2 = [[-5.13084913 -5.0787592   2.68818434 ...  1.24159695  2.02774722\n",
      "   0.31645889]\n",
      " [-5.13084913 -5.0787592   2.68818434 ...  1.24159695  2.02774722\n",
      "   0.31645889]\n",
      " [-5.13084913 -5.0787592   2.68818434 ...  1.24159695  2.02774722\n",
      "   0.31645889]\n",
      " ...\n",
      " [-4.81954038 -3.44224554  2.97464689 ...  1.45092462  2.92168748\n",
      "   1.35137759]\n",
      " [-4.81954038 -3.44224554  2.97464689 ...  1.45092462  2.92168748\n",
      "   1.35137759]\n",
      " [-4.81954038 -3.44224554  2.97464689 ...  1.45092462  2.92168748\n",
      "   1.35137759]]\n",
      "a2 = [[ 1.42207292 -4.65193301  2.7806706  ...  1.29438886  2.04662144\n",
      "   0.32829581]\n",
      " [ 1.42207292 -4.65193301  2.7806706  ...  1.29438886  2.04662144\n",
      "   0.32829581]\n",
      " [ 1.42207292 -4.65193301  2.7806706  ...  1.29438886  2.04662144\n",
      "   0.32829581]\n",
      " ...\n",
      " [ 1.70052414 -3.12894922  3.2863738  ...  1.55987302  3.00886837\n",
      "   1.41235078]\n",
      " [ 1.70052414 -3.12894922  3.2863738  ...  1.55987302  3.00886837\n",
      "   1.41235078]\n",
      " [ 1.70052414 -3.12894922  3.2863738  ...  1.55987302  3.00886837\n",
      "   1.41235078]]\n",
      "a2 = [[ 0.48853098 -4.53420971  2.98717648 ...  1.33814353  2.05002271\n",
      "   0.32794817]\n",
      " [ 0.48853098 -4.53420971  2.98717648 ...  1.33814353  2.05002271\n",
      "   0.32794817]\n",
      " [ 0.48853098 -4.53420971  2.98717648 ...  1.33814353  2.05002271\n",
      "   0.32794817]\n",
      " ...\n",
      " [ 0.67236977 -2.84389559  3.70710787 ...  1.66373939  3.08273462\n",
      "   1.4624229 ]\n",
      " [ 0.67236977 -2.84389559  3.70710787 ...  1.66373939  3.08273462\n",
      "   1.4624229 ]\n",
      " [ 0.67236977 -2.84389559  3.70710787 ...  1.66373939  3.08273462\n",
      "   1.4624229 ]]\n",
      "a2 = [[-1.20226392 -4.59525075  3.07445901 ...  1.39036857  2.06342683\n",
      "   0.33693332]\n",
      " [-1.20226392 -4.59525075  3.07445901 ...  1.39036857  2.06342683\n",
      "   0.33693332]\n",
      " [-1.20226392 -4.59525075  3.07445901 ...  1.39036857  2.06342683\n",
      "   0.33693332]\n",
      " ...\n",
      " [-1.05566623 -2.7802741   4.0242541  ...  1.78076672  3.16951179\n",
      "   1.5230743 ]\n",
      " [-1.05566623 -2.7802741   4.0242541  ...  1.78076672  3.16951179\n",
      "   1.5230743 ]\n",
      " [-1.05566623 -2.7802741   4.0242541  ...  1.78076672  3.16951179\n",
      "   1.5230743 ]]\n",
      "a2 = [[-3.17928862 -4.51262233  3.15854788 ...  1.44780506  2.08608346\n",
      "   0.35183118]\n",
      " [-3.17928862 -4.51262233  3.15854788 ...  1.44780506  2.08608346\n",
      "   0.35183118]\n",
      " [-3.17928862 -4.51262233  3.15854788 ...  1.44780506  2.08608346\n",
      "   0.35183118]\n",
      " ...\n",
      " [-3.15367465 -2.74439466  4.34084833 ...  1.90758271  3.26823012\n",
      "   1.59149674]\n",
      " [-3.15367465 -2.74439466  4.34084833 ...  1.90758271  3.26823012\n",
      "   1.59149674]\n",
      " [-3.15367465 -2.74439466  4.34084833 ...  1.90758271  3.26823012\n",
      "   1.59149674]]\n",
      "a2 = [[-4.55271229 -4.90211668  3.22396601 ...  1.50695227  2.11005664\n",
      "   0.36727336]\n",
      " [-4.55271229 -4.90211668  3.22396601 ...  1.50695227  2.11005664\n",
      "   0.36727336]\n",
      " [-4.55271229 -4.90211668  3.22396601 ...  1.50695227  2.11005664\n",
      "   0.36727336]\n",
      " ...\n",
      " [-4.69076366 -2.97063764  4.6369577  ...  2.04041822  3.37080009\n",
      "   1.66212727]\n",
      " [-4.69076366 -2.97063764  4.6369577  ...  2.04041822  3.37080009\n",
      "   1.66212727]\n",
      " [-4.69076366 -2.97063764  4.6369577  ...  2.04041822  3.37080009\n",
      "   1.66212727]]\n",
      "a2 = [[-0.53264167 -2.41538312  3.25725257 ...  1.56487624  2.13161991\n",
      "   0.38047099]\n",
      " [-0.53264167 -2.41538312  3.25725257 ...  1.56487624  2.13161991\n",
      "   0.38047099]\n",
      " [-0.53264167 -2.41538312  3.25725257 ...  1.56487624  2.13161991\n",
      "   0.38047099]\n",
      " ...\n",
      " [-0.42761261 -1.28576242  4.90429531 ...  2.17703665  3.474696\n",
      "   1.73292705]\n",
      " [-0.42761261 -1.28576242  4.90429531 ...  2.17703665  3.474696\n",
      "   1.73292705]\n",
      " [-0.42761261 -1.28576242  4.90429531 ...  2.17703665  3.474696\n",
      "   1.73292705]]\n",
      "a2 = [[-1.52249332 -3.48244196  3.39433624 ...  1.60932955  2.14002749\n",
      "   0.38716066]\n",
      " [-1.52249332 -3.48244196  3.39433624 ...  1.60932955  2.14002749\n",
      "   0.38716066]\n",
      " [-1.52249332 -3.48244196  3.39433624 ...  1.60932955  2.14002749\n",
      "   0.38716066]\n",
      " ...\n",
      " [-1.78476036 -2.00011354  5.23802329 ...  2.30687242  3.5683853\n",
      "   1.79839132]\n",
      " [-1.78476036 -2.00011354  5.23802329 ...  2.30687242  3.5683853\n",
      "   1.79839132]\n",
      " [-1.78476036 -2.00011354  5.23802329 ...  2.30687242  3.5683853\n",
      "   1.79839132]]\n",
      "a2 = [[-3.21587741 -4.72151502  3.47285761 ...  1.66912102  2.16257739\n",
      "   0.40163213]\n",
      " [-3.21587741 -4.72151502  3.47285761 ...  1.66912102  2.16257739\n",
      "   0.40163213]\n",
      " [-3.21587741 -4.72151502  3.47285761 ...  1.66912102  2.16257739\n",
      "   0.40163213]\n",
      " ...\n",
      " [-3.90050882 -2.88609145  5.56869484 ...  2.45368404  3.67611436\n",
      "   1.87265301]\n",
      " [-3.90050882 -2.88609145  5.56869484 ...  2.45368404  3.67611436\n",
      "   1.87265301]\n",
      " [-3.90050882 -2.88609145  5.56869484 ...  2.45368404  3.67611436\n",
      "   1.87265301]]\n"
     ]
    },
    {
     "name": "stdout",
     "output_type": "stream",
     "text": [
      "a2 = [[-3.67260638 -1.53700187  3.4852808  ...  1.72973698  2.18606308\n",
      "   0.41579631]\n",
      " [-3.67260638 -1.53700187  3.4852808  ...  1.72973698  2.18606308\n",
      "   0.41579631]\n",
      " [-3.67260638 -1.53700187  3.4852808  ...  1.72973698  2.18606308\n",
      "   0.41579631]\n",
      " ...\n",
      " [-4.40268915 -0.23729693  5.79760099 ...  2.60515046  3.78679666\n",
      "   1.94762952]\n",
      " [-4.40268915 -0.23729693  5.79760099 ...  2.60515046  3.78679666\n",
      "   1.94762952]\n",
      " [-4.40268915 -0.23729693  5.79760099 ...  2.60515046  3.78679666\n",
      "   1.94762952]]\n",
      "a2 = [[-2.3767334  -3.04214528  3.54412939 ...  1.78290792  2.20560842\n",
      "   0.42966066]\n",
      " [-2.3767334  -3.04214528  3.54412939 ...  1.78290792  2.20560842\n",
      "   0.42966066]\n",
      " [-2.3767334  -3.04214528  3.54412939 ...  1.78290792  2.20560842\n",
      "   0.42966066]\n",
      " ...\n",
      " [-3.27130698 -1.42870191  6.01174377 ...  2.75661738  3.89666166\n",
      "   2.02379091]\n",
      " [-3.27130698 -1.42870191  6.01174377 ...  2.75661738  3.89666166\n",
      "   2.02379091]\n",
      " [-3.27130698 -1.42870191  6.01174377 ...  2.75661738  3.89666166\n",
      "   2.02379091]]\n",
      "a2 = [[-3.29458551 -4.7033014   3.57406752 ...  1.84408361  2.22886287\n",
      "   0.4441354 ]\n",
      " [-3.29458551 -4.7033014   3.57406752 ...  1.84408361  2.22886287\n",
      "   0.4441354 ]\n",
      " [-3.29458551 -4.7033014   3.57406752 ...  1.84408361  2.22886287\n",
      "   0.4441354 ]\n",
      " ...\n",
      " [-4.37477948 -2.63831437  6.22584021 ...  2.91479806  4.0076982\n",
      "   2.10023807]\n",
      " [-4.37477948 -2.63831437  6.22584021 ...  2.91479806  4.0076982\n",
      "   2.10023807]\n",
      " [-4.37477948 -2.63831437  6.22584021 ...  2.91479806  4.0076982\n",
      "   2.10023807]]\n",
      "a2 = [[-2.45235004 -1.82980616  3.57348845 ...  1.90488091  2.25130737\n",
      "   0.45819092]\n",
      " [-2.45235004 -1.82980616  3.57348845 ...  1.90488091  2.25130737\n",
      "   0.45819092]\n",
      " [-2.45235004 -1.82980616  3.57348845 ...  1.90488091  2.25130737\n",
      "   0.45819092]\n",
      " ...\n",
      " [-3.24697257 -0.70433154  6.41723808 ...  3.07693665  4.12090139\n",
      "   2.17862284]\n",
      " [-3.24697257 -0.70433154  6.41723808 ...  3.07693665  4.12090139\n",
      "   2.17862284]\n",
      " [-3.24697257 -0.70433154  6.41723808 ...  3.07693665  4.12090139\n",
      "   2.17862284]]\n",
      "a2 = [[-2.83504458 -3.34145556  3.6210518  ...  1.95542802  2.26820085\n",
      "   0.47157494]\n",
      " [-2.83504458 -3.34145556  3.6210518  ...  1.95542802  2.26820085\n",
      "   0.47157494]\n",
      " [-2.83504458 -3.34145556  3.6210518  ...  1.95542802  2.26820085\n",
      "   0.47157494]\n",
      " ...\n",
      " [-3.96137843 -1.89159431  6.58971716 ...  3.23590722  4.23035972\n",
      "   2.2570456 ]\n",
      " [-3.96137843 -1.89159431  6.58971716 ...  3.23590722  4.23035972\n",
      "   2.2570456 ]\n",
      " [-3.96137843 -1.89159431  6.58971716 ...  3.23590722  4.23035972\n",
      "   2.2570456 ]]\n",
      "a2 = [[-3.00322549 -4.60276027  3.64674035 ...  2.01588972  2.2900379\n",
      "   0.48599658]\n",
      " [-3.00322549 -4.60276027  3.64674035 ...  2.01588972  2.2900379\n",
      "   0.48599658]\n",
      " [-3.00322549 -4.60276027  3.64674035 ...  2.01588972  2.2900379\n",
      "   0.48599658]\n",
      " ...\n",
      " [-4.33013423 -2.74554226  6.78538896 ...  3.40314476  4.3430718\n",
      "   2.33736139]\n",
      " [-4.33013423 -2.74554226  6.78538896 ...  3.40314476  4.3430718\n",
      "   2.33736139]\n",
      " [-4.33013423 -2.74554226  6.78538896 ...  3.40314476  4.3430718\n",
      "   2.33736139]]\n",
      "a2 = [[-0.7633183   0.06640688  3.6217294  ...  2.07534466  2.31085765\n",
      "   0.49925547]\n",
      " [-0.7633183   0.06640688  3.6217294  ...  2.07534466  2.31085765\n",
      "   0.49925547]\n",
      " [-0.7633183   0.06640688  3.6217294  ...  2.07534466  2.31085765\n",
      "   0.49925547]\n",
      " ...\n",
      " [-0.74195534  0.91953639  6.91210188 ...  3.57227633  4.4561686\n",
      "   2.41806745]\n",
      " [-0.74195534  0.91953639  6.91210188 ...  3.57227633  4.4561686\n",
      "   2.41806745]\n",
      " [-0.74195534  0.91953639  6.91210188 ...  3.57227633  4.4561686\n",
      "   2.41806745]]\n",
      "a2 = [[-1.20567235 -0.93099718  3.71037126 ...  2.12791484  2.32568388\n",
      "   0.50882539]\n",
      " [-1.20567235 -0.93099718  3.71037126 ...  2.12791484  2.32568388\n",
      "   0.50882539]\n",
      " [-1.20567235 -0.93099718  3.71037126 ...  2.12791484  2.32568388\n",
      "   0.50882539]\n",
      " ...\n",
      " [-2.02827117  0.33393103  7.09546602 ...  3.73818049  4.56302476\n",
      "   2.49532412]\n",
      " [-2.02827117  0.33393103  7.09546602 ...  3.73818049  4.56302476\n",
      "   2.49532412]\n",
      " [-2.02827117  0.33393103  7.09546602 ...  3.73818049  4.56302476\n",
      "   2.49532412]]\n",
      "a2 = [[-2.19326335 -2.28713402  3.6988089  ...  2.17486608  2.33449666\n",
      "   0.52044156]\n",
      " [-2.19326335 -2.28713402  3.6988089  ...  2.17486608  2.33449666\n",
      "   0.52044156]\n",
      " [-2.19326335 -2.28713402  3.6988089  ...  2.17486608  2.33449666\n",
      "   0.52044156]\n",
      " ...\n",
      " [-3.91399562 -0.56317122  7.23473795 ...  3.90085901  4.66511775\n",
      "   2.57581842]\n",
      " [-3.91399562 -0.56317122  7.23473795 ...  3.90085901  4.66511775\n",
      "   2.57581842]\n",
      " [-3.91399562 -0.56317122  7.23473795 ...  3.90085901  4.66511775\n",
      "   2.57581842]]\n",
      "a2 = [[-1.9983936  -3.9267067   3.67486659 ...  2.23154703  2.35386539\n",
      "   0.53596136]\n",
      " [-1.9983936  -3.9267067   3.67486659 ...  2.23154703  2.35386539\n",
      "   0.53596136]\n",
      " [-1.9983936  -3.9267067   3.67486659 ...  2.23154703  2.35386539\n",
      "   0.53596136]\n",
      " ...\n",
      " [-3.23393386 -1.75427152  7.31773167 ...  4.07394635  4.77669621\n",
      "   2.66109273]\n",
      " [-3.23393386 -1.75427152  7.31773167 ...  4.07394635  4.77669621\n",
      "   2.66109273]\n",
      " [-3.23393386 -1.75427152  7.31773167 ...  4.07394635  4.77669621\n",
      "   2.66109273]]\n",
      "a2 = [[-2.97189224 -1.44604275  3.67083696 ...  2.28673255  2.37247182\n",
      "   0.55013461]\n",
      " [-2.97189224 -1.44604275  3.67083696 ...  2.28673255  2.37247182\n",
      "   0.55013461]\n",
      " [-2.97189224 -1.44604275  3.67083696 ...  2.28673255  2.37247182\n",
      "   0.55013461]\n",
      " ...\n",
      " [-4.8723715  -0.23984184  7.44925725 ...  4.24764944  4.88897895\n",
      "   2.7477237 ]\n",
      " [-4.8723715  -0.23984184  7.44925725 ...  4.24764944  4.88897895\n",
      "   2.7477237 ]\n",
      " [-4.8723715  -0.23984184  7.44925725 ...  4.24764944  4.88897895\n",
      "   2.7477237 ]]\n",
      "a2 = [[ 2.02437594 -2.84668067  3.68439492 ...  2.33651426  2.38810404\n",
      "   0.56404043]\n",
      " [ 2.02437594 -2.84668067  3.68439492 ...  2.33651426  2.38810404\n",
      "   0.56404043]\n",
      " [ 2.02437594 -2.84668067  3.68439492 ...  2.33651426  2.38810404\n",
      "   0.56404043]\n",
      " ...\n",
      " [ 3.53838891 -1.39501088  7.51595972 ...  4.4198513   4.99954395\n",
      "   2.83540205]\n",
      " [ 3.53838891 -1.39501088  7.51595972 ...  4.4198513   4.99954395\n",
      "   2.83540205]\n",
      " [ 3.53838891 -1.39501088  7.51595972 ...  4.4198513   4.99954395\n",
      "   2.83540205]]\n",
      "a2 = [[ -8.83310496  -3.68513387   3.73597319 ...   2.38757799   2.40456682\n",
      "    0.57822745]\n",
      " [ -8.83310496  -3.68513387   3.73597319 ...   2.38757799   2.40456682\n",
      "    0.57822745]\n",
      " [ -8.83310496  -3.68513387   3.73597319 ...   2.38757799   2.40456682\n",
      "    0.57822745]\n",
      " ...\n",
      " [-12.99214893  -1.50722855   7.70285584 ...   4.59230816   5.10976958\n",
      "    2.92459305]\n",
      " [-12.99214893  -1.50722855   7.70285584 ...   4.59230816   5.10976958\n",
      "    2.92459305]\n",
      " [-12.99214893  -1.50722855   7.70285584 ...   4.59230816   5.10976958\n",
      "    2.92459305]]\n",
      "a2 = [[14.2935966  -3.89947026  3.76334846 ...  2.43766663  2.41981635\n",
      "   0.58844406]\n",
      " [14.2935966  -3.89947026  3.76334846 ...  2.43766663  2.41981635\n",
      "   0.58844406]\n",
      " [14.2935966  -3.89947026  3.76334846 ...  2.43766663  2.41981635\n",
      "   0.58844406]\n",
      " ...\n",
      " [17.59485607  3.11886793  7.99583438 ...  4.77499931  5.23382582\n",
      "   3.01865398]\n",
      " [17.59485607  3.11886793  7.99583438 ...  4.77499931  5.23382582\n",
      "   3.01865398]\n",
      " [17.59485607  3.11886793  7.99583438 ...  4.77499931  5.23382582\n",
      "   3.01865398]]\n",
      "a2 = [[ 19.17273799  -2.94162441   4.19253026 ...   2.32615282   2.19933685\n",
      "    0.18062067]\n",
      " [ 19.17273799  -2.94162441   4.19253026 ...   2.32615282   2.19933685\n",
      "    0.18062067]\n",
      " [ 19.17273799  -2.94162441   4.19253026 ...   2.32615282   2.19933685\n",
      "    0.18062067]\n",
      " ...\n",
      " [-12.53416041   0.67701808   8.46050241 ...   4.87887608   5.22082186\n",
      "    2.76966173]\n",
      " [-12.53416041   0.67701808   8.46050241 ...   4.87887608   5.22082186\n",
      "    2.76966173]\n",
      " [-12.53416041   0.67701808   8.46050241 ...   4.87887608   5.22082186\n",
      "    2.76966173]]\n"
     ]
    },
    {
     "name": "stderr",
     "output_type": "stream",
     "text": [
      "/tmp/ipykernel_17114/2941007396.py:7: RuntimeWarning: overflow encountered in exp\n",
      "  exp = np.exp(x)\n",
      "/tmp/ipykernel_17114/2941007396.py:8: RuntimeWarning: invalid value encountered in true_divide\n",
      "  res.append(exp / exp.sum())\n",
      "/tmp/ipykernel_17114/677205509.py:2: RuntimeWarning: divide by zero encountered in log\n",
      "  return - np.sum(np.log(z) * y)\n",
      "/tmp/ipykernel_17114/677205509.py:2: RuntimeWarning: invalid value encountered in multiply\n",
      "  return - np.sum(np.log(z) * y)\n"
     ]
    },
    {
     "name": "stdout",
     "output_type": "stream",
     "text": [
      "a2 = [[nan nan nan ... nan nan nan]\n",
      " [nan nan nan ... nan nan nan]\n",
      " [nan nan nan ... nan nan nan]\n",
      " ...\n",
      " [nan nan nan ... nan nan nan]\n",
      " [nan nan nan ... nan nan nan]\n",
      " [nan nan nan ... nan nan nan]]\n",
      "a2 = [[nan nan nan ... nan nan nan]\n",
      " [nan nan nan ... nan nan nan]\n",
      " [nan nan nan ... nan nan nan]\n",
      " ...\n",
      " [nan nan nan ... nan nan nan]\n",
      " [nan nan nan ... nan nan nan]\n",
      " [nan nan nan ... nan nan nan]]\n",
      "a2 = [[nan nan nan ... nan nan nan]\n",
      " [nan nan nan ... nan nan nan]\n",
      " [nan nan nan ... nan nan nan]\n",
      " ...\n",
      " [nan nan nan ... nan nan nan]\n",
      " [nan nan nan ... nan nan nan]\n",
      " [nan nan nan ... nan nan nan]]\n",
      "a2 = [[nan nan nan ... nan nan nan]\n",
      " [nan nan nan ... nan nan nan]\n",
      " [nan nan nan ... nan nan nan]\n",
      " ...\n",
      " [nan nan nan ... nan nan nan]\n",
      " [nan nan nan ... nan nan nan]\n",
      " [nan nan nan ... nan nan nan]]\n",
      "a2 = [[nan nan nan ... nan nan nan]\n",
      " [nan nan nan ... nan nan nan]\n",
      " [nan nan nan ... nan nan nan]\n",
      " ...\n",
      " [nan nan nan ... nan nan nan]\n",
      " [nan nan nan ... nan nan nan]\n",
      " [nan nan nan ... nan nan nan]]\n",
      "a2 = [[nan nan nan ... nan nan nan]\n",
      " [nan nan nan ... nan nan nan]\n",
      " [nan nan nan ... nan nan nan]\n",
      " ...\n",
      " [nan nan nan ... nan nan nan]\n",
      " [nan nan nan ... nan nan nan]\n",
      " [nan nan nan ... nan nan nan]]\n",
      "a2 = [[nan nan nan ... nan nan nan]\n",
      " [nan nan nan ... nan nan nan]\n",
      " [nan nan nan ... nan nan nan]\n",
      " ...\n",
      " [nan nan nan ... nan nan nan]\n",
      " [nan nan nan ... nan nan nan]\n",
      " [nan nan nan ... nan nan nan]]\n",
      "a2 = [[nan nan nan ... nan nan nan]\n",
      " [nan nan nan ... nan nan nan]\n",
      " [nan nan nan ... nan nan nan]\n",
      " ...\n",
      " [nan nan nan ... nan nan nan]\n",
      " [nan nan nan ... nan nan nan]\n",
      " [nan nan nan ... nan nan nan]]\n",
      "a2 = [[nan nan nan ... nan nan nan]\n",
      " [nan nan nan ... nan nan nan]\n",
      " [nan nan nan ... nan nan nan]\n",
      " ...\n",
      " [nan nan nan ... nan nan nan]\n",
      " [nan nan nan ... nan nan nan]\n",
      " [nan nan nan ... nan nan nan]]\n",
      "a2 = [[nan nan nan ... nan nan nan]\n",
      " [nan nan nan ... nan nan nan]\n",
      " [nan nan nan ... nan nan nan]\n",
      " ...\n",
      " [nan nan nan ... nan nan nan]\n",
      " [nan nan nan ... nan nan nan]\n",
      " [nan nan nan ... nan nan nan]]\n",
      "a2 = [[nan nan nan ... nan nan nan]\n",
      " [nan nan nan ... nan nan nan]\n",
      " [nan nan nan ... nan nan nan]\n",
      " ...\n",
      " [nan nan nan ... nan nan nan]\n",
      " [nan nan nan ... nan nan nan]\n",
      " [nan nan nan ... nan nan nan]]\n",
      "a2 = [[nan nan nan ... nan nan nan]\n",
      " [nan nan nan ... nan nan nan]\n",
      " [nan nan nan ... nan nan nan]\n",
      " ...\n",
      " [nan nan nan ... nan nan nan]\n",
      " [nan nan nan ... nan nan nan]\n",
      " [nan nan nan ... nan nan nan]]\n",
      "a2 = [[nan nan nan ... nan nan nan]\n",
      " [nan nan nan ... nan nan nan]\n",
      " [nan nan nan ... nan nan nan]\n",
      " ...\n",
      " [nan nan nan ... nan nan nan]\n",
      " [nan nan nan ... nan nan nan]\n",
      " [nan nan nan ... nan nan nan]]\n",
      "a2 = [[nan nan nan ... nan nan nan]\n",
      " [nan nan nan ... nan nan nan]\n",
      " [nan nan nan ... nan nan nan]\n",
      " ...\n",
      " [nan nan nan ... nan nan nan]\n",
      " [nan nan nan ... nan nan nan]\n",
      " [nan nan nan ... nan nan nan]]\n",
      "a2 = [[nan nan nan ... nan nan nan]\n",
      " [nan nan nan ... nan nan nan]\n",
      " [nan nan nan ... nan nan nan]\n",
      " ...\n",
      " [nan nan nan ... nan nan nan]\n",
      " [nan nan nan ... nan nan nan]\n",
      " [nan nan nan ... nan nan nan]]\n",
      "a2 = [[nan nan nan ... nan nan nan]\n",
      " [nan nan nan ... nan nan nan]\n",
      " [nan nan nan ... nan nan nan]\n",
      " ...\n",
      " [nan nan nan ... nan nan nan]\n",
      " [nan nan nan ... nan nan nan]\n",
      " [nan nan nan ... nan nan nan]]\n",
      "a2 = [[nan nan nan ... nan nan nan]\n",
      " [nan nan nan ... nan nan nan]\n",
      " [nan nan nan ... nan nan nan]\n",
      " ...\n",
      " [nan nan nan ... nan nan nan]\n",
      " [nan nan nan ... nan nan nan]\n",
      " [nan nan nan ... nan nan nan]]\n",
      "a2 = [[nan nan nan ... nan nan nan]\n",
      " [nan nan nan ... nan nan nan]\n",
      " [nan nan nan ... nan nan nan]\n",
      " ...\n",
      " [nan nan nan ... nan nan nan]\n",
      " [nan nan nan ... nan nan nan]\n",
      " [nan nan nan ... nan nan nan]]\n",
      "a2 = [[nan nan nan ... nan nan nan]\n",
      " [nan nan nan ... nan nan nan]\n",
      " [nan nan nan ... nan nan nan]\n",
      " ...\n",
      " [nan nan nan ... nan nan nan]\n",
      " [nan nan nan ... nan nan nan]\n",
      " [nan nan nan ... nan nan nan]]\n",
      "a2 = [[nan nan nan ... nan nan nan]\n",
      " [nan nan nan ... nan nan nan]\n",
      " [nan nan nan ... nan nan nan]\n",
      " ...\n",
      " [nan nan nan ... nan nan nan]\n",
      " [nan nan nan ... nan nan nan]\n",
      " [nan nan nan ... nan nan nan]]\n",
      "a2 = [[nan nan nan ... nan nan nan]\n",
      " [nan nan nan ... nan nan nan]\n",
      " [nan nan nan ... nan nan nan]\n",
      " ...\n",
      " [nan nan nan ... nan nan nan]\n",
      " [nan nan nan ... nan nan nan]\n",
      " [nan nan nan ... nan nan nan]]\n",
      "a2 = [[nan nan nan ... nan nan nan]\n",
      " [nan nan nan ... nan nan nan]\n",
      " [nan nan nan ... nan nan nan]\n",
      " ...\n",
      " [nan nan nan ... nan nan nan]\n",
      " [nan nan nan ... nan nan nan]\n",
      " [nan nan nan ... nan nan nan]]\n",
      "a2 = [[nan nan nan ... nan nan nan]\n",
      " [nan nan nan ... nan nan nan]\n",
      " [nan nan nan ... nan nan nan]\n",
      " ...\n",
      " [nan nan nan ... nan nan nan]\n",
      " [nan nan nan ... nan nan nan]\n",
      " [nan nan nan ... nan nan nan]]\n",
      "a2 = [[nan nan nan ... nan nan nan]\n",
      " [nan nan nan ... nan nan nan]\n",
      " [nan nan nan ... nan nan nan]\n",
      " ...\n",
      " [nan nan nan ... nan nan nan]\n",
      " [nan nan nan ... nan nan nan]\n",
      " [nan nan nan ... nan nan nan]]\n",
      "a2 = [[nan nan nan ... nan nan nan]\n",
      " [nan nan nan ... nan nan nan]\n",
      " [nan nan nan ... nan nan nan]\n",
      " ...\n",
      " [nan nan nan ... nan nan nan]\n",
      " [nan nan nan ... nan nan nan]\n",
      " [nan nan nan ... nan nan nan]]\n",
      "a2 = [[nan nan nan ... nan nan nan]\n",
      " [nan nan nan ... nan nan nan]\n",
      " [nan nan nan ... nan nan nan]\n",
      " ...\n",
      " [nan nan nan ... nan nan nan]\n",
      " [nan nan nan ... nan nan nan]\n",
      " [nan nan nan ... nan nan nan]]\n",
      "a2 = [[nan nan nan ... nan nan nan]\n",
      " [nan nan nan ... nan nan nan]\n",
      " [nan nan nan ... nan nan nan]\n",
      " ...\n",
      " [nan nan nan ... nan nan nan]\n",
      " [nan nan nan ... nan nan nan]\n",
      " [nan nan nan ... nan nan nan]]\n"
     ]
    },
    {
     "ename": "KeyboardInterrupt",
     "evalue": "",
     "output_type": "error",
     "traceback": [
      "\u001b[0;31m---------------------------------------------------------------------------\u001b[0m",
      "\u001b[0;31mKeyboardInterrupt\u001b[0m                         Traceback (most recent call last)",
      "\u001b[0;32m/tmp/ipykernel_17114/389600865.py\u001b[0m in \u001b[0;36m<module>\u001b[0;34m\u001b[0m\n\u001b[1;32m     10\u001b[0m \u001b[0mlearning_rate\u001b[0m \u001b[0;34m=\u001b[0m \u001b[0;36m0.01\u001b[0m\u001b[0;34m\u001b[0m\u001b[0;34m\u001b[0m\u001b[0m\n\u001b[1;32m     11\u001b[0m \u001b[0;34m\u001b[0m\u001b[0m\n\u001b[0;32m---> 12\u001b[0;31m \u001b[0mhistory\u001b[0m \u001b[0;34m=\u001b[0m \u001b[0;34m[\u001b[0m\u001b[0mbackward\u001b[0m\u001b[0;34m(\u001b[0m\u001b[0mmodel\u001b[0m\u001b[0;34m,\u001b[0m \u001b[0mX\u001b[0m\u001b[0;34m,\u001b[0m \u001b[0my\u001b[0m\u001b[0;34m,\u001b[0m \u001b[0mlearning_rate\u001b[0m\u001b[0;34m)\u001b[0m \u001b[0;32mfor\u001b[0m \u001b[0m_\u001b[0m \u001b[0;32min\u001b[0m \u001b[0mrange\u001b[0m\u001b[0;34m(\u001b[0m\u001b[0mn_iter\u001b[0m\u001b[0;34m)\u001b[0m\u001b[0;34m]\u001b[0m\u001b[0;34m\u001b[0m\u001b[0;34m\u001b[0m\u001b[0m\n\u001b[0m\u001b[1;32m     13\u001b[0m \u001b[0;34m\u001b[0m\u001b[0m\n\u001b[1;32m     14\u001b[0m \u001b[0mplt\u001b[0m\u001b[0;34m.\u001b[0m\u001b[0mclf\u001b[0m\u001b[0;34m(\u001b[0m\u001b[0;34m)\u001b[0m\u001b[0;34m\u001b[0m\u001b[0;34m\u001b[0m\u001b[0m\n",
      "\u001b[0;32m/tmp/ipykernel_17114/389600865.py\u001b[0m in \u001b[0;36m<listcomp>\u001b[0;34m(.0)\u001b[0m\n\u001b[1;32m     10\u001b[0m \u001b[0mlearning_rate\u001b[0m \u001b[0;34m=\u001b[0m \u001b[0;36m0.01\u001b[0m\u001b[0;34m\u001b[0m\u001b[0;34m\u001b[0m\u001b[0m\n\u001b[1;32m     11\u001b[0m \u001b[0;34m\u001b[0m\u001b[0m\n\u001b[0;32m---> 12\u001b[0;31m \u001b[0mhistory\u001b[0m \u001b[0;34m=\u001b[0m \u001b[0;34m[\u001b[0m\u001b[0mbackward\u001b[0m\u001b[0;34m(\u001b[0m\u001b[0mmodel\u001b[0m\u001b[0;34m,\u001b[0m \u001b[0mX\u001b[0m\u001b[0;34m,\u001b[0m \u001b[0my\u001b[0m\u001b[0;34m,\u001b[0m \u001b[0mlearning_rate\u001b[0m\u001b[0;34m)\u001b[0m \u001b[0;32mfor\u001b[0m \u001b[0m_\u001b[0m \u001b[0;32min\u001b[0m \u001b[0mrange\u001b[0m\u001b[0;34m(\u001b[0m\u001b[0mn_iter\u001b[0m\u001b[0;34m)\u001b[0m\u001b[0;34m]\u001b[0m\u001b[0;34m\u001b[0m\u001b[0;34m\u001b[0m\u001b[0m\n\u001b[0m\u001b[1;32m     13\u001b[0m \u001b[0;34m\u001b[0m\u001b[0m\n\u001b[1;32m     14\u001b[0m \u001b[0mplt\u001b[0m\u001b[0;34m.\u001b[0m\u001b[0mclf\u001b[0m\u001b[0;34m(\u001b[0m\u001b[0;34m)\u001b[0m\u001b[0;34m\u001b[0m\u001b[0;34m\u001b[0m\u001b[0m\n",
      "\u001b[0;32m/tmp/ipykernel_17114/1363522774.py\u001b[0m in \u001b[0;36mbackward\u001b[0;34m(model, X, y, alpha)\u001b[0m\n\u001b[1;32m     12\u001b[0m     \u001b[0mmodel\u001b[0m\u001b[0;34m[\u001b[0m\u001b[0;34m\"w2\"\u001b[0m\u001b[0;34m]\u001b[0m \u001b[0;34m-=\u001b[0m \u001b[0malpha\u001b[0m \u001b[0;34m*\u001b[0m \u001b[0mdw2\u001b[0m\u001b[0;34m\u001b[0m\u001b[0;34m\u001b[0m\u001b[0m\n\u001b[1;32m     13\u001b[0m \u001b[0;34m\u001b[0m\u001b[0m\n\u001b[0;32m---> 14\u001b[0;31m     \u001b[0;32mreturn\u001b[0m \u001b[0mcross_entropy\u001b[0m\u001b[0;34m(\u001b[0m\u001b[0mcache\u001b[0m\u001b[0;34m[\u001b[0m\u001b[0;34m\"z\"\u001b[0m\u001b[0;34m]\u001b[0m\u001b[0;34m,\u001b[0m \u001b[0my\u001b[0m\u001b[0;34m)\u001b[0m\u001b[0;34m\u001b[0m\u001b[0;34m\u001b[0m\u001b[0m\n\u001b[0m",
      "\u001b[0;32m/tmp/ipykernel_17114/677205509.py\u001b[0m in \u001b[0;36mcross_entropy\u001b[0;34m(z, y)\u001b[0m\n\u001b[1;32m      1\u001b[0m \u001b[0;32mdef\u001b[0m \u001b[0mcross_entropy\u001b[0m\u001b[0;34m(\u001b[0m\u001b[0mz\u001b[0m\u001b[0;34m,\u001b[0m \u001b[0my\u001b[0m\u001b[0;34m)\u001b[0m\u001b[0;34m:\u001b[0m\u001b[0;34m\u001b[0m\u001b[0;34m\u001b[0m\u001b[0m\n\u001b[0;32m----> 2\u001b[0;31m     \u001b[0;32mreturn\u001b[0m \u001b[0;34m-\u001b[0m \u001b[0mnp\u001b[0m\u001b[0;34m.\u001b[0m\u001b[0msum\u001b[0m\u001b[0;34m(\u001b[0m\u001b[0mnp\u001b[0m\u001b[0;34m.\u001b[0m\u001b[0mlog\u001b[0m\u001b[0;34m(\u001b[0m\u001b[0mz\u001b[0m\u001b[0;34m)\u001b[0m \u001b[0;34m*\u001b[0m \u001b[0my\u001b[0m\u001b[0;34m)\u001b[0m\u001b[0;34m\u001b[0m\u001b[0;34m\u001b[0m\u001b[0m\n\u001b[0m",
      "\u001b[0;31mKeyboardInterrupt\u001b[0m: "
     ]
    }
   ],
   "source": [
    "import matplotlib.pyplot as plt\n",
    "%matplotlib inline\n",
    "%config InlineBackend.figure_format = 'svg'\n",
    "plt.style.use(\"seaborn\")\n",
    "\n",
    "model = init_network(len(word_to_id), 10)\n",
    "\n",
    "n_iter = 100\n",
    "\n",
    "learning_rate = 0.01\n",
    "\n",
    "history = [backward(model, X, y, learning_rate) for _ in range(n_iter)]\n",
    "\n",
    "plt.clf()\n",
    "plt.plot(range(len(history)), history, color=\"skyblue\")\n",
    "plt.show()"
   ]
  },
  {
   "cell_type": "code",
   "execution_count": 375,
   "id": "e16649f6",
   "metadata": {
    "scrolled": true
   },
   "outputs": [
    {
     "data": {
      "text/plain": [
       "[41174.36920437467,\n",
       " 34001.97985689214,\n",
       " 36940.93215854208,\n",
       " nan,\n",
       " nan,\n",
       " nan,\n",
       " nan,\n",
       " nan,\n",
       " nan,\n",
       " nan,\n",
       " nan,\n",
       " nan,\n",
       " nan,\n",
       " nan,\n",
       " nan,\n",
       " nan,\n",
       " nan,\n",
       " nan,\n",
       " nan,\n",
       " nan,\n",
       " nan,\n",
       " nan,\n",
       " nan,\n",
       " nan,\n",
       " nan,\n",
       " nan,\n",
       " nan,\n",
       " nan,\n",
       " nan,\n",
       " nan,\n",
       " nan,\n",
       " nan,\n",
       " nan,\n",
       " nan,\n",
       " nan,\n",
       " nan,\n",
       " nan,\n",
       " nan,\n",
       " nan,\n",
       " nan,\n",
       " nan,\n",
       " nan,\n",
       " nan,\n",
       " nan,\n",
       " nan,\n",
       " nan,\n",
       " nan,\n",
       " nan,\n",
       " nan,\n",
       " nan,\n",
       " nan,\n",
       " nan,\n",
       " nan,\n",
       " nan,\n",
       " nan,\n",
       " nan,\n",
       " nan,\n",
       " nan,\n",
       " nan,\n",
       " nan,\n",
       " nan,\n",
       " nan,\n",
       " nan,\n",
       " nan,\n",
       " nan,\n",
       " nan,\n",
       " nan,\n",
       " nan,\n",
       " nan,\n",
       " nan,\n",
       " nan,\n",
       " nan,\n",
       " nan,\n",
       " nan,\n",
       " nan,\n",
       " nan,\n",
       " nan,\n",
       " nan,\n",
       " nan,\n",
       " nan,\n",
       " nan,\n",
       " nan,\n",
       " nan,\n",
       " nan,\n",
       " nan,\n",
       " nan,\n",
       " nan,\n",
       " nan,\n",
       " nan,\n",
       " nan,\n",
       " nan,\n",
       " nan,\n",
       " nan,\n",
       " nan,\n",
       " nan,\n",
       " nan,\n",
       " nan,\n",
       " nan,\n",
       " nan,\n",
       " nan]"
      ]
     },
     "execution_count": 375,
     "metadata": {},
     "output_type": "execute_result"
    }
   ],
   "source": [
    "history"
   ]
  },
  {
   "cell_type": "code",
   "execution_count": 341,
   "id": "1b8dee2c",
   "metadata": {},
   "outputs": [
    {
     "data": {
      "text/plain": [
       "{'w1': array([[ 2.13567115,  1.56644306, -3.31168808, ..., -1.27881225,\n",
       "         -3.665346  , -0.71643332],\n",
       "        [ 2.94476094,  6.58798465, -1.4649149 , ..., -2.23153483,\n",
       "         -0.37211619, -2.20278355],\n",
       "        [ 0.55475392,  1.25378585,  0.35800644, ..., -1.14515458,\n",
       "         -1.38277165,  0.17231827],\n",
       "        ...,\n",
       "        [-0.3725349 , -0.38839347, -0.72622149, ..., -0.41574326,\n",
       "          0.22873693,  0.41594231],\n",
       "        [ 0.65206881,  0.13455332, -0.77005649, ..., -0.54984952,\n",
       "          0.67393012,  0.74957822],\n",
       "        [-0.06613055,  1.20413236,  0.14463711, ..., -0.24066138,\n",
       "          1.16531767,  0.13553259]]),\n",
       " 'w2': array([[-0.38738713, -0.20646114, -1.97325222, ..., -1.9887021 ,\n",
       "          0.37277566, -0.68325111],\n",
       "        [ 1.07978176,  1.52915627,  1.04595509, ...,  1.44282791,\n",
       "          0.73902303, -0.02384995],\n",
       "        [ 1.66933701, -1.79943934,  0.94013394, ..., -0.23462402,\n",
       "          1.0196433 ,  1.28843454],\n",
       "        ...,\n",
       "        [-1.11376898,  0.75841651,  1.07337967, ..., -1.23886764,\n",
       "          1.32588322, -0.37369725],\n",
       "        [ 0.51986184, -0.25637104, -0.12081685, ...,  0.40536259,\n",
       "          1.04164823,  0.31125386],\n",
       "        [-1.40846999, -1.72980199, -0.61670572, ..., -0.04288887,\n",
       "         -1.08684338, -1.00064972]])}"
      ]
     },
     "execution_count": 341,
     "metadata": {},
     "output_type": "execute_result"
    }
   ],
   "source": [
    "model"
   ]
  },
  {
   "cell_type": "code",
   "execution_count": 342,
   "id": "9af89108",
   "metadata": {},
   "outputs": [
    {
     "data": {
      "text/plain": [
       "array([5.05350373e-05, 2.07845523e-03, 1.52483075e-07, ...,\n",
       "       1.66334004e-04, 9.25094728e-07, 4.76827251e-06])"
      ]
     },
     "execution_count": 342,
     "metadata": {},
     "output_type": "execute_result"
    }
   ],
   "source": [
    "learning = one_hot_encode(word_to_id[\"گرم\"], len(word_to_id))\n",
    "result = forward(model, [learning], return_cache=False)[0]\n",
    "result"
   ]
  },
  {
   "cell_type": "raw",
   "id": "24d8bc0e",
   "metadata": {},
   "source": [
    "np.argsort(result)[::-1]"
   ]
  },
  {
   "cell_type": "code",
   "execution_count": 343,
   "id": "910a9318",
   "metadata": {},
   "outputs": [
    {
     "data": {
      "text/plain": [
       "array([  18,   90,  533, 1048, 1127])"
      ]
     },
     "execution_count": 343,
     "metadata": {},
     "output_type": "execute_result"
    }
   ],
   "source": [
    "np.argsort(result)[::-1][0:5]"
   ]
  },
  {
   "cell_type": "code",
   "execution_count": 344,
   "id": "0a72eddb",
   "metadata": {
    "scrolled": true
   },
   "outputs": [
    {
     "name": "stdout",
     "output_type": "stream",
     "text": [
      "آتش\n",
      "ربود\n",
      "فشرد\n",
      "نگار\n",
      "برق\n",
      "درده\n",
      "وان\n",
      "فرید\n",
      "خبر\n",
      "عدم\n"
     ]
    }
   ],
   "source": [
    "for word in (id_to_word[id] for id in np.argsort(result)[::-1][0:10]):\n",
    "    print(word)\n"
   ]
  },
  {
   "cell_type": "code",
   "execution_count": 345,
   "id": "47657db7",
   "metadata": {},
   "outputs": [],
   "source": [
    "def get_word_similarities(word, model, n_similars=10):\n",
    "    try:\n",
    "        learning = one_hot_encode(word_to_id[word]-1, len(word_to_id))\n",
    "    except KeyError:\n",
    "        print(f\"Word = {word} is not in corpus\")\n",
    "        exit()\n",
    "    result = forward(model, [learning], return_cache=False)[0]\n",
    "    for word in (id_to_word[id+1] for id in np.argsort(result)[::-1][0:n_similars]):\n",
    "        print(word)\n",
    "\n",
    "    "
   ]
  },
  {
   "cell_type": "code",
   "execution_count": 346,
   "id": "ecb0269a",
   "metadata": {},
   "outputs": [],
   "source": [
    "def get_embedding(model, word):\n",
    "    try:\n",
    "        idx = word_to_id[word] -1\n",
    "    except KeyError:\n",
    "        print(\"`word` not in corpus\")\n",
    "    one_hot = one_hot_encode(idx, len(word_to_id))\n",
    "    return forward(model, one_hot)[\"a1\"]"
   ]
  },
  {
   "cell_type": "code",
   "execution_count": 347,
   "id": "35c22cbe",
   "metadata": {},
   "outputs": [
    {
     "data": {
      "text/plain": [
       "array([ 0.003464  , -0.59311171,  0.6253052 , -1.32282204, -0.69900121,\n",
       "        2.49275488, -1.19139365, -1.16855214,  0.6965306 , -0.49444951])"
      ]
     },
     "execution_count": 347,
     "metadata": {},
     "output_type": "execute_result"
    }
   ],
   "source": [
    "get_embedding(model, \"دیو\")\n"
   ]
  },
  {
   "cell_type": "code",
   "execution_count": 348,
   "id": "127159ba",
   "metadata": {},
   "outputs": [
    {
     "name": "stdout",
     "output_type": "stream",
     "text": [
      "خور\n",
      "غلام\n",
      "عشق\n",
      "رقاد\n",
      "قوم\n",
      "عاشق\n",
      "باللقاء\n",
      "منت\n",
      "پارس\n",
      "جوع\n"
     ]
    }
   ],
   "source": [
    "get_word_similarities('عیش', model, 10)"
   ]
  },
  {
   "cell_type": "code",
   "execution_count": 349,
   "id": "add097d9",
   "metadata": {},
   "outputs": [
    {
     "name": "stdout",
     "output_type": "stream",
     "text": [
      "معاد\n",
      "نسیم\n",
      "مستفید\n",
      "الکتب\n",
      "شیفته\n",
      "بلا\n",
      "کرده\n",
      "حمرا\n",
      "خواهی_چو\n",
      "اجل\n"
     ]
    }
   ],
   "source": [
    "get_word_similarities('میخانه', model, 10)"
   ]
  },
  {
   "cell_type": "code",
   "execution_count": 350,
   "id": "bb3e7c5a",
   "metadata": {},
   "outputs": [
    {
     "name": "stdout",
     "output_type": "stream",
     "text": [
      "جان\n",
      "قوم\n",
      "خور\n",
      "باده\n",
      "چشم\n",
      "زود\n",
      "خواب\n",
      "دل\n",
      "الفناء\n",
      "نظر\n"
     ]
    }
   ],
   "source": [
    "get_word_similarities('بشر', model, 10)"
   ]
  },
  {
   "cell_type": "code",
   "execution_count": 351,
   "id": "91dcfbd6",
   "metadata": {},
   "outputs": [
    {
     "name": "stdout",
     "output_type": "stream",
     "text": [
      "رو\n",
      "عاطفه\n",
      "عاشق\n",
      "سقف\n",
      "لست\n",
      "قافله\n",
      "درآ\n",
      "گنبد\n",
      "انفک\n",
      "شبت\n"
     ]
    }
   ],
   "source": [
    "get_word_similarities('ویرانه', model, 10)"
   ]
  },
  {
   "cell_type": "code",
   "execution_count": 352,
   "id": "83a27fdf",
   "metadata": {},
   "outputs": [
    {
     "name": "stdout",
     "output_type": "stream",
     "text": [
      "گنبد\n",
      "گرد\n",
      "آتش\n",
      "بموتی\n",
      "جمیلا\n",
      "نسیم\n",
      "دین\n",
      "الکتب\n",
      "رو\n",
      "اوباش\n"
     ]
    }
   ],
   "source": [
    "get_word_similarities('حلال', model, 10)"
   ]
  },
  {
   "cell_type": "code",
   "execution_count": 61,
   "id": "e36eb26e",
   "metadata": {},
   "outputs": [
    {
     "data": {
      "text/plain": [
       "array([[-0.87561612, -1.14905166,  0.10131987, -1.86758747],\n",
       "       [-1.55412121,  0.31428543,  1.61102762, -1.25036518]])"
      ]
     },
     "execution_count": 61,
     "metadata": {},
     "output_type": "execute_result"
    }
   ],
   "source": [
    "np.random.randn(2, 4)"
   ]
  },
  {
   "cell_type": "code",
   "execution_count": 63,
   "id": "0759bb2b",
   "metadata": {},
   "outputs": [
    {
     "data": {
      "text/plain": [
       "array([[ 0.6661623 ,  0.70206294, -0.97759554,  0.75347279],\n",
       "       [-0.7818824 , -0.63595427, -0.05453096,  0.15557554]])"
      ]
     },
     "execution_count": 63,
     "metadata": {},
     "output_type": "execute_result"
    }
   ],
   "source": [
    "np.random.uniform(-1, 1, (vocab_size, word_embedding_dimension))"
   ]
  },
  {
   "cell_type": "code",
   "execution_count": 33,
   "id": "94f96c39",
   "metadata": {},
   "outputs": [
    {
     "name": "stdout",
     "output_type": "stream",
     "text": [
      "Model: \"sequential_26\"\n",
      "_________________________________________________________________\n",
      " Layer (type)                Output Shape              Param #   \n",
      "=================================================================\n",
      " dense_44 (Dense)            (None, 16)                128       \n",
      "                                                                 \n",
      " dense_45 (Dense)            (None, 4)                 64        \n",
      "                                                                 \n",
      "=================================================================\n",
      "Total params: 192\n",
      "Trainable params: 192\n",
      "Non-trainable params: 0\n",
      "_________________________________________________________________\n",
      "None\n"
     ]
    }
   ],
   "source": [
    "from tensorflow import keras\n",
    "\n",
    "from keras.models import Sequential \n",
    "from keras.layers import Activation, Dense, Reshape \n",
    "\n",
    " \n",
    "model = Sequential() \n",
    "layer_1 = Dense(16, input_shape = (8,), use_bias=False) \n",
    "model.add(layer_1) \n",
    "# layer_2 = Reshape((16,8)) \n",
    "# model.add(layer_2) \n",
    "layer_3 = Dense(4, use_bias=False) \n",
    "model.add(layer_3) \n",
    "\n",
    "# print(layer_2.input_shape) \n",
    "#(None, 8, 16) \n",
    "# print(layer_2.ouput_shape) \n",
    "#(None, 16, 8)\n",
    "\n",
    "print(model.summary())\n",
    "visualizer(model, format='png', view=True)\n"
   ]
  },
  {
   "cell_type": "code",
   "execution_count": null,
   "id": "1e44273d",
   "metadata": {},
   "outputs": [],
   "source": [
    "from tensorflow import keras\n",
    "from keras.models import Sequential \n",
    "from keras.layers import Activation, Dense, Reshape \n",
    "\n",
    "\n"
   ]
  }
 ],
 "metadata": {
  "kernelspec": {
   "display_name": "Python 3 (ipykernel)",
   "language": "python",
   "name": "python3"
  },
  "language_info": {
   "codemirror_mode": {
    "name": "ipython",
    "version": 3
   },
   "file_extension": ".py",
   "mimetype": "text/x-python",
   "name": "python",
   "nbconvert_exporter": "python",
   "pygments_lexer": "ipython3",
   "version": "3.8.2"
  }
 },
 "nbformat": 4,
 "nbformat_minor": 5
}
