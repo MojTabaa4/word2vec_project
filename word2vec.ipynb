{
 "cells": [
  {
   "cell_type": "code",
   "execution_count": 12,
   "id": "caf6ab00",
   "metadata": {},
   "outputs": [
    {
     "name": "stderr",
     "output_type": "stream",
     "text": [
      "2022-05-03 20:15:25.939654: W tensorflow/stream_executor/platform/default/dso_loader.cc:64] Could not load dynamic library 'libcudart.so.11.0'; dlerror: libcudart.so.11.0: cannot open shared object file: No such file or directory\n",
      "2022-05-03 20:15:25.939733: I tensorflow/stream_executor/cuda/cudart_stub.cc:29] Ignore above cudart dlerror if you do not have a GPU set up on your machine.\n"
     ]
    }
   ],
   "source": [
    "import os\n",
    "import nltk\n",
    "import re\n",
    "import numpy as np\n",
    "from hazm import word_tokenize, Lemmatizer, Stemmer, Normalizer\n",
    "from pprint import pprint\n",
    "import pandas as pd\n",
    "from tensorflow import keras\n",
    "from keras.preprocessing.text import Tokenizer\n"
   ]
  },
  {
   "cell_type": "code",
   "execution_count": 3,
   "id": "25d9f4c8",
   "metadata": {},
   "outputs": [
    {
     "data": {
      "text/plain": [
       "دیوان شمس تبریزی (غزلیات)    صورت دل صورت مخلوق نیست\\tکز رخ دل حسن خدا رو نمود\n",
       "Name: 5, dtype: object"
      ]
     },
     "execution_count": 3,
     "metadata": {},
     "output_type": "execute_result"
    }
   ],
   "source": [
    "raw_text = pd.read_csv('Shams_Corpus_Paper3.txt')\n",
    "raw_text.iloc[5]"
   ]
  },
  {
   "cell_type": "code",
   "execution_count": 45,
   "id": "c7e79b6e",
   "metadata": {},
   "outputs": [],
   "source": [
    "file = open(os.getcwd() + \"/Shams_Corpus_Paper3.txt\", \"rt\")\n",
    "raw_text = file.read()\n",
    "file.close()\n"
   ]
  },
  {
   "cell_type": "raw",
   "id": "6f3cef90",
   "metadata": {},
   "source": [
    "#raw_text"
   ]
  },
  {
   "cell_type": "code",
   "execution_count": 59,
   "id": "673044c4",
   "metadata": {},
   "outputs": [],
   "source": [
    "def remove_persian_stopword(tokens):\n",
    "    file = open(os.getcwd() + \"/persian_stopw.txt\", \"rt\")\n",
    "    raw_stop_words = file.read()\n",
    "    file.close()\n",
    "\n",
    "    stop_words = word_tokenize(raw_stop_words)\n",
    "\n",
    "    return [word for word in tokens if not word in stop_words]"
   ]
  },
  {
   "cell_type": "code",
   "execution_count": 60,
   "id": "dc545103",
   "metadata": {},
   "outputs": [],
   "source": [
    "def normalize_text(text):\n",
    "    normalizer = Normalizer()\n",
    "    \n",
    "    return normalizer.normalize(text)"
   ]
  },
  {
   "cell_type": "code",
   "execution_count": 61,
   "id": "f8bd82b3",
   "metadata": {},
   "outputs": [],
   "source": [
    "def lemma_tokenizer(tokens):\n",
    "    lemmatizer = Lemmatizer()    \n",
    "    return [lemmatizer.lemmatize(token) for token in tokens]"
   ]
  },
  {
   "cell_type": "code",
   "execution_count": 62,
   "id": "32725243",
   "metadata": {},
   "outputs": [],
   "source": [
    "def stem_tokenizer(tokens):\n",
    "    stemmer = Stemmer()\n",
    "    return [stemmer.stem(token) for token in tokens]"
   ]
  },
  {
   "cell_type": "code",
   "execution_count": 76,
   "id": "7245f720",
   "metadata": {
    "scrolled": true
   },
   "outputs": [
    {
     "data": {
      "text/plain": [
       "78389"
      ]
     },
     "execution_count": 76,
     "metadata": {},
     "output_type": "execute_result"
    }
   ],
   "source": [
    "raw_text = \"\".join([i for i in raw_text if not i.isdigit()])\n",
    "raw_text = re.sub(r\"-+|\\d+\", \"\", raw_text)\n",
    "\n",
    "raw_text = normalize_text(raw_text)\n",
    "\n",
    "raw_tokens = word_tokenize(raw_text)\n",
    "len(raw_tokens)"
   ]
  },
  {
   "cell_type": "code",
   "execution_count": 77,
   "id": "a8ff051e",
   "metadata": {},
   "outputs": [
    {
     "data": {
      "text/plain": [
       "list"
      ]
     },
     "execution_count": 77,
     "metadata": {},
     "output_type": "execute_result"
    }
   ],
   "source": [
    "type(raw_tokens)"
   ]
  },
  {
   "cell_type": "code",
   "execution_count": 89,
   "id": "43de9372",
   "metadata": {},
   "outputs": [
    {
     "data": {
      "text/plain": [
       "47335"
      ]
     },
     "execution_count": 89,
     "metadata": {},
     "output_type": "execute_result"
    }
   ],
   "source": [
    "tokens = remove_persian_stopword(raw_tokens)\n",
    "len(tokens)"
   ]
  },
  {
   "cell_type": "code",
   "execution_count": 146,
   "id": "f7f815ad",
   "metadata": {},
   "outputs": [],
   "source": [
    "t = Tokenizer()\n",
    "t.fit_on_texts(tokens)"
   ]
  },
  {
   "cell_type": "code",
   "execution_count": 147,
   "id": "7fc0ec86",
   "metadata": {},
   "outputs": [
    {
     "data": {
      "text/plain": [
       "[('دل', 621),\n",
       " ('جان', 587),\n",
       " ('عشق', 455),\n",
       " ('سر', 390),\n",
       " ('شمس', 210),\n",
       " ('خوش', 187),\n",
       " ('آب', 179),\n",
       " ('دست', 175),\n",
       " ('سوی', 174),\n",
       " ('چشم', 171),\n",
       " ('خویش', 171),\n",
       " ('جهان', 167),\n",
       " ('صد', 165),\n",
       " ('یار', 162),\n",
       " ('دم', 154),\n",
       " ('روی', 145),\n",
       " ('شب', 143),\n",
       " ('کار', 141),\n",
       " ('رو', 140),\n",
       " ('مست', 138)]"
      ]
     },
     "execution_count": 147,
     "metadata": {},
     "output_type": "execute_result"
    }
   ],
   "source": [
    "count_list = sorted(t.word_counts.items(), key=lambda x: x[1], reverse=True)\n",
    "count_list[:20]"
   ]
  },
  {
   "cell_type": "code",
   "execution_count": 119,
   "id": "e8dd20c3",
   "metadata": {},
   "outputs": [
    {
     "name": "stdout",
     "output_type": "stream",
     "text": [
      "46732\n",
      "45349\n"
     ]
    }
   ],
   "source": [
    "lammatized_tokens = remove_persian_stopword(lemma_tokenizer(tokens))\n",
    "print(len(lammatized_tokens))\n",
    "\n",
    "stemmed_tokens = remove_persian_stopword(stem_tokenizer(tokens))\n",
    "print(len(stemmed_tokens))"
   ]
  },
  {
   "cell_type": "code",
   "execution_count": 139,
   "id": "5ef7677d",
   "metadata": {},
   "outputs": [],
   "source": [
    "t = Tokenizer()\n",
    "t.fit_on_texts(lammatized_tokens)\n",
    "sorted_count_list = sorted(t.word_counts.items(), key=lambda x: x[1], reverse=True)"
   ]
  },
  {
   "cell_type": "code",
   "execution_count": 140,
   "id": "98dcc551",
   "metadata": {
    "scrolled": true
   },
   "outputs": [
    {
     "data": {
      "text/plain": [
       "[('دل', 734),\n",
       " ('جان', 700),\n",
       " ('عشق', 508),\n",
       " ('سر', 426),\n",
       " ('دان', 276),\n",
       " ('کرد', 271),\n",
       " ('کن', 271),\n",
       " ('رو', 268),\n",
       " ('گو', 263),\n",
       " ('گشت', 249),\n",
       " ('گرد', 246),\n",
       " ('دانست', 238),\n",
       " ('بین', 233),\n",
       " ('دید', 225),\n",
       " ('مست', 220),\n",
       " ('سو', 215),\n",
       " ('گفت', 214),\n",
       " ('شمس', 213),\n",
       " ('چشم', 201),\n",
       " ('خوش', 200)]"
      ]
     },
     "execution_count": 140,
     "metadata": {},
     "output_type": "execute_result"
    }
   ],
   "source": [
    "sorted_count_list[:20]"
   ]
  },
  {
   "cell_type": "code",
   "execution_count": 141,
   "id": "8889a8f8",
   "metadata": {},
   "outputs": [
    {
     "data": {
      "text/plain": [
       "8437"
      ]
     },
     "execution_count": 141,
     "metadata": {},
     "output_type": "execute_result"
    }
   ],
   "source": [
    "len(t.word_index)"
   ]
  },
  {
   "cell_type": "code",
   "execution_count": 143,
   "id": "43faa9a7",
   "metadata": {},
   "outputs": [],
   "source": [
    "def mapping(tokens):\n",
    "    word_to_id = {}\n",
    "    id_to_word = {}\n",
    "    \n",
    "    for i, token in enumerate(set(tokens)):\n",
    "        word_to_id[token] = i\n",
    "        id_to_word[i] = token\n",
    "    \n",
    "    return word_to_id, id_to_word"
   ]
  },
  {
   "cell_type": "code",
   "execution_count": 144,
   "id": "60635230",
   "metadata": {},
   "outputs": [
    {
     "data": {
      "text/plain": [
       "8016"
      ]
     },
     "execution_count": 144,
     "metadata": {},
     "output_type": "execute_result"
    }
   ],
   "source": [
    "word_to_id, id_to_word = mapping(stemmed_tokens)\n",
    "len(word_to_id)"
   ]
  },
  {
   "cell_type": "code",
   "execution_count": 145,
   "id": "bc6eb0b7",
   "metadata": {},
   "outputs": [
    {
     "data": {
      "text/plain": [
       "8016"
      ]
     },
     "execution_count": 145,
     "metadata": {},
     "output_type": "execute_result"
    }
   ],
   "source": [
    "len(word_to_id)"
   ]
  },
  {
   "cell_type": "code",
   "execution_count": 106,
   "id": "95529f95",
   "metadata": {},
   "outputs": [],
   "source": [
    "def concat(*iterables):\n",
    "    for iterable in iterables:\n",
    "        yield from iterable"
   ]
  },
  {
   "cell_type": "code",
   "execution_count": 107,
   "id": "3661ad39",
   "metadata": {},
   "outputs": [],
   "source": [
    "def one_hot_encode(id, vocab_size):\n",
    "    res = [0] * vocab_size\n",
    "    res[id] = 1\n",
    "    return res"
   ]
  },
  {
   "cell_type": "code",
   "execution_count": 108,
   "id": "19cf7241",
   "metadata": {},
   "outputs": [],
   "source": [
    "import numpy as np\n",
    "\n",
    "np.random.seed(42)\n",
    "\n",
    "\n",
    "def generate_training_data(tokens, word_to_id, window):\n",
    "    X = []\n",
    "    y = []\n",
    "    n_tokens = len(tokens)\n",
    "    \n",
    "    for i in range(n_tokens):\n",
    "        idx = concat(\n",
    "            range(max(0, i - window), i), \n",
    "            range(i, min(n_tokens, i + window + 1))\n",
    "        )\n",
    "        for j in idx:\n",
    "            if i == j:\n",
    "                continue\n",
    "            X.append(one_hot_encode(word_to_id[tokens[i]], len(word_to_id)))\n",
    "            y.append(one_hot_encode(word_to_id[tokens[j]], len(word_to_id)))\n",
    "    \n",
    "    return np.asarray(X), np.asarray(y)"
   ]
  },
  {
   "cell_type": "code",
   "execution_count": 112,
   "id": "f2842b2c",
   "metadata": {},
   "outputs": [],
   "source": [
    "X, y = generate_training_data(lammatized_tokens, word_to_id, 4)\n"
   ]
  },
  {
   "cell_type": "code",
   "execution_count": 75,
   "id": "56574e23",
   "metadata": {},
   "outputs": [
    {
     "name": "stdout",
     "output_type": "stream",
     "text": [
      "[[0 0 0 ... 0 0 0]\n",
      " [0 0 0 ... 0 0 0]\n",
      " [0 0 0 ... 0 0 0]\n",
      " [0 0 0 ... 0 0 0]]\n"
     ]
    }
   ],
   "source": [
    "print(y[5:9] ,sep = '\\n')"
   ]
  },
  {
   "cell_type": "code",
   "execution_count": 76,
   "id": "1f4f2a48",
   "metadata": {},
   "outputs": [
    {
     "name": "stdout",
     "output_type": "stream",
     "text": [
      "[[0 0 0 ... 0 0 0]\n",
      " [0 0 0 ... 0 0 0]\n",
      " [0 0 0 ... 0 0 0]\n",
      " [0 0 0 ... 0 0 0]]\n"
     ]
    }
   ],
   "source": [
    "print(X[5:9] ,sep = '\\n')"
   ]
  },
  {
   "cell_type": "code",
   "execution_count": 113,
   "id": "a9d44b8a",
   "metadata": {},
   "outputs": [
    {
     "data": {
      "text/plain": [
       "(11220, 905)"
      ]
     },
     "execution_count": 113,
     "metadata": {},
     "output_type": "execute_result"
    }
   ],
   "source": [
    "X.shape"
   ]
  },
  {
   "cell_type": "code",
   "execution_count": 114,
   "id": "31c00412",
   "metadata": {},
   "outputs": [
    {
     "data": {
      "text/plain": [
       "(11220, 905)"
      ]
     },
     "execution_count": 114,
     "metadata": {},
     "output_type": "execute_result"
    }
   ],
   "source": [
    "y.shape"
   ]
  },
  {
   "cell_type": "code",
   "execution_count": 79,
   "id": "1bfb06f6",
   "metadata": {},
   "outputs": [],
   "source": [
    "def init_network(vocab_size, n_embedding):\n",
    "    model = {\n",
    "        \"w1\": np.random.randn(vocab_size, n_embedding),\n",
    "        \"w2\": np.random.randn(n_embedding, vocab_size)\n",
    "    }\n",
    "    return model"
   ]
  },
  {
   "cell_type": "code",
   "execution_count": 115,
   "id": "ae19f5e6",
   "metadata": {},
   "outputs": [
    {
     "data": {
      "text/plain": [
       "(905, 10)"
      ]
     },
     "execution_count": 115,
     "metadata": {},
     "output_type": "execute_result"
    }
   ],
   "source": [
    "model = init_network(len(word_to_id), 10)\n",
    "model[\"w1\"].shape"
   ]
  },
  {
   "cell_type": "code",
   "execution_count": 116,
   "id": "8ae306c3",
   "metadata": {},
   "outputs": [
    {
     "data": {
      "text/plain": [
       "(10, 905)"
      ]
     },
     "execution_count": 116,
     "metadata": {},
     "output_type": "execute_result"
    }
   ],
   "source": [
    "model[\"w2\"].shape"
   ]
  },
  {
   "cell_type": "code",
   "execution_count": 82,
   "id": "071c7c0d",
   "metadata": {},
   "outputs": [],
   "source": [
    "def softmax(X):\n",
    "    res = []\n",
    "    for x in X:\n",
    "        exp = np.exp(x)\n",
    "        res.append(exp / exp.sum())\n",
    "    return res"
   ]
  },
  {
   "cell_type": "code",
   "execution_count": 83,
   "id": "65b4aae5",
   "metadata": {},
   "outputs": [
    {
     "data": {
      "text/plain": [
       "(11220, 968)"
      ]
     },
     "execution_count": 83,
     "metadata": {},
     "output_type": "execute_result"
    }
   ],
   "source": [
    "X.shape"
   ]
  },
  {
   "cell_type": "code",
   "execution_count": 84,
   "id": "f78c4529",
   "metadata": {},
   "outputs": [
    {
     "data": {
      "text/plain": [
       "(11220, 10)"
      ]
     },
     "execution_count": 84,
     "metadata": {},
     "output_type": "execute_result"
    }
   ],
   "source": [
    "(X @ model[\"w1\"]).shape"
   ]
  },
  {
   "cell_type": "code",
   "execution_count": 85,
   "id": "4aa8b522",
   "metadata": {},
   "outputs": [
    {
     "data": {
      "text/plain": [
       "(11220, 968)"
      ]
     },
     "execution_count": 85,
     "metadata": {},
     "output_type": "execute_result"
    }
   ],
   "source": [
    "(X @ model[\"w1\"] @ model[\"w2\"]).shape\n"
   ]
  },
  {
   "cell_type": "code",
   "execution_count": 36,
   "id": "0af7bc42",
   "metadata": {},
   "outputs": [],
   "source": [
    "def forward(model, X, return_cache=True):\n",
    "    cache = {}\n",
    "    \n",
    "    cache[\"a1\"] = X @ model[\"w1\"]\n",
    "    cache[\"a2\"] = cache[\"a1\"] @ model[\"w2\"]\n",
    "    cache[\"z\"] = softmax(cache[\"a2\"])\n",
    "    \n",
    "    if not return_cache:\n",
    "        return cache[\"z\"]\n",
    "    return cache"
   ]
  },
  {
   "cell_type": "code",
   "execution_count": 37,
   "id": "283a2af1",
   "metadata": {},
   "outputs": [],
   "source": [
    "def cross_entropy(z, y):\n",
    "    return - np.sum(np.log(z) * y)"
   ]
  },
  {
   "cell_type": "code",
   "execution_count": 38,
   "id": "e3259e46",
   "metadata": {},
   "outputs": [],
   "source": [
    "def backward(model, X, y, alpha):\n",
    "    cache  = forward(model, X)\n",
    "    da2 = cache[\"z\"] - y\n",
    "    dw2 = cache[\"a1\"].T @ da2\n",
    "    da1 = da2 @ model[\"w2\"].T\n",
    "    dw1 = X.T @ da1\n",
    "    assert(dw2.shape == model[\"w2\"].shape)\n",
    "    assert(dw1.shape == model[\"w1\"].shape)\n",
    "    model[\"w1\"] -= alpha * dw1\n",
    "    model[\"w2\"] -= alpha * dw2\n",
    "    return cross_entropy(cache[\"z\"], y)"
   ]
  },
  {
   "cell_type": "code",
   "execution_count": 119,
   "id": "db05a107",
   "metadata": {},
   "outputs": [
    {
     "data": {
      "image/svg+xml": [
       "<?xml version=\"1.0\" encoding=\"utf-8\" standalone=\"no\"?>\n",
       "<!DOCTYPE svg PUBLIC \"-//W3C//DTD SVG 1.1//EN\"\n",
       "  \"http://www.w3.org/Graphics/SVG/1.1/DTD/svg11.dtd\">\n",
       "<svg height=\"329.701875pt\" version=\"1.1\" viewBox=\"0 0 501.165625 329.701875\" width=\"501.165625pt\" xmlns=\"http://www.w3.org/2000/svg\" xmlns:xlink=\"http://www.w3.org/1999/xlink\">\n",
       " <metadata>\n",
       "  <rdf:RDF xmlns:cc=\"http://creativecommons.org/ns#\" xmlns:dc=\"http://purl.org/dc/elements/1.1/\" xmlns:rdf=\"http://www.w3.org/1999/02/22-rdf-syntax-ns#\">\n",
       "   <cc:Work>\n",
       "    <dc:type rdf:resource=\"http://purl.org/dc/dcmitype/StillImage\"/>\n",
       "    <dc:date>2022-05-03T03:04:06.231691</dc:date>\n",
       "    <dc:format>image/svg+xml</dc:format>\n",
       "    <dc:creator>\n",
       "     <cc:Agent>\n",
       "      <dc:title>Matplotlib v3.4.2, https://matplotlib.org/</dc:title>\n",
       "     </cc:Agent>\n",
       "    </dc:creator>\n",
       "   </cc:Work>\n",
       "  </rdf:RDF>\n",
       " </metadata>\n",
       " <defs>\n",
       "  <style type=\"text/css\">*{stroke-linecap:butt;stroke-linejoin:round;}</style>\n",
       " </defs>\n",
       " <g id=\"figure_1\">\n",
       "  <g id=\"patch_1\">\n",
       "   <path d=\"M 0 329.701875 \n",
       "L 501.165625 329.701875 \n",
       "L 501.165625 0 \n",
       "L 0 0 \n",
       "z\n",
       "\" style=\"fill:#ffffff;\"/>\n",
       "  </g>\n",
       "  <g id=\"axes_1\">\n",
       "   <g id=\"patch_2\">\n",
       "    <path d=\"M 47.565625 306.18 \n",
       "L 493.965625 306.18 \n",
       "L 493.965625 7.2 \n",
       "L 47.565625 7.2 \n",
       "z\n",
       "\" style=\"fill:#eaeaf2;\"/>\n",
       "   </g>\n",
       "   <g id=\"matplotlib.axis_1\">\n",
       "    <g id=\"xtick_1\">\n",
       "     <g id=\"line2d_1\">\n",
       "      <path clip-path=\"url(#p7aa1e28787)\" d=\"M 67.856534 306.18 \n",
       "L 67.856534 7.2 \n",
       "\" style=\"fill:none;stroke:#ffffff;stroke-linecap:round;\"/>\n",
       "     </g>\n",
       "     <g id=\"line2d_2\"/>\n",
       "     <g id=\"text_1\">\n",
       "      <!-- 0 -->\n",
       "      <g style=\"fill:#262626;\" transform=\"translate(65.076065 320.426875)scale(0.1 -0.1)\">\n",
       "       <defs>\n",
       "        <path d=\"M 3309 2203 \n",
       "Q 3309 1569 3189 1136 \n",
       "Q 3069 703 2861 436 \n",
       "Q 2653 169 2372 53 \n",
       "Q 2091 -63 1772 -63 \n",
       "Q 1450 -63 1172 53 \n",
       "Q 894 169 689 434 \n",
       "Q 484 700 367 1133 \n",
       "Q 250 1566 250 2203 \n",
       "Q 250 2869 367 3305 \n",
       "Q 484 3741 690 4000 \n",
       "Q 897 4259 1178 4364 \n",
       "Q 1459 4469 1791 4469 \n",
       "Q 2106 4469 2382 4364 \n",
       "Q 2659 4259 2865 4000 \n",
       "Q 3072 3741 3190 3305 \n",
       "Q 3309 2869 3309 2203 \n",
       "z\n",
       "M 2738 2203 \n",
       "Q 2738 2728 2675 3076 \n",
       "Q 2613 3425 2491 3633 \n",
       "Q 2369 3841 2192 3927 \n",
       "Q 2016 4013 1791 4013 \n",
       "Q 1553 4013 1372 3925 \n",
       "Q 1191 3838 1067 3630 \n",
       "Q 944 3422 881 3073 \n",
       "Q 819 2725 819 2203 \n",
       "Q 819 1697 883 1350 \n",
       "Q 947 1003 1070 792 \n",
       "Q 1194 581 1372 489 \n",
       "Q 1550 397 1778 397 \n",
       "Q 2000 397 2178 489 \n",
       "Q 2356 581 2479 792 \n",
       "Q 2603 1003 2670 1350 \n",
       "Q 2738 1697 2738 2203 \n",
       "z\n",
       "\" id=\"LiberationSans-30\" transform=\"scale(0.015625)\"/>\n",
       "       </defs>\n",
       "       <use xlink:href=\"#LiberationSans-30\"/>\n",
       "      </g>\n",
       "     </g>\n",
       "    </g>\n",
       "    <g id=\"xtick_2\">\n",
       "     <g id=\"line2d_3\">\n",
       "      <path clip-path=\"url(#p7aa1e28787)\" d=\"M 122.328773 306.18 \n",
       "L 122.328773 7.2 \n",
       "\" style=\"fill:none;stroke:#ffffff;stroke-linecap:round;\"/>\n",
       "     </g>\n",
       "     <g id=\"line2d_4\"/>\n",
       "     <g id=\"text_2\">\n",
       "      <!-- 20 -->\n",
       "      <g style=\"fill:#262626;\" transform=\"translate(116.767836 320.426875)scale(0.1 -0.1)\">\n",
       "       <defs>\n",
       "        <path d=\"M 322 0 \n",
       "L 322 397 \n",
       "Q 481 763 711 1042 \n",
       "Q 941 1322 1194 1548 \n",
       "Q 1447 1775 1695 1969 \n",
       "Q 1944 2163 2144 2356 \n",
       "Q 2344 2550 2467 2762 \n",
       "Q 2591 2975 2591 3244 \n",
       "Q 2591 3431 2534 3573 \n",
       "Q 2478 3716 2372 3812 \n",
       "Q 2266 3909 2117 3957 \n",
       "Q 1969 4006 1788 4006 \n",
       "Q 1619 4006 1470 3959 \n",
       "Q 1322 3913 1206 3819 \n",
       "Q 1091 3725 1017 3586 \n",
       "Q 944 3447 922 3263 \n",
       "L 347 3316 \n",
       "Q 375 3553 478 3762 \n",
       "Q 581 3972 762 4130 \n",
       "Q 944 4288 1198 4378 \n",
       "Q 1453 4469 1788 4469 \n",
       "Q 2116 4469 2372 4391 \n",
       "Q 2628 4313 2804 4159 \n",
       "Q 2981 4006 3075 3781 \n",
       "Q 3169 3556 3169 3263 \n",
       "Q 3169 3041 3089 2841 \n",
       "Q 3009 2641 2876 2459 \n",
       "Q 2744 2278 2569 2109 \n",
       "Q 2394 1941 2203 1780 \n",
       "Q 2013 1619 1819 1461 \n",
       "Q 1625 1303 1454 1143 \n",
       "Q 1284 984 1150 820 \n",
       "Q 1016 656 941 478 \n",
       "L 3238 478 \n",
       "L 3238 0 \n",
       "L 322 0 \n",
       "z\n",
       "\" id=\"LiberationSans-32\" transform=\"scale(0.015625)\"/>\n",
       "       </defs>\n",
       "       <use xlink:href=\"#LiberationSans-32\"/>\n",
       "       <use x=\"55.615234\" xlink:href=\"#LiberationSans-30\"/>\n",
       "      </g>\n",
       "     </g>\n",
       "    </g>\n",
       "    <g id=\"xtick_3\">\n",
       "     <g id=\"line2d_5\">\n",
       "      <path clip-path=\"url(#p7aa1e28787)\" d=\"M 176.801012 306.18 \n",
       "L 176.801012 7.2 \n",
       "\" style=\"fill:none;stroke:#ffffff;stroke-linecap:round;\"/>\n",
       "     </g>\n",
       "     <g id=\"line2d_6\"/>\n",
       "     <g id=\"text_3\">\n",
       "      <!-- 40 -->\n",
       "      <g style=\"fill:#262626;\" transform=\"translate(171.240075 320.426875)scale(0.1 -0.1)\">\n",
       "       <defs>\n",
       "        <path d=\"M 2753 997 \n",
       "L 2753 0 \n",
       "L 2222 0 \n",
       "L 2222 997 \n",
       "L 147 997 \n",
       "L 147 1434 \n",
       "L 2163 4403 \n",
       "L 2753 4403 \n",
       "L 2753 1441 \n",
       "L 3372 1441 \n",
       "L 3372 997 \n",
       "L 2753 997 \n",
       "z\n",
       "M 2222 3769 \n",
       "Q 2216 3753 2191 3708 \n",
       "Q 2166 3663 2134 3606 \n",
       "Q 2103 3550 2070 3492 \n",
       "Q 2038 3434 2013 3397 \n",
       "L 884 1734 \n",
       "Q 869 1709 839 1668 \n",
       "Q 809 1628 778 1586 \n",
       "Q 747 1544 715 1503 \n",
       "Q 684 1463 666 1441 \n",
       "L 2222 1441 \n",
       "L 2222 3769 \n",
       "z\n",
       "\" id=\"LiberationSans-34\" transform=\"scale(0.015625)\"/>\n",
       "       </defs>\n",
       "       <use xlink:href=\"#LiberationSans-34\"/>\n",
       "       <use x=\"55.615234\" xlink:href=\"#LiberationSans-30\"/>\n",
       "      </g>\n",
       "     </g>\n",
       "    </g>\n",
       "    <g id=\"xtick_4\">\n",
       "     <g id=\"line2d_7\">\n",
       "      <path clip-path=\"url(#p7aa1e28787)\" d=\"M 231.273252 306.18 \n",
       "L 231.273252 7.2 \n",
       "\" style=\"fill:none;stroke:#ffffff;stroke-linecap:round;\"/>\n",
       "     </g>\n",
       "     <g id=\"line2d_8\"/>\n",
       "     <g id=\"text_4\">\n",
       "      <!-- 60 -->\n",
       "      <g style=\"fill:#262626;\" transform=\"translate(225.712314 320.426875)scale(0.1 -0.1)\">\n",
       "       <defs>\n",
       "        <path d=\"M 3278 1441 \n",
       "Q 3278 1109 3186 832 \n",
       "Q 3094 556 2914 357 \n",
       "Q 2734 159 2468 48 \n",
       "Q 2203 -63 1856 -63 \n",
       "Q 1472 -63 1184 84 \n",
       "Q 897 231 706 507 \n",
       "Q 516 784 420 1186 \n",
       "Q 325 1588 325 2100 \n",
       "Q 325 2688 433 3131 \n",
       "Q 541 3575 744 3872 \n",
       "Q 947 4169 1239 4319 \n",
       "Q 1531 4469 1900 4469 \n",
       "Q 2125 4469 2322 4422 \n",
       "Q 2519 4375 2680 4270 \n",
       "Q 2841 4166 2962 3994 \n",
       "Q 3084 3822 3156 3572 \n",
       "L 2619 3475 \n",
       "Q 2531 3759 2339 3886 \n",
       "Q 2147 4013 1894 4013 \n",
       "Q 1663 4013 1475 3903 \n",
       "Q 1288 3794 1156 3576 \n",
       "Q 1025 3359 954 3031 \n",
       "Q 884 2703 884 2266 \n",
       "Q 1038 2550 1316 2698 \n",
       "Q 1594 2847 1953 2847 \n",
       "Q 2253 2847 2497 2750 \n",
       "Q 2741 2653 2914 2470 \n",
       "Q 3088 2288 3183 2027 \n",
       "Q 3278 1766 3278 1441 \n",
       "z\n",
       "M 2706 1416 \n",
       "Q 2706 1644 2650 1828 \n",
       "Q 2594 2013 2481 2142 \n",
       "Q 2369 2272 2203 2342 \n",
       "Q 2038 2413 1819 2413 \n",
       "Q 1666 2413 1509 2367 \n",
       "Q 1353 2322 1226 2220 \n",
       "Q 1100 2119 1020 1953 \n",
       "Q 941 1788 941 1550 \n",
       "Q 941 1306 1003 1095 \n",
       "Q 1066 884 1183 728 \n",
       "Q 1300 572 1465 481 \n",
       "Q 1631 391 1838 391 \n",
       "Q 2041 391 2202 461 \n",
       "Q 2363 531 2475 664 \n",
       "Q 2588 797 2647 987 \n",
       "Q 2706 1178 2706 1416 \n",
       "z\n",
       "\" id=\"LiberationSans-36\" transform=\"scale(0.015625)\"/>\n",
       "       </defs>\n",
       "       <use xlink:href=\"#LiberationSans-36\"/>\n",
       "       <use x=\"55.615234\" xlink:href=\"#LiberationSans-30\"/>\n",
       "      </g>\n",
       "     </g>\n",
       "    </g>\n",
       "    <g id=\"xtick_5\">\n",
       "     <g id=\"line2d_9\">\n",
       "      <path clip-path=\"url(#p7aa1e28787)\" d=\"M 285.745491 306.18 \n",
       "L 285.745491 7.2 \n",
       "\" style=\"fill:none;stroke:#ffffff;stroke-linecap:round;\"/>\n",
       "     </g>\n",
       "     <g id=\"line2d_10\"/>\n",
       "     <g id=\"text_5\">\n",
       "      <!-- 80 -->\n",
       "      <g style=\"fill:#262626;\" transform=\"translate(280.184553 320.426875)scale(0.1 -0.1)\">\n",
       "       <defs>\n",
       "        <path d=\"M 3281 1228 \n",
       "Q 3281 947 3192 711 \n",
       "Q 3103 475 2920 303 \n",
       "Q 2738 131 2453 34 \n",
       "Q 2169 -63 1781 -63 \n",
       "Q 1394 -63 1111 34 \n",
       "Q 828 131 642 301 \n",
       "Q 456 472 367 708 \n",
       "Q 278 944 278 1222 \n",
       "Q 278 1463 351 1650 \n",
       "Q 425 1838 548 1973 \n",
       "Q 672 2109 830 2192 \n",
       "Q 988 2275 1156 2303 \n",
       "L 1156 2316 \n",
       "Q 972 2359 826 2456 \n",
       "Q 681 2553 582 2689 \n",
       "Q 484 2825 432 2990 \n",
       "Q 381 3156 381 3341 \n",
       "Q 381 3572 470 3776 \n",
       "Q 559 3981 734 4136 \n",
       "Q 909 4291 1168 4380 \n",
       "Q 1428 4469 1769 4469 \n",
       "Q 2128 4469 2392 4378 \n",
       "Q 2656 4288 2829 4133 \n",
       "Q 3003 3978 3087 3772 \n",
       "Q 3172 3566 3172 3334 \n",
       "Q 3172 3153 3120 2987 \n",
       "Q 3069 2822 2970 2686 \n",
       "Q 2872 2550 2726 2454 \n",
       "Q 2581 2359 2391 2322 \n",
       "L 2391 2309 \n",
       "Q 2581 2278 2743 2195 \n",
       "Q 2906 2113 3025 1977 \n",
       "Q 3144 1841 3212 1653 \n",
       "Q 3281 1466 3281 1228 \n",
       "z\n",
       "M 2588 3303 \n",
       "Q 2588 3469 2545 3606 \n",
       "Q 2503 3744 2406 3842 \n",
       "Q 2309 3941 2153 3995 \n",
       "Q 1997 4050 1769 4050 \n",
       "Q 1547 4050 1394 3995 \n",
       "Q 1241 3941 1142 3842 \n",
       "Q 1044 3744 1000 3606 \n",
       "Q 956 3469 956 3303 \n",
       "Q 956 3172 990 3034 \n",
       "Q 1025 2897 1115 2784 \n",
       "Q 1206 2672 1365 2600 \n",
       "Q 1525 2528 1775 2528 \n",
       "Q 2041 2528 2202 2600 \n",
       "Q 2363 2672 2448 2784 \n",
       "Q 2534 2897 2561 3034 \n",
       "Q 2588 3172 2588 3303 \n",
       "z\n",
       "M 2697 1281 \n",
       "Q 2697 1441 2653 1589 \n",
       "Q 2609 1738 2503 1852 \n",
       "Q 2397 1966 2217 2036 \n",
       "Q 2038 2106 1769 2106 \n",
       "Q 1522 2106 1348 2036 \n",
       "Q 1175 1966 1067 1850 \n",
       "Q 959 1734 909 1582 \n",
       "Q 859 1431 859 1269 \n",
       "Q 859 1066 909 898 \n",
       "Q 959 731 1068 611 \n",
       "Q 1178 491 1356 425 \n",
       "Q 1534 359 1788 359 \n",
       "Q 2044 359 2219 425 \n",
       "Q 2394 491 2500 611 \n",
       "Q 2606 731 2651 901 \n",
       "Q 2697 1072 2697 1281 \n",
       "z\n",
       "\" id=\"LiberationSans-38\" transform=\"scale(0.015625)\"/>\n",
       "       </defs>\n",
       "       <use xlink:href=\"#LiberationSans-38\"/>\n",
       "       <use x=\"55.615234\" xlink:href=\"#LiberationSans-30\"/>\n",
       "      </g>\n",
       "     </g>\n",
       "    </g>\n",
       "    <g id=\"xtick_6\">\n",
       "     <g id=\"line2d_11\">\n",
       "      <path clip-path=\"url(#p7aa1e28787)\" d=\"M 340.21773 306.18 \n",
       "L 340.21773 7.2 \n",
       "\" style=\"fill:none;stroke:#ffffff;stroke-linecap:round;\"/>\n",
       "     </g>\n",
       "     <g id=\"line2d_12\"/>\n",
       "     <g id=\"text_6\">\n",
       "      <!-- 100 -->\n",
       "      <g style=\"fill:#262626;\" transform=\"translate(331.876324 320.426875)scale(0.1 -0.1)\">\n",
       "       <defs>\n",
       "        <path d=\"M 488 0 \n",
       "L 488 478 \n",
       "L 1609 478 \n",
       "L 1609 3866 \n",
       "L 616 3156 \n",
       "L 616 3688 \n",
       "L 1656 4403 \n",
       "L 2175 4403 \n",
       "L 2175 478 \n",
       "L 3247 478 \n",
       "L 3247 0 \n",
       "L 488 0 \n",
       "z\n",
       "\" id=\"LiberationSans-31\" transform=\"scale(0.015625)\"/>\n",
       "       </defs>\n",
       "       <use xlink:href=\"#LiberationSans-31\"/>\n",
       "       <use x=\"55.615234\" xlink:href=\"#LiberationSans-30\"/>\n",
       "       <use x=\"111.230469\" xlink:href=\"#LiberationSans-30\"/>\n",
       "      </g>\n",
       "     </g>\n",
       "    </g>\n",
       "    <g id=\"xtick_7\">\n",
       "     <g id=\"line2d_13\">\n",
       "      <path clip-path=\"url(#p7aa1e28787)\" d=\"M 394.689969 306.18 \n",
       "L 394.689969 7.2 \n",
       "\" style=\"fill:none;stroke:#ffffff;stroke-linecap:round;\"/>\n",
       "     </g>\n",
       "     <g id=\"line2d_14\"/>\n",
       "     <g id=\"text_7\">\n",
       "      <!-- 120 -->\n",
       "      <g style=\"fill:#262626;\" transform=\"translate(386.348563 320.426875)scale(0.1 -0.1)\">\n",
       "       <use xlink:href=\"#LiberationSans-31\"/>\n",
       "       <use x=\"55.615234\" xlink:href=\"#LiberationSans-32\"/>\n",
       "       <use x=\"111.230469\" xlink:href=\"#LiberationSans-30\"/>\n",
       "      </g>\n",
       "     </g>\n",
       "    </g>\n",
       "    <g id=\"xtick_8\">\n",
       "     <g id=\"line2d_15\">\n",
       "      <path clip-path=\"url(#p7aa1e28787)\" d=\"M 449.162208 306.18 \n",
       "L 449.162208 7.2 \n",
       "\" style=\"fill:none;stroke:#ffffff;stroke-linecap:round;\"/>\n",
       "     </g>\n",
       "     <g id=\"line2d_16\"/>\n",
       "     <g id=\"text_8\">\n",
       "      <!-- 140 -->\n",
       "      <g style=\"fill:#262626;\" transform=\"translate(440.820802 320.426875)scale(0.1 -0.1)\">\n",
       "       <use xlink:href=\"#LiberationSans-31\"/>\n",
       "       <use x=\"55.615234\" xlink:href=\"#LiberationSans-34\"/>\n",
       "       <use x=\"111.230469\" xlink:href=\"#LiberationSans-30\"/>\n",
       "      </g>\n",
       "     </g>\n",
       "    </g>\n",
       "   </g>\n",
       "   <g id=\"matplotlib.axis_2\">\n",
       "    <g id=\"ytick_1\">\n",
       "     <g id=\"line2d_17\">\n",
       "      <path clip-path=\"url(#p7aa1e28787)\" d=\"M 47.565625 290.460821 \n",
       "L 493.965625 290.460821 \n",
       "\" style=\"fill:none;stroke:#ffffff;stroke-linecap:round;\"/>\n",
       "     </g>\n",
       "     <g id=\"line2d_18\"/>\n",
       "     <g id=\"text_9\">\n",
       "      <!-- 40000 -->\n",
       "      <g style=\"fill:#262626;\" transform=\"translate(12.760938 294.084258)scale(0.1 -0.1)\">\n",
       "       <use xlink:href=\"#LiberationSans-34\"/>\n",
       "       <use x=\"55.615234\" xlink:href=\"#LiberationSans-30\"/>\n",
       "       <use x=\"111.230469\" xlink:href=\"#LiberationSans-30\"/>\n",
       "       <use x=\"166.845703\" xlink:href=\"#LiberationSans-30\"/>\n",
       "       <use x=\"222.460938\" xlink:href=\"#LiberationSans-30\"/>\n",
       "      </g>\n",
       "     </g>\n",
       "    </g>\n",
       "    <g id=\"ytick_2\">\n",
       "     <g id=\"line2d_19\">\n",
       "      <path clip-path=\"url(#p7aa1e28787)\" d=\"M 47.565625 229.348773 \n",
       "L 493.965625 229.348773 \n",
       "\" style=\"fill:none;stroke:#ffffff;stroke-linecap:round;\"/>\n",
       "     </g>\n",
       "     <g id=\"line2d_20\"/>\n",
       "     <g id=\"text_10\">\n",
       "      <!-- 60000 -->\n",
       "      <g style=\"fill:#262626;\" transform=\"translate(12.760938 232.97221)scale(0.1 -0.1)\">\n",
       "       <use xlink:href=\"#LiberationSans-36\"/>\n",
       "       <use x=\"55.615234\" xlink:href=\"#LiberationSans-30\"/>\n",
       "       <use x=\"111.230469\" xlink:href=\"#LiberationSans-30\"/>\n",
       "       <use x=\"166.845703\" xlink:href=\"#LiberationSans-30\"/>\n",
       "       <use x=\"222.460938\" xlink:href=\"#LiberationSans-30\"/>\n",
       "      </g>\n",
       "     </g>\n",
       "    </g>\n",
       "    <g id=\"ytick_3\">\n",
       "     <g id=\"line2d_21\">\n",
       "      <path clip-path=\"url(#p7aa1e28787)\" d=\"M 47.565625 168.236725 \n",
       "L 493.965625 168.236725 \n",
       "\" style=\"fill:none;stroke:#ffffff;stroke-linecap:round;\"/>\n",
       "     </g>\n",
       "     <g id=\"line2d_22\"/>\n",
       "     <g id=\"text_11\">\n",
       "      <!-- 80000 -->\n",
       "      <g style=\"fill:#262626;\" transform=\"translate(12.760938 171.860162)scale(0.1 -0.1)\">\n",
       "       <use xlink:href=\"#LiberationSans-38\"/>\n",
       "       <use x=\"55.615234\" xlink:href=\"#LiberationSans-30\"/>\n",
       "       <use x=\"111.230469\" xlink:href=\"#LiberationSans-30\"/>\n",
       "       <use x=\"166.845703\" xlink:href=\"#LiberationSans-30\"/>\n",
       "       <use x=\"222.460938\" xlink:href=\"#LiberationSans-30\"/>\n",
       "      </g>\n",
       "     </g>\n",
       "    </g>\n",
       "    <g id=\"ytick_4\">\n",
       "     <g id=\"line2d_23\">\n",
       "      <path clip-path=\"url(#p7aa1e28787)\" d=\"M 47.565625 107.124676 \n",
       "L 493.965625 107.124676 \n",
       "\" style=\"fill:none;stroke:#ffffff;stroke-linecap:round;\"/>\n",
       "     </g>\n",
       "     <g id=\"line2d_24\"/>\n",
       "     <g id=\"text_12\">\n",
       "      <!-- 100000 -->\n",
       "      <g style=\"fill:#262626;\" transform=\"translate(7.2 110.748114)scale(0.1 -0.1)\">\n",
       "       <use xlink:href=\"#LiberationSans-31\"/>\n",
       "       <use x=\"55.615234\" xlink:href=\"#LiberationSans-30\"/>\n",
       "       <use x=\"111.230469\" xlink:href=\"#LiberationSans-30\"/>\n",
       "       <use x=\"166.845703\" xlink:href=\"#LiberationSans-30\"/>\n",
       "       <use x=\"222.460938\" xlink:href=\"#LiberationSans-30\"/>\n",
       "       <use x=\"278.076172\" xlink:href=\"#LiberationSans-30\"/>\n",
       "      </g>\n",
       "     </g>\n",
       "    </g>\n",
       "    <g id=\"ytick_5\">\n",
       "     <g id=\"line2d_25\">\n",
       "      <path clip-path=\"url(#p7aa1e28787)\" d=\"M 47.565625 46.012628 \n",
       "L 493.965625 46.012628 \n",
       "\" style=\"fill:none;stroke:#ffffff;stroke-linecap:round;\"/>\n",
       "     </g>\n",
       "     <g id=\"line2d_26\"/>\n",
       "     <g id=\"text_13\">\n",
       "      <!-- 120000 -->\n",
       "      <g style=\"fill:#262626;\" transform=\"translate(7.2 49.636066)scale(0.1 -0.1)\">\n",
       "       <use xlink:href=\"#LiberationSans-31\"/>\n",
       "       <use x=\"55.615234\" xlink:href=\"#LiberationSans-32\"/>\n",
       "       <use x=\"111.230469\" xlink:href=\"#LiberationSans-30\"/>\n",
       "       <use x=\"166.845703\" xlink:href=\"#LiberationSans-30\"/>\n",
       "       <use x=\"222.460938\" xlink:href=\"#LiberationSans-30\"/>\n",
       "       <use x=\"278.076172\" xlink:href=\"#LiberationSans-30\"/>\n",
       "      </g>\n",
       "     </g>\n",
       "    </g>\n",
       "   </g>\n",
       "   <g id=\"line2d_27\">\n",
       "    <path clip-path=\"url(#p7aa1e28787)\" d=\"M 67.856534 20.79 \n",
       "L 70.580146 93.89355 \n",
       "L 73.303758 126.469808 \n",
       "L 76.02737 143.302968 \n",
       "L 78.750982 154.340114 \n",
       "L 81.474594 162.67907 \n",
       "L 84.198206 169.387054 \n",
       "L 86.921818 175.044397 \n",
       "L 89.64543 180.00987 \n",
       "L 92.369042 184.511971 \n",
       "L 95.092654 188.693307 \n",
       "L 100.539878 196.399367 \n",
       "L 105.987102 203.513038 \n",
       "L 111.434325 210.234941 \n",
       "L 116.881549 216.661489 \n",
       "L 122.328773 222.819859 \n",
       "L 127.775997 228.699141 \n",
       "L 133.223221 234.270321 \n",
       "L 135.946833 236.880719 \n",
       "L 138.670445 239.24077 \n",
       "L 141.394057 240.039769 \n",
       "L 144.117669 244.104599 \n",
       "L 146.841281 244.647676 \n",
       "L 149.564893 248.635496 \n",
       "L 152.288505 249.28478 \n",
       "L 155.012117 251.937844 \n",
       "L 157.735729 251.82153 \n",
       "L 160.459341 256.305063 \n",
       "L 163.182953 257.545173 \n",
       "L 165.906565 259.763395 \n",
       "L 168.630177 260.725238 \n",
       "L 171.353789 259.992992 \n",
       "L 174.0774 261.697443 \n",
       "L 176.801012 265.535356 \n",
       "L 179.524624 267.571472 \n",
       "L 182.248236 268.387039 \n",
       "L 184.971848 267.397196 \n",
       "L 187.69546 268.145352 \n",
       "L 190.419072 272.478882 \n",
       "L 193.142684 271.787528 \n",
       "L 195.866296 270.974321 \n",
       "L 198.589908 267.971734 \n",
       "L 201.31352 270.364576 \n",
       "L 204.037132 276.7536 \n",
       "L 206.760744 276.359042 \n",
       "L 209.484356 274.109375 \n",
       "L 212.207968 276.499574 \n",
       "L 214.93158 279.977368 \n",
       "L 217.655192 279.72795 \n",
       "L 220.378804 278.951011 \n",
       "L 223.102416 266.189495 \n",
       "L 225.826028 276.978904 \n",
       "L 228.54964 278.277221 \n",
       "L 231.273252 280.217851 \n",
       "L 233.996864 277.972374 \n",
       "L 236.720476 274.766447 \n",
       "L 239.444087 280.737333 \n",
       "L 242.167699 279.975243 \n",
       "L 244.891311 279.841417 \n",
       "L 247.614923 283.903561 \n",
       "L 250.338535 279.798646 \n",
       "L 253.062147 284.856032 \n",
       "L 255.785759 281.058224 \n",
       "L 258.509371 284.382755 \n",
       "L 261.232983 273.739989 \n",
       "L 263.956595 283.774893 \n",
       "L 266.680207 283.518752 \n",
       "L 269.403819 285.51734 \n",
       "L 272.127431 282.976375 \n",
       "L 274.851043 287.397885 \n",
       "L 277.574655 284.500522 \n",
       "L 280.298267 279.009812 \n",
       "L 283.021879 277.165306 \n",
       "L 285.745491 284.468535 \n",
       "L 288.469103 279.397303 \n",
       "L 291.192715 286.484492 \n",
       "L 293.916327 287.544303 \n",
       "L 296.639939 286.317253 \n",
       "L 299.363551 284.042438 \n",
       "L 302.087163 283.870959 \n",
       "L 304.810774 278.125031 \n",
       "L 307.534386 285.239463 \n",
       "L 310.257998 276.448631 \n",
       "L 312.98161 285.521225 \n",
       "L 315.705222 281.768956 \n",
       "L 318.428834 284.102018 \n",
       "L 321.152446 288.192148 \n",
       "L 323.876058 278.526589 \n",
       "L 326.59967 285.606123 \n",
       "L 329.323282 276.577849 \n",
       "L 332.046894 284.805648 \n",
       "L 334.770506 283.887158 \n",
       "L 340.21773 288.523585 \n",
       "L 342.941342 281.860072 \n",
       "L 345.664954 285.607441 \n",
       "L 348.388566 283.503431 \n",
       "L 351.112178 288.331852 \n",
       "L 353.83579 281.687875 \n",
       "L 356.559402 288.279251 \n",
       "L 359.283014 284.017564 \n",
       "L 362.006626 284.981806 \n",
       "L 364.730238 270.123743 \n",
       "L 367.45385 283.035746 \n",
       "L 370.177461 289.219605 \n",
       "L 372.901073 287.854543 \n",
       "L 375.624685 287.977999 \n",
       "L 378.348297 284.799733 \n",
       "L 381.071909 288.996908 \n",
       "L 383.795521 286.936017 \n",
       "L 386.519133 283.94613 \n",
       "L 389.242745 273.966804 \n",
       "L 391.966357 287.459618 \n",
       "L 394.689969 290.31809 \n",
       "L 397.413581 292.473205 \n",
       "L 400.137193 288.426295 \n",
       "L 402.860805 289.096093 \n",
       "L 405.584417 282.704985 \n",
       "L 408.308029 287.388996 \n",
       "L 411.031641 277.4698 \n",
       "L 413.755253 287.736641 \n",
       "L 416.478865 287.399008 \n",
       "L 419.202477 288.856393 \n",
       "L 421.926089 287.357362 \n",
       "L 424.649701 288.385999 \n",
       "L 427.373313 287.082515 \n",
       "L 430.096925 291.363511 \n",
       "L 432.820537 282.859873 \n",
       "L 435.544148 290.634855 \n",
       "L 438.26776 288.095322 \n",
       "L 440.991372 283.881095 \n",
       "L 443.714984 288.454543 \n",
       "L 446.438596 286.417177 \n",
       "L 449.162208 283.33949 \n",
       "L 451.88582 288.873925 \n",
       "L 454.609432 290.401926 \n",
       "L 457.333044 292.59 \n",
       "L 460.056656 290.283179 \n",
       "L 462.780268 278.275559 \n",
       "L 465.50388 290.489846 \n",
       "L 468.227492 291.010515 \n",
       "L 470.951104 290.224556 \n",
       "L 473.674716 290.218878 \n",
       "L 473.674716 290.218878 \n",
       "\" style=\"fill:none;stroke:#87ceeb;stroke-linecap:round;stroke-width:1.75;\"/>\n",
       "   </g>\n",
       "   <g id=\"patch_3\">\n",
       "    <path d=\"M 47.565625 306.18 \n",
       "L 47.565625 7.2 \n",
       "\" style=\"fill:none;\"/>\n",
       "   </g>\n",
       "   <g id=\"patch_4\">\n",
       "    <path d=\"M 493.965625 306.18 \n",
       "L 493.965625 7.2 \n",
       "\" style=\"fill:none;\"/>\n",
       "   </g>\n",
       "   <g id=\"patch_5\">\n",
       "    <path d=\"M 47.565625 306.18 \n",
       "L 493.965625 306.18 \n",
       "\" style=\"fill:none;\"/>\n",
       "   </g>\n",
       "   <g id=\"patch_6\">\n",
       "    <path d=\"M 47.565625 7.2 \n",
       "L 493.965625 7.2 \n",
       "\" style=\"fill:none;\"/>\n",
       "   </g>\n",
       "  </g>\n",
       " </g>\n",
       " <defs>\n",
       "  <clipPath id=\"p7aa1e28787\">\n",
       "   <rect height=\"298.98\" width=\"446.4\" x=\"47.565625\" y=\"7.2\"/>\n",
       "  </clipPath>\n",
       " </defs>\n",
       "</svg>\n"
      ],
      "text/plain": [
       "<Figure size 576x396 with 1 Axes>"
      ]
     },
     "metadata": {},
     "output_type": "display_data"
    }
   ],
   "source": [
    "import matplotlib.pyplot as plt\n",
    "%matplotlib inline\n",
    "%config InlineBackend.figure_format = 'svg'\n",
    "plt.style.use(\"seaborn\")\n",
    "\n",
    "model = init_network(len(word_to_id), 10)\n",
    "\n",
    "n_iter = 150\n",
    "learning_rate = 0.01\n",
    "\n",
    "history = [backward(model, X, y, learning_rate) for _ in range(n_iter)]\n",
    "\n",
    "plt.plot(range(len(history)), history, color=\"skyblue\")\n",
    "plt.show()"
   ]
  },
  {
   "cell_type": "code",
   "execution_count": 120,
   "id": "6d403ebf",
   "metadata": {},
   "outputs": [
    {
     "data": {
      "text/plain": [
       "150"
      ]
     },
     "execution_count": 120,
     "metadata": {},
     "output_type": "execute_result"
    }
   ],
   "source": [
    "len(history)"
   ]
  },
  {
   "cell_type": "raw",
   "id": "4b007dc5",
   "metadata": {},
   "source": [
    "learning = one_hot_encode(word_to_id[\"گرم\"], len(word_to_id))\n",
    "result = forward(model, [learning], return_cache=False)[0]\n",
    "result"
   ]
  },
  {
   "cell_type": "raw",
   "id": "24d8bc0e",
   "metadata": {},
   "source": [
    "np.argsort(result)[::-1]"
   ]
  },
  {
   "cell_type": "code",
   "execution_count": 51,
   "id": "910a9318",
   "metadata": {},
   "outputs": [
    {
     "data": {
      "text/plain": [
       "array([ 15, 456, 179,  66, 263])"
      ]
     },
     "execution_count": 51,
     "metadata": {},
     "output_type": "execute_result"
    }
   ],
   "source": [
    "np.argsort(result)[::-1][0:5]"
   ]
  },
  {
   "cell_type": "code",
   "execution_count": 52,
   "id": "0a72eddb",
   "metadata": {
    "scrolled": true
   },
   "outputs": [
    {
     "name": "stdout",
     "output_type": "stream",
     "text": [
      "عشقت\n",
      "فسردست\n",
      "جمره\n",
      "کنون\n",
      "بگدازد\n",
      "گرم\n",
      "جانان\n",
      "قد\n",
      "بس\n",
      "بنگرید\n"
     ]
    }
   ],
   "source": [
    "for word in (id_to_word[id] for id in np.argsort(result)[::-1][0:10]):\n",
    "    print(word)\n"
   ]
  },
  {
   "cell_type": "code",
   "execution_count": 53,
   "id": "47657db7",
   "metadata": {},
   "outputs": [],
   "source": [
    "def get_word_similarities(word, model, n_similars=10):\n",
    "    try:\n",
    "        learning = one_hot_encode(word_to_id[word], len(word_to_id))\n",
    "    except KeyError:\n",
    "        print(f\"Word = {word} is not in corpus\")\n",
    "        exit()\n",
    "    result = forward(model, [learning], return_cache=False)[0]\n",
    "    for word in (id_to_word[id] for id in np.argsort(result)[::-1][0:n_similars]):\n",
    "        print(word)\n",
    "\n",
    "    "
   ]
  },
  {
   "cell_type": "code",
   "execution_count": 159,
   "id": "ecb0269a",
   "metadata": {},
   "outputs": [],
   "source": [
    "def get_embedding(model, word):\n",
    "    try:\n",
    "        idx = word_to_id[word]\n",
    "    except KeyError:\n",
    "        print(\"`word` not in corpus\")\n",
    "    one_hot = one_hot_encode(idx, len(word_to_id))\n",
    "    return forward(model, one_hot)[\"a1\"]"
   ]
  },
  {
   "cell_type": "code",
   "execution_count": 160,
   "id": "35c22cbe",
   "metadata": {},
   "outputs": [
    {
     "data": {
      "text/plain": [
       "array([ 0.30857583, -0.26536961, -0.91359514, -0.00943186, -1.03899812,\n",
       "       -0.81462034, -0.56576872, -1.75023053,  0.16655075, -0.03339144])"
      ]
     },
     "execution_count": 160,
     "metadata": {},
     "output_type": "execute_result"
    }
   ],
   "source": [
    "get_embedding(model, \"machine\")\n"
   ]
  },
  {
   "cell_type": "code",
   "execution_count": 101,
   "id": "d5722bcd",
   "metadata": {
    "scrolled": false
   },
   "outputs": [
    {
     "name": "stdout",
     "output_type": "stream",
     "text": [
      "ایدک\n",
      "خواجه\n",
      "خامشان\n",
      "سنایی\n",
      "جدید\n",
      "بمرد\n",
      "دهل\n",
      "عیش\n",
      "الله\n",
      "وگر\n"
     ]
    }
   ],
   "source": [
    "get_word_similarities('عیش', model, 10)"
   ]
  },
  {
   "cell_type": "code",
   "execution_count": 122,
   "id": "127159ba",
   "metadata": {},
   "outputs": [
    {
     "name": "stdout",
     "output_type": "stream",
     "text": [
      "عیش\n",
      "ایدک\n",
      "ایا\n",
      "جدید\n",
      "دهل\n",
      "سنایی\n",
      "خام\n",
      "تهیجنی\n",
      "نضاره\n",
      "وحوش\n"
     ]
    }
   ],
   "source": [
    "get_word_similarities('عیش', model, 10)"
   ]
  },
  {
   "cell_type": "code",
   "execution_count": 58,
   "id": "10299478",
   "metadata": {
    "scrolled": false
   },
   "outputs": [
    {
     "name": "stdout",
     "output_type": "stream",
     "text": [
      "صافی\n",
      "میخانه\n",
      "فسرد\n",
      "چونک\n",
      "خوشه\n",
      "انگور\n",
      "خورشید\n",
      "اجل\n",
      "دوید\n",
      "غرقه\n",
      "ربود\n",
      "کوی\n",
      "دگران\n",
      "بنگرید\n",
      "پرتو\n",
      "همگی\n",
      "درد\n",
      "اوفتاد\n",
      "پر\n",
      "صحرا\n"
     ]
    }
   ],
   "source": [
    "get_word_similarities('انگور', model, 20)"
   ]
  },
  {
   "cell_type": "code",
   "execution_count": 89,
   "id": "f887b7a0",
   "metadata": {
    "scrolled": true
   },
   "outputs": [
    {
     "name": "stdout",
     "output_type": "stream",
     "text": [
      "خورشید\n",
      "اجل\n",
      "فسرد\n",
      "صافی\n",
      "انگور\n",
      "میخانه\n",
      "خوشه\n",
      "تن\n",
      "چونک\n",
      "طرب\n",
      "نمود\n",
      "رهید\n",
      "پرتو\n",
      "تافت\n",
      "شکرش\n",
      "خرف\n",
      "نیست\n",
      "فشرد\n",
      "تبریز\n",
      "او\n"
     ]
    }
   ],
   "source": [
    "get_word_similarities('انگور', model, 20)"
   ]
  },
  {
   "cell_type": "code",
   "execution_count": 123,
   "id": "add097d9",
   "metadata": {},
   "outputs": [
    {
     "name": "stdout",
     "output_type": "stream",
     "text": [
      "تن\n",
      "صاف\n",
      "فسرد\n",
      "اجل\n",
      "میخانه\n",
      "خوشه\n",
      "انگور\n",
      "چونک\n",
      "خورشید\n",
      "کشید#کش\n",
      "فشرد\n",
      "دست\n",
      "همگی\n",
      "پرتو\n",
      "شنید#شنو\n",
      "درد\n",
      "زن\n",
      "شبه\n",
      "آفتاب\n",
      "عاشق\n"
     ]
    }
   ],
   "source": [
    "get_word_similarities('انگور', model, 20)"
   ]
  },
  {
   "cell_type": "code",
   "execution_count": 62,
   "id": "bb3e7c5a",
   "metadata": {},
   "outputs": [
    {
     "name": "stdout",
     "output_type": "stream",
     "text": [
      "قد\n",
      "صدقه\n",
      "محمود\n",
      "باللقاء\n",
      "بشر\n",
      "دین\n",
      "الکرام\n",
      "نعم\n",
      "حضرته\n",
      "الکریم\n"
     ]
    }
   ],
   "source": [
    "get_word_similarities('بشر', model, 10)"
   ]
  },
  {
   "cell_type": "code",
   "execution_count": 88,
   "id": "3f5d83d9",
   "metadata": {
    "scrolled": true
   },
   "outputs": [
    {
     "name": "stdout",
     "output_type": "stream",
     "text": [
      "صدقه\n",
      "محمود\n",
      "بذاک\n",
      "حضرته\n",
      "الکریم\n",
      "باللقاء\n",
      "یجعلنا\n",
      "بشر\n",
      "قد\n",
      "مورود\n"
     ]
    }
   ],
   "source": [
    "get_word_similarities('بشر', model, 10)"
   ]
  },
  {
   "cell_type": "code",
   "execution_count": 124,
   "id": "5fb841ea",
   "metadata": {},
   "outputs": [
    {
     "name": "stdout",
     "output_type": "stream",
     "text": [
      "محمود\n",
      "حضرته\n",
      "صدقه\n",
      "بذاک\n",
      "باللقاء\n",
      "بشر\n",
      "الکریم\n",
      "یجعلنا\n",
      "قد\n",
      "حمدنا\n"
     ]
    }
   ],
   "source": [
    "get_word_similarities('بشر', model, 10)"
   ]
  },
  {
   "cell_type": "code",
   "execution_count": 99,
   "id": "91dcfbd6",
   "metadata": {},
   "outputs": [
    {
     "name": "stdout",
     "output_type": "stream",
     "text": [
      "باد\n",
      "دید\n",
      "وجود\n",
      "عالم\n",
      "جوید\n",
      "جغدان\n",
      "حلال\n",
      "صد\n",
      "ویرانه\n",
      "باغ\n"
     ]
    }
   ],
   "source": [
    "get_word_similarities('ویرانه', model, 10)"
   ]
  },
  {
   "cell_type": "code",
   "execution_count": 125,
   "id": "83a27fdf",
   "metadata": {},
   "outputs": [
    {
     "name": "stdout",
     "output_type": "stream",
     "text": [
      "دید\n",
      "ویرانه\n",
      "جهان\n",
      "جست#جو\n",
      "ماحضر\n",
      "وجود\n",
      "جغد\n",
      "عالم\n",
      "چشم\n",
      "حلال\n"
     ]
    }
   ],
   "source": [
    "get_word_similarities('ویرانه', model, 10)"
   ]
  },
  {
   "cell_type": "code",
   "execution_count": null,
   "id": "e36eb26e",
   "metadata": {},
   "outputs": [],
   "source": []
  },
  {
   "cell_type": "code",
   "execution_count": null,
   "id": "0759bb2b",
   "metadata": {},
   "outputs": [],
   "source": []
  },
  {
   "cell_type": "code",
   "execution_count": null,
   "id": "94f96c39",
   "metadata": {},
   "outputs": [],
   "source": []
  }
 ],
 "metadata": {
  "kernelspec": {
   "display_name": "Python 3 (ipykernel)",
   "language": "python",
   "name": "python3"
  },
  "language_info": {
   "codemirror_mode": {
    "name": "ipython",
    "version": 3
   },
   "file_extension": ".py",
   "mimetype": "text/x-python",
   "name": "python",
   "nbconvert_exporter": "python",
   "pygments_lexer": "ipython3",
   "version": "3.8.11"
  }
 },
 "nbformat": 4,
 "nbformat_minor": 5
}
